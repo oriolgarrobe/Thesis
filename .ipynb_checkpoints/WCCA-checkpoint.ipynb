{
 "cells": [
  {
   "cell_type": "code",
   "execution_count": 1,
   "metadata": {},
   "outputs": [],
   "source": [
    "import numpy as np"
   ]
  },
  {
   "cell_type": "code",
   "execution_count": 2,
   "metadata": {},
   "outputs": [],
   "source": [
    "class PSU:\n",
    "    def __init__(self, Vout, LS_Ron, Iout, Vin):\n",
    "        self.Vout = Vout\n",
    "        self.LS_Ron = LS_Ron\n",
    "        self.Iout = Iout\n",
    "        self.Vin = Vin\n",
    "        self.HS_Ron = LS_Ron\n",
    "    \n",
    "    def duty_cycle(self):\n",
    "        D = (self.Vout + (self.LS_Ron * self.Iout))/(self.Vin - (self.HS_Ron * self.Iout) + (self.LS_Ron * self.Iout))\n",
    "        return D\n",
    "    \n",
    "    def HS_loss(self):\n",
    "        D = self.duty_cycle()\n",
    "        P_HS_cond = D * self.HS_Ron * self.Iout**2 #Watts\n",
    "        return P_HS_cond\n",
    "\n"
   ]
  },
  {
   "cell_type": "code",
   "execution_count": 3,
   "metadata": {},
   "outputs": [],
   "source": [
    "model = PSU(np.array([3.2, 3.3, 3.4]), \n",
    "            np.array([6.3, 8.3, 11])*1e-3, \n",
    "            np.array([2.64, 3.03, 3.45]), \n",
    "            np.array([13.3, 13.35, 13.37]))"
   ]
  },
  {
   "cell_type": "code",
   "execution_count": 45,
   "metadata": {
    "scrolled": true
   },
   "outputs": [
    {
     "data": {
      "text/plain": [
       "array([0.24185203, 0.24907483, 0.25713912])"
      ]
     },
     "execution_count": 45,
     "metadata": {},
     "output_type": "execute_result"
    }
   ],
   "source": [
    "model.duty_cycle()"
   ]
  },
  {
   "cell_type": "code",
   "execution_count": 4,
   "metadata": {},
   "outputs": [
    {
     "data": {
      "text/plain": [
       "array([0.01061936, 0.01897987, 0.03366658])"
      ]
     },
     "execution_count": 4,
     "metadata": {},
     "output_type": "execute_result"
    }
   ],
   "source": [
    "model.HS_loss()"
   ]
  },
  {
   "cell_type": "code",
   "execution_count": 2,
   "metadata": {},
   "outputs": [
    {
     "data": {
      "text/plain": [
       "array([0.24185203, 0.24907483, 0.25713912])"
      ]
     },
     "execution_count": 2,
     "metadata": {},
     "output_type": "execute_result"
    }
   ],
   "source": [
    "# Duty Cycle: Expected Result for VBat_range = 13.5V -> D3v3 = [0.242, 0.249, 0.257]. OK!\n",
    "\n",
    "# Variables Definition\n",
    "Vout =  np.array([3.2, 3.3, 3.4])       #Vpre_static\n",
    "LS_Ron =  np.array([6.3, 8.3, 11])*1e-3 #Rds_on1 \n",
    "Iout = np.array([2.64, 3.03, 3.45])     #Iload_3V3M \n",
    "Vin = np.array([13.3, 13.35, 13.37])    #Vpre_in V -> INPUT!!!!\n",
    "HS_Ron = LS_Ron                         #Rds_on1 \n",
    "\n",
    "# Formula\n",
    "D = (Vout + (LS_Ron * Iout))/(Vin - (HS_Ron * Iout) + (LS_Ron * Iout))\n",
    "D   "
   ]
  },
  {
   "cell_type": "code",
   "execution_count": 39,
   "metadata": {},
   "outputs": [
    {
     "data": {
      "text/plain": [
       "array([0.01061936, 0.01897987, 0.03366658])"
      ]
     },
     "execution_count": 39,
     "metadata": {},
     "output_type": "execute_result"
    }
   ],
   "source": [
    "# Conduction loss in the High/Low-side MOSFET\n",
    "\n",
    "\n",
    "# High-Side: Expected value ->[10.6, 18.9, 33.7] mW\n",
    "# P_FET_3V3M_HS_cond_loss\n",
    "P_HS_cond = D * HS_Ron * Iout**2 #Watts\n",
    "P_HS_cond"
   ]
  },
  {
   "cell_type": "code",
   "execution_count": 42,
   "metadata": {},
   "outputs": [
    {
     "data": {
      "text/plain": [
       "array([0.01061936, 0.01897987, 0.03366658])"
      ]
     },
     "execution_count": 42,
     "metadata": {},
     "output_type": "execute_result"
    }
   ],
   "source": [
    "model.HS_loss(D)"
   ]
  },
  {
   "cell_type": "code",
   "execution_count": null,
   "metadata": {},
   "outputs": [],
   "source": [
    "# Low-Side: Expected value ->[33.2, 57.1, 97.3] mW\n",
    "# P_FET_3V3M_LS_cond_loss\n",
    "P_LS_cond = (1-D) * LS_Ron * Iout**2 #Watts"
   ]
  },
  {
   "cell_type": "code",
   "execution_count": 4,
   "metadata": {},
   "outputs": [
    {
     "data": {
      "text/plain": [
       "array([ 78.0574872 ,  95.15373367, 116.61378845])"
      ]
     },
     "execution_count": 4,
     "metadata": {},
     "output_type": "execute_result"
    }
   ],
   "source": [
    "#HS Switching-loss in the MOSFET\n",
    "#PFET_3V3M_SW_HS_loss: Expected result -> [77.9, 94.9, 114.4]mW\n",
    "\n",
    "#Variables definition\n",
    "HS_Tsw = 5.17*1e-9                  #TSW_vpre [ns]\n",
    "Fsw = np.array([430, 455, 489])*1e3 #fSW_pre [kHz]\n",
    "\n",
    "#Formula\n",
    "P_HS_sw = (Vin * Iout) * HS_Tsw * Fsw #Watts\n",
    "P_HS_sw*1e3"
   ]
  },
  {
   "cell_type": "code",
   "execution_count": 5,
   "metadata": {},
   "outputs": [
    {
     "data": {
      "text/plain": [
       "array([ 3.8148396,  5.7020964, 10.4664582])"
      ]
     },
     "execution_count": 5,
     "metadata": {},
     "output_type": "execute_result"
    }
   ],
   "source": [
    "#LS Body diode Reverse recovery-loss\n",
    "#PFET_3V3M_SW_LS_loss: Expected result -> [3.808, 5.712, 10.267]\n",
    "\n",
    "#Variables definition\n",
    "Vbody_diode = np.array([0.65, 0.8, 1.2]) #VForward_Voltage1\n",
    "LS_Tsw = HS_Tsw                          #TSW_vpre [ns]\n",
    "\n",
    "#Formula\n",
    "P_LS_sw = (Vbody_diode * Iout) * LS_Tsw * Fsw\n",
    "P_LS_sw*1e3"
   ]
  },
  {
   "cell_type": "code",
   "execution_count": 6,
   "metadata": {},
   "outputs": [
    {
     "data": {
      "text/plain": [
       "array([343.14  , 364.455 , 392.2758])"
      ]
     },
     "execution_count": 6,
     "metadata": {},
     "output_type": "execute_result"
    }
   ],
   "source": [
    "#LS Body diode Reverse recovery-loss\n",
    "#PFET_3V3M_RR_LS_loss: Expected value -> [343.1, 364.3, 385] mW\n",
    "\n",
    "#Variables definition\n",
    "LS_QRR = 120*1e-9 #QRR_charge1 [nC]\n",
    "\n",
    "#Formula\n",
    "P_Qrr = LS_QRR * Vin * Fsw / 2 #[W]\n",
    "P_Qrr*1e3"
   ]
  },
  {
   "cell_type": "code",
   "execution_count": 7,
   "metadata": {},
   "outputs": [
    {
     "data": {
      "text/plain": [
       "array([29.5152, 44.1168, 80.9784])"
      ]
     },
     "execution_count": 7,
     "metadata": {},
     "output_type": "execute_result"
    }
   ],
   "source": [
    "#LS Dead time-loss in the MOSFET body diode\n",
    "#PFET_3V3M_DT_LS_loss: Expected value -> [29.48, 44.22, 79.49]mW\n",
    "\n",
    "#Variables definition\n",
    "DTr = 20*1e-9 #DTrising [ns]\n",
    "DTf = 20*1e-9 #DTfalling [ns]\n",
    "\n",
    "#Formula\n",
    "P_DT = Vbody_diode * Iout * (DTr + DTf) * Fsw #Watts\n",
    "P_DT*1e3"
   ]
  },
  {
   "cell_type": "code",
   "execution_count": 8,
   "metadata": {},
   "outputs": [
    {
     "data": {
      "text/plain": [
       "array([1.05025109, 1.21950577, 1.45076038])"
      ]
     },
     "execution_count": 8,
     "metadata": {},
     "output_type": "execute_result"
    }
   ],
   "source": [
    "#Inductor Ripple current\n",
    "#AI_L_3V3M: Expected result -> [1.05, 1.22, 1.48]\n",
    "\n",
    "#Variables Definition\n",
    "L = np.array([5.4, 4.5, 3.6])*1e-6 #LVPRE [microH] -> For some reason this one is reversed???????\n",
    "\n",
    "#Formula\n",
    "AIL = (Vin - Vout - HS_Ron * Iout) * D / (Fsw * L) # Amperes\n",
    "AIL"
   ]
  },
  {
   "cell_type": "code",
   "execution_count": 9,
   "metadata": {},
   "outputs": [
    {
     "data": {
      "text/plain": [
       "array([ 89.0457539 , 176.79182436, 328.88100297])"
      ]
     },
     "execution_count": 9,
     "metadata": {},
     "output_type": "execute_result"
    }
   ],
   "source": [
    "#Power Dissipated in the inductor\n",
    "#P_Dissip_L_3V3M: Expected result -> [88.83, 176.33, 329.08] mWatts\n",
    "\n",
    "#Variables definition\n",
    "DCR = np.array([12.61, 19, 27.23])*1e-3 #R_DC_L_VPRE_temp [mOhms]\n",
    "\n",
    "#Formula\n",
    "P_L = DCR * (Iout**2 + AIL**2/12) #Watts\n",
    "P_L*1e3"
   ]
  },
  {
   "cell_type": "code",
   "execution_count": 10,
   "metadata": {},
   "outputs": [
    {
     "data": {
      "text/plain": [
       "array([3.16512554, 3.63975289, 4.17538019])"
      ]
     },
     "execution_count": 10,
     "metadata": {},
     "output_type": "execute_result"
    }
   ],
   "source": [
    "#Peak inductor current\n",
    "#I_L_3V3M_PEAK: Expected result -> [3.16, 3.64, 4.19] A\n",
    "\n",
    "Ipeak = Iout + AIL / 2\n",
    "Ipeak"
   ]
  },
  {
   "cell_type": "code",
   "execution_count": 11,
   "metadata": {},
   "outputs": [
    {
     "data": {
      "text/plain": [
       "array([0.00540622, 0.00726436, 0.00961846])"
      ]
     },
     "execution_count": 11,
     "metadata": {},
     "output_type": "execute_result"
    }
   ],
   "source": [
    "#Input capacitors Power Dissipated\n",
    "#P_Dissip_Cin_3V3M: Expected result -> [5.39, 7.24, 9.61] mWatts\n",
    "\n",
    "#Variables definition\n",
    "ESR_Cin = 4.23*1e-3 #ESR_3V3M_IN [mOhms]\n",
    "\n",
    "#Formula\n",
    "I_Cin_rms = Iout * (D * ((1-D) + ((1-D) * HS_Tsw * Vout /(Iout * L))/12))**0.5\n",
    "P_Cin = ESR_Cin * I_Cin_rms**2\n",
    "P_Cin"
   ]
  },
  {
   "cell_type": "code",
   "execution_count": 12,
   "metadata": {
    "scrolled": true
   },
   "outputs": [
    {
     "data": {
      "text/plain": [
       "array([0.55955794, 0.71986639, 0.97831655])"
      ]
     },
     "execution_count": 12,
     "metadata": {},
     "output_type": "execute_result"
    }
   ],
   "source": [
    "#P_Dissip_3V3M_total Matrix\n",
    "P_Dissip_Total_mat = P_HS_cond + P_LS_cond + P_HS_sw + P_L + P_Qrr + P_Cin\n",
    "P_Dissip_Total_mat"
   ]
  },
  {
   "cell_type": "code",
   "execution_count": 13,
   "metadata": {},
   "outputs": [
    {
     "data": {
      "text/plain": [
       "array([0.11726004, 0.1386289 , 0.18513486])"
      ]
     },
     "execution_count": 13,
     "metadata": {},
     "output_type": "execute_result"
    }
   ],
   "source": [
    "#P_Dissip_3V3M_Total_Vector\n",
    "\n",
    "P_IC = np.array([83.93, 88.81, 93.69])*1e-3 # PMIC IC power dissipated [mW] P_Dissip_IC_3V3M ??? This comes from previous formula????\n",
    "\n",
    "P_Dissip_Total_vec = P_LS_sw + P_DT + P_IC\n",
    "P_Dissip_Total_vec"
   ]
  },
  {
   "cell_type": "code",
   "execution_count": 14,
   "metadata": {},
   "outputs": [
    {
     "data": {
      "text/plain": [
       "array([0.67681798, 0.85849529, 1.16345141])"
      ]
     },
     "execution_count": 14,
     "metadata": {},
     "output_type": "execute_result"
    }
   ],
   "source": [
    "#P_Dissip_3V3M_Total: Expected value -> [0.676, 0.858, 1.152] W\n",
    "\n",
    "Pdis = P_Dissip_Total_mat + P_Dissip_Total_vec\n",
    "Pdis"
   ]
  },
  {
   "cell_type": "code",
   "execution_count": 15,
   "metadata": {},
   "outputs": [
    {
     "data": {
      "text/plain": [
       "array([ 8.448,  9.999, 11.73 ])"
      ]
     },
     "execution_count": 15,
     "metadata": {},
     "output_type": "execute_result"
    }
   ],
   "source": [
    "#P out\n",
    "\n",
    "Pout = Iout * Vout #P3v3M [Watts]\n",
    "Pout"
   ]
  },
  {
   "cell_type": "code",
   "execution_count": 22,
   "metadata": {},
   "outputs": [
    {
     "data": {
      "text/plain": [
       "array([0.91 , 0.921, 0.926])"
      ]
     },
     "execution_count": 22,
     "metadata": {},
     "output_type": "execute_result"
    }
   ],
   "source": [
    "# Efficiency n (nu): Expected value -> [0.911, 0.921, 0.926]\n",
    "\n",
    "n = np.flip(Pout) / (np.flip(Pout) + np.flip(Pdis))\n",
    "n.round(3)"
   ]
  },
  {
   "cell_type": "code",
   "execution_count": 23,
   "metadata": {},
   "outputs": [
    {
     "data": {
      "text/plain": [
       "array([0.698, 0.813, 0.948])"
      ]
     },
     "execution_count": 23,
     "metadata": {},
     "output_type": "execute_result"
    }
   ],
   "source": [
    "# Input battery or whatever\n",
    "# I_IN_3V3M\n",
    "I_in = Iout * Vout / (n * Vin)\n",
    "I_in.round(3)"
   ]
  },
  {
   "cell_type": "code",
   "execution_count": 24,
   "metadata": {},
   "outputs": [
    {
     "data": {
      "text/plain": [
       "array([0.697, 0.813, 0.947])"
      ]
     },
     "execution_count": 24,
     "metadata": {},
     "output_type": "execute_result"
    }
   ],
   "source": [
    "n_test = np.array([0.911, 0.921, 0.926])\n",
    "I_in = Iout * Vout / (n_test * Vin)\n",
    "I_in.round(3)"
   ]
  },
  {
   "cell_type": "code",
   "execution_count": 26,
   "metadata": {},
   "outputs": [
    {
     "data": {
      "text/plain": [
       "array([ 9.27332602, 10.85667752, 12.66738661])"
      ]
     },
     "execution_count": 26,
     "metadata": {},
     "output_type": "execute_result"
    }
   ],
   "source": [
    "P_in = I_in * Vin\n",
    "P_in"
   ]
  }
 ],
 "metadata": {
  "kernelspec": {
   "display_name": "Python 3",
   "language": "python",
   "name": "python3"
  },
  "language_info": {
   "codemirror_mode": {
    "name": "ipython",
    "version": 3
   },
   "file_extension": ".py",
   "mimetype": "text/x-python",
   "name": "python",
   "nbconvert_exporter": "python",
   "pygments_lexer": "ipython3",
   "version": "3.7.4"
  }
 },
 "nbformat": 4,
 "nbformat_minor": 4
}
