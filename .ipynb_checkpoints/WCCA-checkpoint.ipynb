{
 "cells": [
  {
   "cell_type": "code",
   "execution_count": 1,
   "metadata": {},
   "outputs": [],
   "source": [
    "import numpy as np"
   ]
  },
  {
   "cell_type": "code",
   "execution_count": 35,
   "metadata": {},
   "outputs": [],
   "source": [
    "class PSU:\n",
    "    def __init__(self, Vout, LS_Ron, Iout, Vin, HS_Tsw, Fsw, Vbody_diode, LS_QRR, DT, L, DCR, ESR_Cin):\n",
    "        self.Vout = Vout                  #Vpre_static\n",
    "        self.LS_Ron = LS_Ron              #Rds_on1\n",
    "        self.HS_Ron = LS_Ron              #Rds_on1\n",
    "        self.Iout = Iout                  #Iload_3V3M\n",
    "        self.Vin = Vin                    #Vpre_in V -> INPUT!!!!\n",
    "        self.HS_Tsw = HS_Tsw              #TSW_vpre [ns]\n",
    "        self.LS_Tsw = HS_Tsw              #TSW_vpre [ns] \n",
    "        self.Fsw = Fsw                    #fSW_pre [kHz]\n",
    "        self.Vbody_diode = Vbody_diode    #VForward_Voltage1\n",
    "        self.LS_QRR = LS_QRR              #QRR_charge1 [nC]\n",
    "        self.DTr = DT                     #DTrising [ns]\n",
    "        self.DTf = DT                     #DTfalling [ns]\n",
    "        self.L = L                        #LVPRE [microH]\n",
    "        self.DCR = DCR                    #R_DC_L_VPRE_temp [mOhms]\n",
    "        self.ESR_Cin = ESR_Cin            #ESR_3V3M_IN [mOhms]\n",
    "        \n",
    "    def duty_cycle(self):\n",
    "        \"\"\"\n",
    "        Duty Cycle -> D3v3\n",
    "        \"\"\"\n",
    "        D = (self.Vout + (self.LS_Ron * self.Iout))/(self.Vin - (self.HS_Ron * self.Iout) + (self.LS_Ron * self.Iout))\n",
    "        return D\n",
    "    \n",
    "    def HS_loss(self):\n",
    "        \"\"\"\n",
    "        Conduction loss in the High-side MOSFET -> P_FET_3V3M_HS_cond_loss\n",
    "        \"\"\"\n",
    "        D = self.duty_cycle()\n",
    "        P_HS_cond = D * self.HS_Ron * self.Iout**2 #Watts\n",
    "        return P_HS_cond\n",
    "    \n",
    "    def LS_loss(self):\n",
    "        \"\"\"\n",
    "        Conduction loss in the Low-side MOSFET -> P_FET_3V3M_LS_cond_loss\n",
    "        \"\"\"\n",
    "        D = self.duty_cycle()\n",
    "        P_LS_cond = (1-D) * self.LS_Ron * self.Iout**2 #Watts\n",
    "        return P_LS_cond\n",
    "    \n",
    "    def SW_HS_loss(self):\n",
    "        \"\"\"\n",
    "        HS Switching-loss in the MOSFET -> PFET_3V3M_SW_HS_loss\n",
    "        \"\"\"\n",
    "        P_HS_sw = (self.Vin * self.Iout) * self.HS_Tsw * self.Fsw #Watts\n",
    "        return P_HS_sw\n",
    "    \n",
    "    def SW_LS_loss(self):\n",
    "        \"\"\"\n",
    "        LS Body diode Reverse recovery-loss -> PFET_3V3M_SW_LS_loss\n",
    "        \"\"\"\n",
    "        P_LS_sw = (self.Vbody_diode * self.Iout) * self.LS_Tsw * self.Fsw #Watts\n",
    "        return P_LS_sw\n",
    "    \n",
    "    def RR_LS_loss(self):\n",
    "        \"\"\"\n",
    "        LS Body diode Reverse recovery-loss -> PFET_3V3M_RR_LS_loss\n",
    "        \"\"\"\n",
    "        P_Qrr = self.LS_QRR * self.Vin * self.Fsw / 2 #Watts\n",
    "        return P_Qrr\n",
    "    \n",
    "    def DT_LS_loss(self):\n",
    "        \"\"\"\n",
    "        LS Dead time-loss in the MOSFET body diode -> PFET_3V3M_DT_LS_loss\n",
    "        \"\"\"\n",
    "        P_DT = self.Vbody_diode * self.Iout * (self.DTr + self.DTf) * self.Fsw #Watts\n",
    "        return P_DT\n",
    "    \n",
    "    def AI_L(self):\n",
    "        \"\"\"\n",
    "        Inductor Ripple current -> AI_L_3V3M\n",
    "        \"\"\"\n",
    "        D = self.duty_cycle()\n",
    "        AIL = (self.Vin - self.Vout - self.HS_Ron * self.Iout) * D / (self.Fsw * self.L) # Amperes\n",
    "        return AIL\n",
    "    \n",
    "    def P_Dis_L(self):\n",
    "        \"\"\"\n",
    "        Power Dissipated in the inductor -> P_Dis_L_3V3M\n",
    "        \"\"\"\n",
    "        AIL = self.AI_L()\n",
    "        P_L = self.DCR * (self.Iout**2 + AIL**2/12) #Watts\n",
    "        return P_L\n",
    "    \n",
    "    def I_L_Peak(self):\n",
    "        \"\"\"\n",
    "        Peak inductor current -> I_L_3V3M_PEAK\n",
    "        \"\"\"\n",
    "        AIL = self.AI_L()\n",
    "        Ipeak = self.Iout + AIL / 2\n",
    "        return Ipeak\n",
    "    \n",
    "    def P_Dis_Cin(self):\n",
    "        \"\"\"\n",
    "        Input capacitors Power Dissipated -> P_Dissip_Cin_3V3M\n",
    "        \"\"\"\n",
    "        D = self.duty_cycle()\n",
    "        I_Cin_rms = self.Iout * (D * ((1-D) + ((1-D) * self.HS_Tsw * self.Vout /(self.Iout * self.L))/12))**0.5\n",
    "        P_Cin = self.ESR_Cin * I_Cin_rms**2\n",
    "        return P_Cin\n",
    "\n"
   ]
  },
  {
   "cell_type": "code",
   "execution_count": 36,
   "metadata": {},
   "outputs": [],
   "source": [
    "model = PSU(np.array([3.2, 3.3, 3.4]), \n",
    "            np.array([6.3, 8.3, 11])*1e-3, \n",
    "            np.array([2.64, 3.03, 3.45]), \n",
    "            np.array([13.3, 13.35, 13.37]),\n",
    "            5.17*1e-9, \n",
    "            np.array([430, 455, 489])*1e3, \n",
    "            np.array([0.65, 0.8, 1.2]),\n",
    "            120*1e-9,\n",
    "            20*1e-9,\n",
    "            np.array([5.4, 4.5, 3.6])*1e-6, \n",
    "            np.array([12.61, 19, 27.23])*1e-3,\n",
    "            4.23*1e-3\n",
    "           )"
   ]
  },
  {
   "cell_type": "code",
   "execution_count": 12,
   "metadata": {
    "scrolled": true
   },
   "outputs": [
    {
     "data": {
      "text/plain": [
       "array([0.55955794, 0.71986639, 0.97831655])"
      ]
     },
     "execution_count": 12,
     "metadata": {},
     "output_type": "execute_result"
    }
   ],
   "source": [
    "#P_Dissip_3V3M_total Matrix\n",
    "P_Dissip_Total_mat = P_HS_cond + P_LS_cond + P_HS_sw + P_L + P_Qrr + P_Cin\n",
    "P_Dissip_Total_mat"
   ]
  },
  {
   "cell_type": "code",
   "execution_count": 13,
   "metadata": {},
   "outputs": [
    {
     "data": {
      "text/plain": [
       "array([0.11726004, 0.1386289 , 0.18513486])"
      ]
     },
     "execution_count": 13,
     "metadata": {},
     "output_type": "execute_result"
    }
   ],
   "source": [
    "#P_Dissip_3V3M_Total_Vector\n",
    "\n",
    "P_IC = np.array([83.93, 88.81, 93.69])*1e-3 # PMIC IC power dissipated [mW] P_Dissip_IC_3V3M ??? This comes from previous formula????\n",
    "\n",
    "P_Dissip_Total_vec = P_LS_sw + P_DT + P_IC\n",
    "P_Dissip_Total_vec"
   ]
  },
  {
   "cell_type": "code",
   "execution_count": 14,
   "metadata": {},
   "outputs": [
    {
     "data": {
      "text/plain": [
       "array([0.67681798, 0.85849529, 1.16345141])"
      ]
     },
     "execution_count": 14,
     "metadata": {},
     "output_type": "execute_result"
    }
   ],
   "source": [
    "#P_Dissip_3V3M_Total: Expected value -> [0.676, 0.858, 1.152] W\n",
    "\n",
    "Pdis = P_Dissip_Total_mat + P_Dissip_Total_vec\n",
    "Pdis"
   ]
  },
  {
   "cell_type": "code",
   "execution_count": 15,
   "metadata": {},
   "outputs": [
    {
     "data": {
      "text/plain": [
       "array([ 8.448,  9.999, 11.73 ])"
      ]
     },
     "execution_count": 15,
     "metadata": {},
     "output_type": "execute_result"
    }
   ],
   "source": [
    "#P out\n",
    "\n",
    "Pout = Iout * Vout #P3v3M [Watts]\n",
    "Pout"
   ]
  },
  {
   "cell_type": "code",
   "execution_count": 22,
   "metadata": {},
   "outputs": [
    {
     "data": {
      "text/plain": [
       "array([0.91 , 0.921, 0.926])"
      ]
     },
     "execution_count": 22,
     "metadata": {},
     "output_type": "execute_result"
    }
   ],
   "source": [
    "# Efficiency n (nu): Expected value -> [0.911, 0.921, 0.926]\n",
    "\n",
    "n = np.flip(Pout) / (np.flip(Pout) + np.flip(Pdis))\n",
    "n.round(3)"
   ]
  },
  {
   "cell_type": "code",
   "execution_count": 23,
   "metadata": {},
   "outputs": [
    {
     "data": {
      "text/plain": [
       "array([0.698, 0.813, 0.948])"
      ]
     },
     "execution_count": 23,
     "metadata": {},
     "output_type": "execute_result"
    }
   ],
   "source": [
    "# Input battery or whatever\n",
    "# I_IN_3V3M\n",
    "I_in = Iout * Vout / (n * Vin)\n",
    "I_in.round(3)"
   ]
  },
  {
   "cell_type": "code",
   "execution_count": 24,
   "metadata": {},
   "outputs": [
    {
     "data": {
      "text/plain": [
       "array([0.697, 0.813, 0.947])"
      ]
     },
     "execution_count": 24,
     "metadata": {},
     "output_type": "execute_result"
    }
   ],
   "source": [
    "n_test = np.array([0.911, 0.921, 0.926])\n",
    "I_in = Iout * Vout / (n_test * Vin)\n",
    "I_in.round(3)"
   ]
  },
  {
   "cell_type": "code",
   "execution_count": 26,
   "metadata": {},
   "outputs": [
    {
     "data": {
      "text/plain": [
       "array([ 9.27332602, 10.85667752, 12.66738661])"
      ]
     },
     "execution_count": 26,
     "metadata": {},
     "output_type": "execute_result"
    }
   ],
   "source": [
    "P_in = I_in * Vin\n",
    "P_in"
   ]
  }
 ],
 "metadata": {
  "kernelspec": {
   "display_name": "Python 3",
   "language": "python",
   "name": "python3"
  },
  "language_info": {
   "codemirror_mode": {
    "name": "ipython",
    "version": 3
   },
   "file_extension": ".py",
   "mimetype": "text/x-python",
   "name": "python",
   "nbconvert_exporter": "python",
   "pygments_lexer": "ipython3",
   "version": "3.7.4"
  }
 },
 "nbformat": 4,
 "nbformat_minor": 4
}
