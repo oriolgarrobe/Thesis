{
 "cells": [
  {
   "cell_type": "code",
   "execution_count": 1,
   "metadata": {},
   "outputs": [],
   "source": [
    "import numpy as np\n",
    "import math\n",
    "from matplotlib import pyplot as plt\n",
    "import time\n",
    "import scipy.stats\n",
    "import pandas as pd\n",
    "import random"
   ]
  },
  {
   "cell_type": "markdown",
   "metadata": {},
   "source": [
    "### Method Of Moments"
   ]
  },
  {
   "cell_type": "code",
   "execution_count": 2,
   "metadata": {},
   "outputs": [
    {
     "data": {
      "text/plain": [
       "(20000, 9)"
      ]
     },
     "execution_count": 2,
     "metadata": {},
     "output_type": "execute_result"
    }
   ],
   "source": [
    "x = np.genfromtxt('data/input.csv', delimiter=',')\n",
    "x.shape"
   ]
  },
  {
   "cell_type": "code",
   "execution_count": 3,
   "metadata": {},
   "outputs": [
    {
     "data": {
      "text/plain": [
       "(20000,)"
      ]
     },
     "execution_count": 3,
     "metadata": {},
     "output_type": "execute_result"
    }
   ],
   "source": [
    "simulation = np.genfromtxt('data/output.csv', delimiter=',')\n",
    "simulation.shape"
   ]
  },
  {
   "cell_type": "code",
   "execution_count": 4,
   "metadata": {
    "scrolled": false
   },
   "outputs": [
    {
     "data": {
      "image/png": "[encoded data removed]",
      "text/plain": [
       "<Figure size 432x288 with 1 Axes>"
      ]
     },
     "metadata": {
      "needs_background": "light"
     },
     "output_type": "display_data"
    }
   ],
   "source": [
    "# Plot historgram\n",
    "plt.hist(simulation, bins = 'auto')\n",
    "plt.xlabel('P_in')\n",
    "plt.show()"
   ]
  },
  {
   "cell_type": "code",
   "execution_count": 5,
   "metadata": {},
   "outputs": [],
   "source": [
    "def get_moments(data):\n",
    "    moments={}\n",
    "    moments['mean'] = np.mean(data)\n",
    "    moments['variance'] = np.var(data)\n",
    "    moments['skew'] = scipy.stats.skew(data)\n",
    "    moments['kurtosis'] = scipy.stats.kurtosis(data)\n",
    "    return moments"
   ]
  },
  {
   "cell_type": "code",
   "execution_count": 6,
   "metadata": {},
   "outputs": [],
   "source": [
    "def uniform_from_moments(data):\n",
    "    return min(simulation), max(simulation) - min(simulation)\n",
    "    "
   ]
  },
  {
   "cell_type": "code",
   "execution_count": 7,
   "metadata": {},
   "outputs": [],
   "source": [
    "# Reference Wackerly [Book Stat Methods]\n",
    "def beta_from_moments(data):\n",
    "    # Scale data\n",
    "    beta_data = (data - min(data)) / (max(data) - min(data))\n",
    "    \n",
    "    # Moments of data\n",
    "    moments = get_moments(beta_data)\n",
    "    \n",
    "    # Sample Measures\n",
    "    Y_bar = moments['mean']\n",
    "    s2 = moments['variance']\n",
    "    \n",
    "    # Distribution Parameters\n",
    "    alpha = Y_bar * (Y_bar*(1 - Y_bar)/s2 - 1)\n",
    "    beta = alpha * (1 - Y_bar) / Y_bar\n",
    "    loc = min(data)\n",
    "    scale = max(data) - min(data)\n",
    "    \n",
    "    return alpha, beta, loc, scale"
   ]
  },
  {
   "cell_type": "code",
   "execution_count": 8,
   "metadata": {},
   "outputs": [],
   "source": [
    "def gamma_from_moments(data):\n",
    "    # Scale data\n",
    "    gamma_data = data - min(data)\n",
    "    \n",
    "    # Moments of data\n",
    "    moments = get_moments(gamma_data)\n",
    "    \n",
    "    # Sample Measures\n",
    "    Y_bar = moments['mean'] \n",
    "    n = len(data)\n",
    "    \n",
    "    # Distribution Parameters\n",
    "    alpha = Y_bar**2 / moments['variance']\n",
    "    beta = Y_bar / alpha\n",
    "    loc = min(data)\n",
    "    \n",
    "    return alpha, loc, beta"
   ]
  },
  {
   "cell_type": "code",
   "execution_count": 9,
   "metadata": {},
   "outputs": [],
   "source": [
    "def norm_from_moments(data):\n",
    "    # Moments of data\n",
    "    moments = get_moments(data)\n",
    "    \n",
    "    # Distribution Parameters\n",
    "    mu = moments['mean']\n",
    "    sigma = moments['variance']**0.5\n",
    "    \n",
    "    return mu, sigma"
   ]
  },
  {
   "cell_type": "code",
   "execution_count": 10,
   "metadata": {},
   "outputs": [],
   "source": [
    "def lognorm_from_moments(data):\n",
    "    #Scale Data\n",
    "    lognorm_data = data - min(data)\n",
    "\n",
    "    # Moments of data\n",
    "    moments = get_moments(lognorm_data)\n",
    "\n",
    "    # Sample Measures\n",
    "    Y_bar = moments['mean']\n",
    "    s2 = moments['variance']\n",
    "\n",
    "    # Distribution parameters\n",
    "    mu = math.log(Y_bar) - 0.5*math.log(s2/Y_bar + 1)\n",
    "    sigma2 = math.log(s2/Y_bar + 1)\n",
    "    \n",
    "    return sigma2**0.5, min(data), math.exp(mu)"
   ]
  },
  {
   "cell_type": "code",
   "execution_count": 11,
   "metadata": {},
   "outputs": [],
   "source": [
    "moments = get_moments(simulation)"
   ]
  },
  {
   "cell_type": "code",
   "execution_count": 12,
   "metadata": {},
   "outputs": [],
   "source": [
    "params_gamma = gamma_from_moments(simulation)\n",
    "simulation.sort()"
   ]
  },
  {
   "cell_type": "code",
   "execution_count": 13,
   "metadata": {
    "scrolled": false
   },
   "outputs": [
    {
     "data": {
      "text/plain": [
       "[<matplotlib.lines.Line2D at 0x204980bd948>]"
      ]
     },
     "execution_count": 13,
     "metadata": {},
     "output_type": "execute_result"
    },
    {
     "data": {
      "image/png": "[encoded data removed]",
      "text/plain": [
       "<Figure size 432x288 with 1 Axes>"
      ]
     },
     "metadata": {
      "needs_background": "light"
     },
     "output_type": "display_data"
    }
   ],
   "source": [
    "import seaborn as sns\n",
    "sns.distplot(a = simulation, kde = False, norm_hist=True)\n",
    "plt.plot(simulation, scipy.stats.gamma.pdf(simulation, *params_gamma))"
   ]
  },
  {
   "cell_type": "code",
   "execution_count": 14,
   "metadata": {},
   "outputs": [
    {
     "data": {
      "text/plain": [
       "(8.112639018532569, 7.802679803484241, 9.629764772420614, 2.4015414814156433)"
      ]
     },
     "execution_count": 14,
     "metadata": {},
     "output_type": "execute_result"
    }
   ],
   "source": [
    "params_beta = beta_from_moments(simulation)\n",
    "params_beta"
   ]
  },
  {
   "cell_type": "code",
   "execution_count": 15,
   "metadata": {},
   "outputs": [
    {
     "data": {
      "text/plain": [
       "[<matplotlib.lines.Line2D at 0x204983cb208>]"
      ]
     },
     "execution_count": 15,
     "metadata": {},
     "output_type": "execute_result"
    },
    {
     "data": {
      "image/png": "[encoded data removed]",
      "text/plain": [
       "<Figure size 432x288 with 1 Axes>"
      ]
     },
     "metadata": {
      "needs_background": "light"
     },
     "output_type": "display_data"
    }
   ],
   "source": [
    "sns.distplot(a = simulation, kde = False, norm_hist=True)\n",
    "plt.plot(simulation, scipy.stats.beta.pdf(simulation, *params_beta))"
   ]
  },
  {
   "cell_type": "code",
   "execution_count": 16,
   "metadata": {},
   "outputs": [
    {
     "data": {
      "text/plain": [
       "(10.853921155628283, 0.2919023720919819)"
      ]
     },
     "execution_count": 16,
     "metadata": {},
     "output_type": "execute_result"
    }
   ],
   "source": [
    "params_normal = norm_from_moments(simulation)\n",
    "params_normal"
   ]
  },
  {
   "cell_type": "code",
   "execution_count": 17,
   "metadata": {},
   "outputs": [
    {
     "data": {
      "text/plain": [
       "[<matplotlib.lines.Line2D at 0x204984eb048>]"
      ]
     },
     "execution_count": 17,
     "metadata": {},
     "output_type": "execute_result"
    },
    {
     "data": {
      "image/png": "[encoded data removed]",
      "text/plain": [
       "<Figure size 432x288 with 1 Axes>"
      ]
     },
     "metadata": {
      "needs_background": "light"
     },
     "output_type": "display_data"
    }
   ],
   "source": [
    "sns.distplot(a = simulation, kde = False, norm_hist=True)\n",
    "plt.plot(simulation, scipy.stats.norm.pdf(simulation, *params_normal))"
   ]
  }
 ],
 "metadata": {
  "kernelspec": {
   "display_name": "Python 3",
   "language": "python",
   "name": "python3"
  },
  "language_info": {
   "codemirror_mode": {
    "name": "ipython",
    "version": 3
   },
   "file_extension": ".py",
   "mimetype": "text/x-python",
   "name": "python",
   "nbconvert_exporter": "python",
   "pygments_lexer": "ipython3",
   "version": "3.7.4"
  }
 },
 "nbformat": 4,
 "nbformat_minor": 2
}
