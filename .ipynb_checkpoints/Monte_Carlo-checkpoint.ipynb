{
 "cells": [
  {
   "cell_type": "code",
   "execution_count": 1,
   "metadata": {},
   "outputs": [],
   "source": [
    "import numpy as np\n",
    "import math\n",
    "import random\n",
    "from matplotlib import pyplot as plt\n",
    "import time"
   ]
  },
  {
   "cell_type": "code",
   "execution_count": 45,
   "metadata": {},
   "outputs": [],
   "source": [
    "def rand_uni(array):\n",
    "    #return random.uniform(array[0], array[2])\n",
    "    return random.gauss(array[1], (array[2]-array[1])/3)"
   ]
  },
  {
   "cell_type": "code",
   "execution_count": null,
   "metadata": {},
   "outputs": [],
   "source": [
    "ra"
   ]
  },
  {
   "cell_type": "code",
   "execution_count": 28,
   "metadata": {},
   "outputs": [],
   "source": [
    "Vout = np.array([3.2, 3.3, 3.4])\n",
    "LS_Ron = np.array([6.3, 8.3, 11])*1e-3\n",
    "Iout = np.array([2.64, 3.03, 3.45])\n",
    "Vin = np.array([13.3, 13.35, 13.37])\n",
    "HS_Tsw = 5.17*1e-9\n",
    "Fsw = np.array([430, 455, 489])*1e3\n",
    "Vbody_diode = np.array([0.65, 0.8, 1.2])\n",
    "LS_QRR = 120*1e-9\n",
    "DT = 20*1e-9\n",
    "L = np.array([5.4, 4.5, 3.6])*1e-6\n",
    "DCR = np.array([12.61, 19, 27.23])*1e-3\n",
    "ESR_Cin = 4.23*1e-3\n",
    "P_IC = np.array([83.93, 88.81, 93.69])*1e-3"
   ]
  },
  {
   "cell_type": "code",
   "execution_count": 30,
   "metadata": {},
   "outputs": [
    {
     "data": {
      "text/plain": [
       "array([ 9.28592306, 10.85749529, 12.66975792])"
      ]
     },
     "execution_count": 30,
     "metadata": {},
     "output_type": "execute_result"
    }
   ],
   "source": [
    "model = PSU(Vout, LS_Ron, Iout, Vin, HS_Tsw, Fsw, Vbody_diode, LS_QRR, DT, L, DCR, ESR_Cin, P_IC)\n",
    "model.P_in()"
   ]
  },
  {
   "cell_type": "code",
   "execution_count": 8,
   "metadata": {},
   "outputs": [
    {
     "name": "stdout",
     "output_type": "stream",
     "text": [
      "0\n",
      "1\n",
      "2\n",
      "3\n",
      "4\n",
      "5\n",
      "6\n",
      "7\n",
      "8\n",
      "9\n"
     ]
    }
   ],
   "source": [
    "\n",
    "for i in range(10):\n",
    "    print(i)"
   ]
  },
  {
   "cell_type": "code",
   "execution_count": 33,
   "metadata": {},
   "outputs": [],
   "source": [
    "def simulation(n_points):\n",
    "    \"\"\"\n",
    "    Function that simulates observations for bla bla. \n",
    "    Input:\n",
    "    - n_points : number of points simulated\n",
    "    - dist_components: distributon assumed for the components\n",
    "    \"\"\"\n",
    "    y = np.zeros(n_points)\n",
    "    for i in range(n_points):\n",
    "        Vout_r = rand_uni(Vout)\n",
    "        LS_Ron_r = rand_uni(LS_Ron)\n",
    "        Iout_r = rand_uni(Iout)\n",
    "        Vin_r = rand_uni(Vin)\n",
    "        HS_Tsw = 5.17*1e-9\n",
    "        Fsw_r = rand_uni(Fsw)\n",
    "        Vbody_diode_r = rand_uni(Vbody_diode)\n",
    "        LS_QRR = 120*1e-9\n",
    "        DT = 20*1e-9\n",
    "        L_r = rand_uni(L)\n",
    "        DCR_r = rand_uni(DCR)\n",
    "        ESR_Cin = 4.23*1e-3\n",
    "        P_IC_r = rand_uni(P_IC)\n",
    "\n",
    "        model_PSU = PSU(Vout_r, LS_Ron_r, Iout_r, Vin_r, HS_Tsw, Fsw_r, Vbody_diode_r, LS_QRR, DT, L_r, DCR_r, ESR_Cin, P_IC_r)\n",
    "        \n",
    "        y[i] = model_PSU.P_in()\n",
    "    return y"
   ]
  },
  {
   "cell_type": "code",
   "execution_count": 46,
   "metadata": {},
   "outputs": [
    {
     "data": {
      "text/plain": [
       "11.824477597483195"
      ]
     },
     "execution_count": 46,
     "metadata": {},
     "output_type": "execute_result"
    }
   ],
   "source": [
    "Vout_r = rand_uni(Vout)\n",
    "LS_Ron_r = rand_uni(LS_Ron)\n",
    "Iout_r = rand_uni(Iout)\n",
    "Vin_r = rand_uni(Vin)\n",
    "HS_Tsw = 5.17*1e-9\n",
    "Fsw_r = rand_uni(Fsw)\n",
    "Vbody_diode_r = rand_uni(Vbody_diode)\n",
    "LS_QRR = 120*1e-9\n",
    "DT = 20*1e-9\n",
    "L_r = rand_uni(L)\n",
    "DCR_r = rand_uni(DCR)\n",
    "ESR_Cin = 4.23*1e-3\n",
    "P_IC_r = rand_uni(P_IC)\n",
    "\n",
    "model_PSU = PSU(Vout_r, LS_Ron_r, Iout_r, Vin_r, HS_Tsw, Fsw_r, Vbody_diode_r, LS_QRR, DT, L_r, DCR_r, ESR_Cin, P_IC_r)\n",
    "\n",
    "model_PSU.P_in()"
   ]
  },
  {
   "cell_type": "code",
   "execution_count": 47,
   "metadata": {},
   "outputs": [
    {
     "data": {
      "text/plain": [
       "array([10.42882071, 10.9015733 , 10.23173029, ..., 10.36187958,\n",
       "       10.82998279, 10.61809688])"
      ]
     },
     "execution_count": 47,
     "metadata": {},
     "output_type": "execute_result"
    }
   ],
   "source": [
    "test_array = simulation(50000)\n",
    "test_array"
   ]
  },
  {
   "cell_type": "code",
   "execution_count": 48,
   "metadata": {},
   "outputs": [
    {
     "data": {
      "image/png": "[encoded data removed]",
      "text/plain": [
       "<Figure size 432x288 with 1 Axes>"
      ]
     },
     "metadata": {
      "needs_background": "light"
     },
     "output_type": "display_data"
    }
   ],
   "source": [
    "plt.hist(test_array, bins = 'auto')\n",
    "plt.show()"
   ]
  },
  {
   "cell_type": "code",
   "execution_count": 67,
   "metadata": {},
   "outputs": [
    {
     "data": {
      "text/plain": [
       "(array([1, 2, 0, 0, 1, 2, 0, 0, 2, 2], dtype=int64),\n",
       " array([ 9.64772358,  9.8610269 , 10.07433022, 10.28763354, 10.50093686,\n",
       "        10.71424018, 10.9275435 , 11.14084682, 11.35415013, 11.56745345,\n",
       "        11.78075677]))"
      ]
     },
     "execution_count": 67,
     "metadata": {},
     "output_type": "execute_result"
    }
   ],
   "source": [
    "np.histogram(test_array)"
   ]
  },
  {
   "cell_type": "code",
   "execution_count": null,
   "metadata": {},
   "outputs": [],
   "source": [
    "\"whats going on\""
   ]
  },
  {
   "cell_type": "code",
   "execution_count": null,
   "metadata": {},
   "outputs": [],
   "source": []
  },
  {
   "cell_type": "code",
   "execution_count": null,
   "metadata": {},
   "outputs": [],
   "source": []
  },
  {
   "cell_type": "code",
   "execution_count": null,
   "metadata": {},
   "outputs": [],
   "source": []
  },
  {
   "cell_type": "code",
   "execution_count": null,
   "metadata": {},
   "outputs": [],
   "source": []
  },
  {
   "cell_type": "code",
   "execution_count": null,
   "metadata": {},
   "outputs": [],
   "source": []
  },
  {
   "cell_type": "code",
   "execution_count": null,
   "metadata": {},
   "outputs": [],
   "source": []
  },
  {
   "cell_type": "code",
   "execution_count": null,
   "metadata": {},
   "outputs": [],
   "source": [
    "# For Simulation Assuming Distributions\n",
    "\n",
    "for i in range(10):\n",
    "    print(random.gauss(0,1))"
   ]
  },
  {
   "cell_type": "code",
   "execution_count": 16,
   "metadata": {},
   "outputs": [
    {
     "name": "stdout",
     "output_type": "stream",
     "text": [
      "3994208\n"
     ]
    }
   ],
   "source": [
    "# Monte Carlo simulations\n",
    "\n",
    "def io_20(Vin):\n",
    "    V1 = Vin * random.uniform(1,2)\n",
    "    V2 = V1 * random.uniform(1,2)\n",
    "    V3 = V2 * random.uniform(1,2)\n",
    "    V4 = V3 * random.uniform(1,2)\n",
    "    V5 = V4 * random.uniform(1,2)\n",
    "    V6 = V5 * random.uniform(1,2)\n",
    "    V7 = V6 * random.uniform(1,2)\n",
    "    V8 = V7 * random.uniform(1,2)\n",
    "    V9 = V8 * random.uniform(1,2)\n",
    "    V10 = V9 * random.uniform(1,2)\n",
    "    V11 = V10 * random.uniform(1,2)\n",
    "    V12 = V11 * random.uniform(1,2)\n",
    "    V13 = V12 * random.uniform(1,2)\n",
    "    V14 = V13 * random.uniform(1,2)\n",
    "    V15 = V14 * random.uniform(1,2)\n",
    "    V16 = V15 * random.uniform(1,2)\n",
    "    V17 = V16 * random.uniform(1,2)\n",
    "    V18 = V17 * random.uniform(1,2)\n",
    "    V19 = V18 * random.uniform(1,2)\n",
    "    V20 = V19 * random.uniform(1,2)\n",
    "    return(0)\n",
    "\n",
    "start_time = time.time()\n",
    "i = 0\n",
    "while tot_time < 60:\n",
    "    io_20(13)\n",
    "    end_time = time.time()\n",
    "    tot_time = end_time - start_time\n",
    "    i += 1\n",
    "print(i)"
   ]
  },
  {
   "cell_type": "code",
   "execution_count": 44,
   "metadata": {},
   "outputs": [],
   "source": [
    "?random.gauss"
   ]
  },
  {
   "cell_type": "code",
   "execution_count": 18,
   "metadata": {},
   "outputs": [
    {
     "name": "stdout",
     "output_type": "stream",
     "text": [
      "1777294\n"
     ]
    }
   ],
   "source": [
    "# Monte Carlo simulations\n",
    "\n",
    "def gio_20(Vin):\n",
    "    V1 = Vin * random.gauss(1,2)\n",
    "    V2 = V1 * random.gauss(1,2)\n",
    "    V3 = V2 * random.gauss(1,2)\n",
    "    V4 = V3 * random.gauss(1,2)\n",
    "    V5 = V4 * random.gauss(1,2)\n",
    "    V6 = V5 * random.gauss(1,2)\n",
    "    V7 = V6 * random.gauss(1,2)\n",
    "    V8 = V7 * random.gauss(1,2)\n",
    "    V9 = V8 * random.gauss(1,2)\n",
    "    V10 = V9 * random.gauss(1,2)\n",
    "    V11 = V10 * random.gauss(1,2)\n",
    "    V12 = V11 * random.gauss(1,2)\n",
    "    V13 = V12 * random.gauss(1,2)\n",
    "    V14 = V13 * random.gauss(1,2)\n",
    "    V15 = V14 * random.gauss(1,2)\n",
    "    V16 = V15 * random.gauss(1,2)\n",
    "    V17 = V16 * random.gauss(1,2)\n",
    "    V18 = V17 * random.gauss(1,2)\n",
    "    V19 = V18 * random.gauss(1,2)\n",
    "    V20 = V19 * random.gauss(1,2)\n",
    "    return(0)\n",
    "\n",
    "start_time = time.time()\n",
    "tot_time = 0\n",
    "i = 0\n",
    "while tot_time < 60:\n",
    "    gio_20(13)\n",
    "    end_time = time.time()\n",
    "    tot_time = end_time - start_time\n",
    "    i += 1\n",
    "print(i)"
   ]
  }
 ],
 "metadata": {
  "kernelspec": {
   "display_name": "Python 3",
   "language": "python",
   "name": "python3"
  },
  "language_info": {
   "codemirror_mode": {
    "name": "ipython",
    "version": 3
   },
   "file_extension": ".py",
   "mimetype": "text/x-python",
   "name": "python",
   "nbconvert_exporter": "python",
   "pygments_lexer": "ipython3",
   "version": "3.8.5"
  }
 },
 "nbformat": 4,
 "nbformat_minor": 4
}
