{
 "cells": [
  {
   "cell_type": "code",
   "execution_count": 1,
   "metadata": {},
   "outputs": [],
   "source": [
    "import numpy as np\n",
    "import math\n",
    "import random\n",
    "from matplotlib import pyplot as plt\n",
    "import time\n",
    "import scipy.stats\n",
    "import pandas as pd"
   ]
  },
  {
   "cell_type": "code",
   "execution_count": 2,
   "metadata": {},
   "outputs": [],
   "source": [
    "Vout = np.array([3.2, 3.3, 3.4])\n",
    "LS_Ron = np.array([6.3, 8.3, 11])*1e-3\n",
    "Iout = np.array([2.64, 3.03, 3.45])\n",
    "Vin = np.array([13.3, 13.35, 13.37])\n",
    "#HS_Tsw = 5.17*1e-9\n",
    "Fsw = np.array([430, 455, 489])*1e3\n",
    "Vbody_diode = np.array([0.65, 0.8, 1.2])\n",
    "#LS_QRR = 120*1e-9\n",
    "#DT = 20*1e-9\n",
    "L = np.array([5.4, 4.5, 3.6])*1e-6\n",
    "DCR = np.array([12.61, 19, 27.23])*1e-3\n",
    "#ESR_Cin = 4.23*1e-3\n",
    "P_IC = np.array([83.93, 88.81, 93.69])*1e-3"
   ]
  },
  {
   "cell_type": "code",
   "execution_count": 3,
   "metadata": {
    "scrolled": true
   },
   "outputs": [
    {
     "data": {
      "text/plain": [
       "array([ 9.28592306, 10.85749529, 12.66975792])"
      ]
     },
     "execution_count": 3,
     "metadata": {},
     "output_type": "execute_result"
    }
   ],
   "source": [
    "from PSU_class import PSU\n",
    "\n",
    "model = PSU(Vout, LS_Ron, Iout, Vin, Fsw, Vbody_diode, L, DCR, P_IC)\n",
    "model.P_in()"
   ]
  },
  {
   "cell_type": "code",
   "execution_count": 4,
   "metadata": {
    "scrolled": true
   },
   "outputs": [
    {
     "data": {
      "text/plain": [
       "array([0.6981897 , 0.81329553, 0.94762587])"
      ]
     },
     "execution_count": 4,
     "metadata": {},
     "output_type": "execute_result"
    }
   ],
   "source": [
    "model.I_in()"
   ]
  },
  {
   "cell_type": "code",
   "execution_count": 5,
   "metadata": {},
   "outputs": [
    {
     "data": {
      "text/plain": [
       "(3,)"
      ]
     },
     "execution_count": 5,
     "metadata": {},
     "output_type": "execute_result"
    }
   ],
   "source": [
    "a = model.I_in()\n",
    "a.shape"
   ]
  },
  {
   "cell_type": "code",
   "execution_count": 6,
   "metadata": {},
   "outputs": [],
   "source": [
    "def randomize(tolerance, dist=\"Nominal\", cpk = 1.67):\n",
    "    \"\"\"\n",
    "    Function that returns a value within specified margins given component properties.\n",
    "    Input:\n",
    "       - Tolerance: Numpy Array. Properties of the electronic component. Array with shape = (3,).\n",
    "       - dist: String. Statistical distribution from which to sample.\n",
    "         * Uni: samples a value from a uniform distribution.\n",
    "         * Gauss: samples a value from a Gaussian distribution.\n",
    "         * Nominal: returns the nominal value.\n",
    "       - cpk: Float. Process capability required for the component.\n",
    "    Output:\n",
    "       - Float. Sampled from distribution.\n",
    "    \"\"\"\n",
    "    if dist == \"Uni\":\n",
    "        return random.uniform(tolerance[0], tolerance[2])\n",
    "    elif dist == \"Gauss\":\n",
    "        mu = tolerance[1]\n",
    "        sigma = (tolerance[2]-tolerance[0])/(6 * cpk)\n",
    "        return random.gauss(mu, sigma)\n",
    "    else:\n",
    "        return tolerance[1]\n",
    "    "
   ]
  },
  {
   "cell_type": "code",
   "execution_count": 7,
   "metadata": {},
   "outputs": [],
   "source": [
    "def simulation(n_points, base_model, base_class, dist):#, sens_var, sens_dist):\n",
    "    \"\"\"\n",
    "    Function that simulates observations for bla bla. \n",
    "    Input:\n",
    "    - n_points : number of points simulated\n",
    "    - dist_components: distributon assumed for the components\n",
    "    \"\"\"\n",
    "    y = np.zeros(n_points)\n",
    "    for i in range(n_points):\n",
    "        \n",
    "        # Randomize numbers\n",
    "        Vout_r = randomize(base_model.Vout, dist)\n",
    "        LS_Ron_r = randomize(base_model.LS_Ron, dist)\n",
    "        Iout_r = randomize(base_model.Iout, dist)\n",
    "        Vin_r = randomize(base_model.Vin, dist)\n",
    "        Fsw_r = randomize(base_model.Fsw, dist)\n",
    "        Vbody_diode_r = randomize(base_model.Vbody_diode, dist)\n",
    "        L_r = randomize(base_model.L, dist)\n",
    "        DCR_r = randomize(base_model.DCR, dist)\n",
    "        P_IC_r = randomize(base_model.P_IC, dist)\n",
    "        \n",
    "        #Sensible Analysis\n",
    "        # modify one value to plug into the class\n",
    "        # \"sens_var\" = randomize(base_model.\"sens_var\", sens_dist)\n",
    "\n",
    "        sim_PSU = base_class(Vout_r, LS_Ron_r, Iout_r, Vin_r, Fsw_r, Vbody_diode_r, L_r, DCR_r, P_IC_r)\n",
    "        \n",
    "        y[i] = sim_PSU.P_in()\n",
    "    return y"
   ]
  },
  {
   "cell_type": "code",
   "execution_count": 58,
   "metadata": {},
   "outputs": [
    {
     "data": {
      "text/plain": [
       "array([11.91981246, 12.04859857, 11.86658892, ..., 11.27173374,\n",
       "       10.84811676,  9.90834458])"
      ]
     },
     "execution_count": 58,
     "metadata": {},
     "output_type": "execute_result"
    }
   ],
   "source": [
    "test_array = simulation(20000, model, PSU, \"Uni\")\n",
    "test_array"
   ]
  },
  {
   "cell_type": "code",
   "execution_count": 59,
   "metadata": {
    "scrolled": true
   },
   "outputs": [
    {
     "data": {
      "image/png": "[encoded data removed]",
      "text/plain": [
       "<Figure size 432x288 with 1 Axes>"
      ]
     },
     "metadata": {
      "needs_background": "light"
     },
     "output_type": "display_data"
    }
   ],
   "source": [
    "plt.hist(test_array, bins = 'auto')\n",
    "plt.show()"
   ]
  },
  {
   "cell_type": "markdown",
   "metadata": {},
   "source": [
    "### Chi-Square"
   ]
  },
  {
   "cell_type": "code",
   "execution_count": 10,
   "metadata": {},
   "outputs": [],
   "source": [
    "from sklearn.preprocessing import StandardScaler\n",
    "\n",
    "def standarise(y,pct,pct_lower):\n",
    "    sc = StandardScaler() \n",
    "    y.sort()\n",
    "    len_y = len(y)\n",
    "    y = y[int(pct_lower * len_y):int(len_y * pct)]\n",
    "    len_y = len(y)\n",
    "    yy=([[x] for x in y])\n",
    "    sc.fit(yy)\n",
    "    y_std =sc.transform(yy)\n",
    "    y_std = y_std.flatten()\n",
    "    return y_std,len_y,y"
   ]
  },
  {
   "cell_type": "code",
   "execution_count": 60,
   "metadata": {},
   "outputs": [],
   "source": [
    "# github.com/samread81/Distribution-Fitting-Used_Car_Dataset/blob/master/Workbook.ipynb\n",
    "def fit_distribution(data_raw, distribution):\n",
    "    data = normalize_data(data_raw)\n",
    "    dist = getattr(scipy.stats, distribution)\n",
    "    param = dist.fit(data)\n",
    "    return dist, param\n",
    "\n",
    "def compute_chi_square(data):\n",
    "    #size = len(data)\n",
    "    #data = normalize_data(data_raw)\n",
    "    y,size,_ = standarise(data, 0.99, 0.01)\n",
    "    dist_names = ['weibull_min', 'norm', 'weibull_max', 'beta', 'invgauss',\n",
    "                  'uniform', 'gamma', 'expon', 'lognorm', 'pearson3', 'triang']\n",
    "    \n",
    "    chi_square_statistics = []\n",
    "    log_likelihood = []\n",
    "    \n",
    "    # Bins\n",
    "    percentile_bins = np.linspace(0,100, 11)\n",
    "    percentile_cutoffs = np.percentile(y, percentile_bins)\n",
    "    obs_frequency, _ = np.histogram(y, bins=percentile_cutoffs)\n",
    "    cum_obs_frequency = np.cumsum(obs_frequency)\n",
    "    \n",
    "    # Check candidate distributions\n",
    "    for distribution in dist_names:\n",
    "        # Set up candidate distribution\n",
    "        \n",
    "        dist = getattr(scipy.stats, distribution)\n",
    "        param = dist.fit(y)\n",
    "        log_likelihood.append(np.sum(np.log(dist.pdf(y, *param))))\n",
    "        print('Distribution: ' + distribution + ' || Parameters: ' + str(param))# + '|| Log-likelihood: ' + \n",
    "              #str(log_likelihood) + '\\n')\n",
    "        \n",
    "        # CDF\n",
    "        cdf_fit = dist.cdf(percentile_cutoffs, *param)\n",
    "        expected_frequency = []\n",
    "        for bin in range(len(percentile_bins)-1):\n",
    "            expected_cdf_area = cdf_fit[bin+1] - cdf_fit[bin]\n",
    "            expected_frequency.append(expected_cdf_area)\n",
    "        \n",
    "        # Chi-Square\n",
    "        expected_frequency = np.array(expected_frequency) * size\n",
    "        cum_expected_frequency = np.cumsum(expected_frequency)\n",
    "        ss = round(sum (((cum_expected_frequency - cum_obs_frequency) ** 2) / cum_obs_frequency), 0)\n",
    "        chi_square_statistics.append(ss)\n",
    "    \n",
    "    # Sort\n",
    "    results = pd.DataFrame()\n",
    "    results['Distribution'] = dist_names\n",
    "    results['Log_likelihood'] = log_likelihood\n",
    "    results['Chi_square'] = chi_square_statistics\n",
    "    results.sort_values(['Chi_square'], inplace=True)\n",
    "    \n",
    "    print('\\nDistributions listed by Goodness of Fit:')\n",
    "    print('..........................................')\n",
    "    print(results)   \n",
    "    "
   ]
  },
  {
   "cell_type": "code",
   "execution_count": 61,
   "metadata": {
    "scrolled": true
   },
   "outputs": [
    {
     "name": "stdout",
     "output_type": "stream",
     "text": [
      "Distribution: weibull_min || Parameters: (2.31272342830387, -2.1486318154065787, 2.4280000107042365)\n",
      "Distribution: norm || Parameters: (-1.8097088453645e-15, 1.0)\n",
      "Distribution: weibull_max || Parameters: (2.652714259029898, 2.405404098108269, 2.712552450891841)\n",
      "Distribution: beta || Parameters: (1.2620678584939182, 1.321422272894333, -1.836232661379892, 3.761021376902425)\n",
      "Distribution: invgauss || Parameters: (0.02822049439179984, -6.098371503490192, 215.8391282044497)\n",
      "Distribution: uniform || Parameters: (-1.8358286183560393, 3.7589159267201255)\n",
      "Distribution: gamma || Parameters: (4428.469526162027, -66.54895043011908, 0.015027438830231148)\n",
      "Distribution: expon || Parameters: (-1.8358286183560393, 1.8358286183560375)\n",
      "Distribution: lognorm || Parameters: (0.03230831936890316, -30.967172856996193, 30.950912795546046)\n",
      "Distribution: pearson3 || Parameters: (0.1962738741505209, -2.730063136076446e-15, 1.0027600739763027)\n",
      "Distribution: triang || Parameters: (0.3619195472184662, -2.0661236724779846, 4.398469875743664)\n",
      "\n",
      "Distributions listed by Goodness of Fit:\n",
      "..........................................\n",
      "   Distribution  Log_likelihood  Chi_square\n",
      "3          beta   -25545.719080        25.0\n",
      "5       uniform   -25952.959730       302.0\n",
      "0   weibull_min   -27311.546365       924.0\n",
      "10       triang   -26890.935592      1125.0\n",
      "4      invgauss   -27866.174277      1192.0\n",
      "9      pearson3   -27802.109136      1609.0\n",
      "8       lognorm   -27806.882071      1780.0\n",
      "6         gamma   -27808.631313      1900.0\n",
      "1          norm   -27811.195251      1962.0\n",
      "2   weibull_max   -27411.861673      2262.0\n",
      "7         expon   -31506.920477      9959.0\n"
     ]
    }
   ],
   "source": [
    "compute_chi_square(test_array)"
   ]
  },
  {
   "cell_type": "code",
   "execution_count": null,
   "metadata": {},
   "outputs": [],
   "source": [
    "def LRT(dist1, dist2, param):\n",
    "    pass"
   ]
  },
  {
   "cell_type": "code",
   "execution_count": 63,
   "metadata": {},
   "outputs": [
    {
     "data": {
      "text/plain": [
       "-814.4812999999995"
      ]
     },
     "execution_count": 63,
     "metadata": {},
     "output_type": "execute_result"
    }
   ],
   "source": [
    "Q = 2*(-25952.959730 + 25545.719080)\n",
    "Q"
   ]
  },
  {
   "cell_type": "code",
   "execution_count": 64,
   "metadata": {},
   "outputs": [],
   "source": [
    "# number of datasets\n",
    "n = 1000\n",
    "\n",
    "# model 1 - beta\n",
    "param = np.array([1.2620678584939182, 1.321422272894333, -1.836232661379892, 3.761021376902425])\n",
    "dist1 = 'beta'\n",
    "\n",
    "#model 2 - uniform\n",
    "param2 = np.array([-1.8358286183560393, 3.7589159267201255])\n",
    "dist2 = 'uniform'\n",
    "\n",
    "#Q = 2*(-130462.598300 + 128071.407941)\n",
    "Q_array = np.zeros(n)\n",
    "\n",
    "\n",
    "for i in range(n):\n",
    "    # 1. generate dataset\n",
    "    test_data = scipy.stats.beta.rvs(*param, size = 20000)\n",
    "    \n",
    "    # 2. Fit models\n",
    "    dist_A = getattr(scipy.stats, dist1)\n",
    "    param_A = dist_A.fit(test_data)\n",
    "    log_likelihood_A = np.sum(np.log(dist_A.pdf(test_data, *param_A)))\n",
    "    \n",
    "    dist_B = getattr(scipy.stats, dist2)\n",
    "    param_B = dist_B.fit(test_data)\n",
    "    log_likelihood_B = np.sum(np.log(dist_B.pdf(test_data, *param_B)))\n",
    "    \n",
    "    # Cmpute Qi\n",
    "    Q_i = 2 * (log_likelihood_B - log_likelihood_A)\n",
    "    Q_array[i] = Q_i\n",
    "\n",
    "p_value = np.sum(Q_array > Q) / n"
   ]
  },
  {
   "cell_type": "code",
   "execution_count": 65,
   "metadata": {},
   "outputs": [],
   "source": [
    "if Q > np.quantile(Q_array, 0.95):\n",
    "    print('select model B')"
   ]
  },
  {
   "cell_type": "code",
   "execution_count": 66,
   "metadata": {},
   "outputs": [
    {
     "data": {
      "text/plain": [
       "-814.4812999999995"
      ]
     },
     "execution_count": 66,
     "metadata": {},
     "output_type": "execute_result"
    }
   ],
   "source": [
    "Q"
   ]
  },
  {
   "cell_type": "code",
   "execution_count": 67,
   "metadata": {},
   "outputs": [
    {
     "data": {
      "text/plain": [
       "-746.3508827132955"
      ]
     },
     "execution_count": 67,
     "metadata": {},
     "output_type": "execute_result"
    }
   ],
   "source": [
    "np.quantile(Q_array, 0.95)"
   ]
  },
  {
   "cell_type": "markdown",
   "metadata": {},
   "source": [
    "## Choose Model"
   ]
  },
  {
   "cell_type": "markdown",
   "metadata": {},
   "source": [
    "### Non-Nested Likelihood Ratio Test"
   ]
  },
  {
   "cell_type": "code",
   "execution_count": null,
   "metadata": {},
   "outputs": [],
   "source": [
    "### Computations of the test\n",
    "from scipy.stats import norm\n",
    "\n",
    "data = [1,2,3,4,5]\n",
    "m,s = norm.fit(data)\n",
    "log_likelihood = np.log(np.product(norm.pdf(data,m,s)))\n",
    "log_likelihood"
   ]
  },
  {
   "cell_type": "code",
   "execution_count": null,
   "metadata": {},
   "outputs": [],
   "source": [
    "dist = getattr(scipy.stats, 'weibull_min')\n",
    "param = dist.fit(data)\n",
    "log_likelihood = np.sum(np.log(dist.pdf(data, *param))) #MAKE THIS WORK! \n",
    "print('Distribution: ' + 'distribution' + ' || Parameters: ' + str(param) + '|| Log-likelihood: ' + str(log_likelihood) + '\\n')"
   ]
  },
  {
   "cell_type": "markdown",
   "metadata": {},
   "source": [
    "### Q-Q Plot"
   ]
  },
  {
   "cell_type": "code",
   "execution_count": null,
   "metadata": {
    "scrolled": true
   },
   "outputs": [],
   "source": [
    "y_std,_,_ = standarise(test_array, 0.99, 0.01)\n",
    "\n",
    "data_points = scipy.stats.beta.rvs(1.845363833710495, 1.9930181654900756, 9.193002210521788, 3.6222049153761584, size=2000)   \n",
    "data_points2 = scipy.stats.weibull_min.rvs(2.502664460995821, 9.006142851433948, 2.180353831209773,size = 2000) \n",
    "\n",
    "f, ax = plt.subplots(figsize=(8,8))\n",
    "ax.plot([-2, 2], [9, 13], ls=\"--\", c=\".3\")\n",
    "\n",
    "percentile_bins = np.linspace(0,100,51)\n",
    "percentile_cutoffs1 = np.percentile(y_std, percentile_bins)\n",
    "percentile_cutoffs_expon= np.percentile(data_points, percentile_bins)\n",
    "\n",
    "\n",
    "percentile_cutoffs_invgauss = np.percentile(data_points2, percentile_bins)\n",
    "\n",
    "\n",
    "ax.scatter(percentile_cutoffs1,percentile_cutoffs_invgauss,c='orange',label = 'Weibull Min distribution',s = 40)\n",
    "ax.scatter(percentile_cutoffs1,percentile_cutoffs_expon,c='blue',label = 'Exponential Distribution',s = 40)\n",
    "\n",
    "\n",
    "ax.set_xlabel('Theoretical cumulative distribution')\n",
    "ax.set_ylabel('Observed cumulative distribution')\n",
    "ax.legend()\n",
    "plt.show()"
   ]
  },
  {
   "cell_type": "code",
   "execution_count": null,
   "metadata": {},
   "outputs": [],
   "source": [
    "import seaborn as sns"
   ]
  },
  {
   "cell_type": "code",
   "execution_count": null,
   "metadata": {},
   "outputs": [],
   "source": [
    "a = scipy.stats.beta.pdf(test_array,1.845363833710495, 1.9930181654900756, 9.193002210521788, 3.6222049153761584)"
   ]
  },
  {
   "cell_type": "code",
   "execution_count": null,
   "metadata": {
    "scrolled": false
   },
   "outputs": [],
   "source": [
    "sns.distplot(a = test_array, kde = False, norm_hist=True)\n",
    "sns.kdeplot(data = test_array, shade= False)"
   ]
  },
  {
   "cell_type": "code",
   "execution_count": null,
   "metadata": {},
   "outputs": [],
   "source": [
    "sns.distplot(a = test_array, kde = False, norm_hist=True)\n",
    "plt.plot(test_array, scipy.stats.beta.pdf(test_array,1.845363833710495, 1.9930181654900756, 9.193002210521788, 3.6222049153761584))"
   ]
  },
  {
   "cell_type": "markdown",
   "metadata": {},
   "source": [
    "### Kolmogorov-Smirnoff 2 Sample Test"
   ]
  },
  {
   "cell_type": "code",
   "execution_count": null,
   "metadata": {},
   "outputs": [],
   "source": [
    "from scipy.stats import ks_2samp"
   ]
  },
  {
   "cell_type": "code",
   "execution_count": null,
   "metadata": {
    "scrolled": true
   },
   "outputs": [],
   "source": [
    "data1 = np.random.choice(a = test_array, size = 2000)\n",
    "data2 = data_points\n",
    "test = ks_2samp(data1,data2)\n",
    "print(test)"
   ]
  },
  {
   "cell_type": "code",
   "execution_count": null,
   "metadata": {},
   "outputs": [],
   "source": [
    "test_statistic = 0.034"
   ]
  },
  {
   "cell_type": "code",
   "execution_count": null,
   "metadata": {},
   "outputs": [],
   "source": [
    "n1 = 30\n",
    "n2 = 30\n",
    "alpha = 0.05\n",
    "c_alpha = 1.36 # Make a dict mapping c values to alpha\n",
    "critical_value = c_alpha * ((n1 + n2)/(n1*n2))**0.5 \n",
    "critical_value"
   ]
  },
  {
   "cell_type": "code",
   "execution_count": null,
   "metadata": {},
   "outputs": [],
   "source": [
    ",if test_statistic > critical_value:\n",
    "    print('The two samples come from different distributions')\n",
    "else:\n",
    "    print('The two samples come from same distributions')"
   ]
  }
 ],
 "metadata": {
  "kernelspec": {
   "display_name": "Python 3",
   "language": "python",
   "name": "python3"
  },
  "language_info": {
   "codemirror_mode": {
    "name": "ipython",
    "version": 3
   },
   "file_extension": ".py",
   "mimetype": "text/x-python",
   "name": "python",
   "nbconvert_exporter": "python",
   "pygments_lexer": "ipython3",
   "version": "3.8.5"
  }
 },
 "nbformat": 4,
 "nbformat_minor": 4
}
