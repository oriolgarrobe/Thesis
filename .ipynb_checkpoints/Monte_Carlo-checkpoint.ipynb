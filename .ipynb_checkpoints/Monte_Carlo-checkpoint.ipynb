{
 "cells": [
  {
   "cell_type": "code",
   "execution_count": 1,
   "metadata": {},
   "outputs": [],
   "source": [
    "import numpy as np\n",
    "import math\n",
    "import random\n",
    "from matplotlib import pyplot as plt\n",
    "import time"
   ]
  },
  {
   "cell_type": "code",
   "execution_count": null,
   "metadata": {},
   "outputs": [],
   "source": [
    "# For Monte Carlo Approach\n",
    "\n",
    "for i in range(10):\n",
    "    print(random.uniform(1,10))"
   ]
  },
  {
   "cell_type": "code",
   "execution_count": 56,
   "metadata": {},
   "outputs": [],
   "source": [
    "class PSU:\n",
    "    def __init__(self, Vout, LS_Ron, Iout, Vin, HS_Tsw, Fsw, Vbody_diode, LS_QRR, DT, L, DCR, ESR_Cin, P_IC):\n",
    "        self.Vout = Vout                  #Vpre_static -> SRD: UP3V3M = VPRE\n",
    "        self.LS_Ron = LS_Ron              #Rds_on1 -> SRD: Q0700\n",
    "        self.HS_Ron = LS_Ron              #Rds_on1 -> SRD: Q0700\n",
    "        self.Iout = Iout                  #Iload_3V3M\n",
    "        self.Vin = Vin                    #Vpre_in V -> INPUT!!!!\n",
    "        self.HS_Tsw = HS_Tsw              #TSW_vpre [ns]\n",
    "        self.LS_Tsw = HS_Tsw              #TSW_vpre [ns] \n",
    "        self.Fsw = Fsw                    #fSW_pre [kHz]\n",
    "        self.Vbody_diode = Vbody_diode    #VForward_Voltage1\n",
    "        self.LS_QRR = LS_QRR              #QRR_charge1 [nC]\n",
    "        self.DTr = DT                     #DTrising [ns]\n",
    "        self.DTf = DT                     #DTfalling [ns]\n",
    "        self.L = L                        #LVPRE [microH]\n",
    "        self.DCR = DCR                    #R_DC_L_VPRE_temp [mOhms]\n",
    "        self.ESR_Cin = ESR_Cin            #ESR_3V3M_IN [mOhms]\n",
    "        self.P_IC = P_IC                  # PMIC IC power dissipated [mW] P_Dissip_IC_3V3M\n",
    "        \n",
    "    def duty_cycle(self):\n",
    "        \"\"\"\n",
    "        Duty Cycle -> D3v3\n",
    "        \"\"\"\n",
    "        D = (self.Vout + (self.LS_Ron * self.Iout))/(self.Vin - (self.HS_Ron * self.Iout) + (self.LS_Ron * self.Iout))\n",
    "        return D\n",
    "    \n",
    "    def HS_loss(self):\n",
    "        \"\"\"\n",
    "        Conduction loss in the High-side MOSFET -> P_FET_3V3M_HS_cond_loss\n",
    "        \"\"\"\n",
    "        D = self.duty_cycle()\n",
    "        P_HS_cond = D * self.HS_Ron * self.Iout**2 #Watts\n",
    "        return P_HS_cond\n",
    "    \n",
    "    def LS_loss(self):\n",
    "        \"\"\"\n",
    "        Conduction loss in the Low-side MOSFET -> P_FET_3V3M_LS_cond_loss\n",
    "        \"\"\"\n",
    "        D = self.duty_cycle()\n",
    "        P_LS_cond = (1-D) * self.LS_Ron * self.Iout**2 #Watts\n",
    "        return P_LS_cond\n",
    "    \n",
    "    def SW_HS_loss(self):\n",
    "        \"\"\"\n",
    "        HS Switching-loss in the MOSFET -> PFET_3V3M_SW_HS_loss\n",
    "        \"\"\"\n",
    "        P_HS_sw = (self.Vin * self.Iout) * self.HS_Tsw * self.Fsw #Watts\n",
    "        return P_HS_sw\n",
    "    \n",
    "    def SW_LS_loss(self):\n",
    "        \"\"\"\n",
    "        LS Body diode Reverse recovery-loss -> PFET_3V3M_SW_LS_loss\n",
    "        \"\"\"\n",
    "        P_LS_sw = (self.Vbody_diode * self.Iout) * self.LS_Tsw * self.Fsw #Watts\n",
    "        return P_LS_sw\n",
    "    \n",
    "    def RR_LS_loss(self):\n",
    "        \"\"\"\n",
    "        LS Body diode Reverse recovery-loss -> PFET_3V3M_RR_LS_loss\n",
    "        \"\"\"\n",
    "        P_Qrr = self.LS_QRR * self.Vin * self.Fsw / 2 #Watts\n",
    "        return P_Qrr\n",
    "    \n",
    "    def DT_LS_loss(self):\n",
    "        \"\"\"\n",
    "        LS Dead time-loss in the MOSFET body diode -> PFET_3V3M_DT_LS_loss\n",
    "        \"\"\"\n",
    "        P_DT = self.Vbody_diode * self.Iout * (self.DTr + self.DTf) * self.Fsw #Watts\n",
    "        return P_DT\n",
    "    \n",
    "    def AI_L(self):\n",
    "        \"\"\"\n",
    "        Inductor Ripple current -> AI_L_3V3M\n",
    "        \"\"\"\n",
    "        D = self.duty_cycle()\n",
    "        AIL = (self.Vin - self.Vout - self.HS_Ron * self.Iout) * D / (self.Fsw * self.L) # Amperes\n",
    "        return AIL\n",
    "    \n",
    "    def P_Dis_L(self):\n",
    "        \"\"\"\n",
    "        Power Dissipated in the inductor -> P_Dis_L_3V3M\n",
    "        \"\"\"\n",
    "        AIL = self.AI_L()\n",
    "        P_L = self.DCR * (self.Iout**2 + AIL**2/12) #Watts\n",
    "        return P_L\n",
    "    \n",
    "    def I_L_Peak(self):\n",
    "        \"\"\"\n",
    "        Peak inductor current -> I_L_3V3M_PEAK\n",
    "        \"\"\"\n",
    "        AIL = self.AI_L()\n",
    "        Ipeak = self.Iout + AIL / 2\n",
    "        return Ipeak\n",
    "    \n",
    "    def P_Dis_Cin(self):\n",
    "        \"\"\"\n",
    "        Input capacitors Power Dissipated -> P_Dissip_Cin_3V3M\n",
    "        \"\"\"\n",
    "        D = self.duty_cycle()\n",
    "        I_Cin_rms = self.Iout * (D * ((1-D) + ((1-D) * self.HS_Tsw * self.Vout /(self.Iout * self.L))/12))**0.5\n",
    "        P_Cin = self.ESR_Cin * I_Cin_rms**2\n",
    "        return P_Cin\n",
    "    \n",
    "    def P_Dis_Tot(self):\n",
    "        \"\"\"\n",
    "        Power Dissipated -> P_Dissip_3V3M_total Matrix\n",
    "        \"\"\"\n",
    "        #Matrix\n",
    "        P_HS_cond = self.HS_loss()\n",
    "        P_LS_cond = self.LS_loss()\n",
    "        P_HS_sw = self.SW_HS_loss()\n",
    "        P_L = self.P_Dis_L()\n",
    "        P_Qrr = self.RR_LS_loss()\n",
    "        P_Cin = self.P_Dis_Cin()\n",
    "        \n",
    "        #Vector\n",
    "        P_LS_sw = self.SW_LS_loss()\n",
    "        P_DT = self.DT_LS_loss()\n",
    "        \n",
    "        #Total\n",
    "        P_Dissip_Total = P_HS_cond + P_LS_cond + P_HS_sw + P_L + P_Qrr + P_Cin + P_LS_sw + P_DT + self.P_IC\n",
    "        return P_Dissip_Total\n",
    "    \n",
    "    def P_out(self):\n",
    "        \"\"\"\n",
    "        Power Output\n",
    "        \"\"\"\n",
    "        return self.Iout * self.Vout\n",
    "    \n",
    "    def efficiency(self):\n",
    "        \"\"\"\n",
    "        Efficiency of the Assembly -> n (nu)\n",
    "        \"\"\"\n",
    "        Pout = self.P_out()\n",
    "        Pdis = self.P_Dis_Tot()\n",
    "        #n = np.flip(Pout) / (np.flip(Pout) + np.flip(Pdis))\n",
    "        n = Pout / (Pout + Pdis)\n",
    "        return n\n",
    "        \n",
    "    def I_in(self):\n",
    "        \"\"\"\n",
    "        Input battery -> I_IN_3V3M\n",
    "        \"\"\"\n",
    "        n = self.efficiency()\n",
    "        I_in = self.Iout * self.Vout / (n * self.Vin)\n",
    "        return I_in\n",
    "    \n",
    "    def P_in(self):\n",
    "        \"\"\"\n",
    "        Input battery -> P_IN_3V3M\n",
    "        \"\"\"\n",
    "        Iin = self.I_in()\n",
    "        P_in = Iin * self.Vin\n",
    "        return P_in"
   ]
  },
  {
   "cell_type": "code",
   "execution_count": null,
   "metadata": {},
   "outputs": [],
   "source": [
    "\"\"\"\n",
    "\n",
    "model = PSU(np.array([3.2, 3.3, 3.4]), \n",
    "            np.array([6.3, 8.3, 11])*1e-3, \n",
    "            np.array([2.64, 3.03, 3.45]), \n",
    "            np.array([13.3, 13.35, 13.37]),\n",
    "            5.17*1e-9, \n",
    "            np.array([430, 455, 489])*1e3, \n",
    "            np.array([0.65, 0.8, 1.2]),\n",
    "            120*1e-9,\n",
    "            20*1e-9,\n",
    "            np.array([5.4, 4.5, 3.6])*1e-6, \n",
    "            np.array([12.61, 19, 27.23])*1e-3,\n",
    "            4.23*1e-3,\n",
    "            np.array([83.93, 88.81, 93.69])*1e-3)\n",
    "\n",
    "\"\"\"\n",
    "\n",
    "\"\"\"\n",
    "\n",
    "def __init__(self, Vout, LS_Ron, Iout, Vin, HS_Tsw, Fsw, Vbody_diode, LS_QRR, DT, L, DCR, ESR_Cin, P_IC):\n",
    "\n",
    "\"\"\""
   ]
  },
  {
   "cell_type": "code",
   "execution_count": 51,
   "metadata": {},
   "outputs": [],
   "source": [
    "?random.uniform"
   ]
  },
  {
   "cell_type": "code",
   "execution_count": 49,
   "metadata": {},
   "outputs": [
    {
     "data": {
      "text/plain": [
       "10.857495285344438"
      ]
     },
     "execution_count": 49,
     "metadata": {},
     "output_type": "execute_result"
    }
   ],
   "source": [
    "model = PSU(3.3, \n",
    "            8.3*1e-3, \n",
    "            3.03, \n",
    "            13.35,\n",
    "            5.17*1e-9, \n",
    "            455*1e3, \n",
    "            0.8,\n",
    "            120*1e-9,\n",
    "            20*1e-9,\n",
    "            4.5*1e-6, \n",
    "            19*1e-3,\n",
    "            4.23*1e-3,\n",
    "            88.81*1e-3)\n",
    "\n",
    "model.P_in()"
   ]
  },
  {
   "cell_type": "code",
   "execution_count": 53,
   "metadata": {},
   "outputs": [
    {
     "data": {
      "text/plain": [
       "3.2"
      ]
     },
     "execution_count": 53,
     "metadata": {},
     "output_type": "execute_result"
    }
   ],
   "source": [
    "a = np.array([3.2, 3.3, 3.4])\n",
    "a[0]"
   ]
  },
  {
   "cell_type": "code",
   "execution_count": 54,
   "metadata": {},
   "outputs": [],
   "source": [
    "def rand_uni(array):\n",
    "    return random.uniform(array[0], array[2])"
   ]
  },
  {
   "cell_type": "code",
   "execution_count": 55,
   "metadata": {},
   "outputs": [],
   "source": [
    "Vout = np.array([3.2, 3.3, 3.4])\n",
    "LS_Ron = np.array([6.3, 8.3, 11])*1e-3\n",
    "Iout = np.array([2.64, 3.03, 3.45])\n",
    "Vin = np.array([13.3, 13.35, 13.37])\n",
    "HS_Tsw = 5.17*1e-9\n",
    "Fsw = np.array([430, 455, 489])*1e3\n",
    "Vbody_diode = np.array([0.65, 0.8, 1.2])\n",
    "LS_QRR = 120*1e-9\n",
    "DT = 20*1e-9\n",
    "L = np.array([5.4, 4.5, 3.6])*1e-6\n",
    "DCR = np.array([12.61, 19, 27.23])*1e-3\n",
    "ESR_Cin = 4.23*1e-3\n",
    "P_IC = np.array([83.93, 88.81, 93.69])*1e-3"
   ]
  },
  {
   "cell_type": "code",
   "execution_count": 31,
   "metadata": {},
   "outputs": [
    {
     "data": {
      "text/plain": [
       "18.39604563065123"
      ]
     },
     "execution_count": 31,
     "metadata": {},
     "output_type": "execute_result"
    }
   ],
   "source": [
    "model_PSU.P_in()"
   ]
  },
  {
   "cell_type": "code",
   "execution_count": 8,
   "metadata": {},
   "outputs": [
    {
     "name": "stdout",
     "output_type": "stream",
     "text": [
      "0\n",
      "1\n",
      "2\n",
      "3\n",
      "4\n",
      "5\n",
      "6\n",
      "7\n",
      "8\n",
      "9\n"
     ]
    }
   ],
   "source": [
    "\n",
    "for i in range(10):\n",
    "    print(i)"
   ]
  },
  {
   "cell_type": "code",
   "execution_count": 63,
   "metadata": {},
   "outputs": [],
   "source": [
    "def simulation(n_points):\n",
    "    \"\"\"\n",
    "    Function that simulates observations for bla bla. \n",
    "    Input:\n",
    "    - n_points : number of points simulated\n",
    "    - dist_components: distributon assumed for the components\n",
    "    \"\"\"\n",
    "    y = np.zeros(n_points)\n",
    "    for i in range(n_points):\n",
    "        Vout_r = rand_uni(Vout)\n",
    "        LS_Ron_r = rand_uni(LS_Ron)\n",
    "        Iout_r = rand_uni(Iout)\n",
    "        Vin_r = rand_uni(Vin)\n",
    "        HS_Tsw = 5.17*1e-9\n",
    "        Fsw_r = rand_uni(Fsw)\n",
    "        Vbody_diode_r = rand_uni(Vbody_diode)\n",
    "        LS_QRR = 120*1e-9\n",
    "        DT = 20*1e-9\n",
    "        L_r = rand_uni(L)\n",
    "        DCR_r = rand_uni(DCR)\n",
    "        ESR_Cin = 4.23*1e-3\n",
    "        P_IC_r = rand_uni(P_IC)\n",
    "\n",
    "        model_PSU = PSU(Vout_r, LS_Ron_r, Iout_r, Vin_r, HS_Tsw, Fsw_r, Vbody_diode_r, LS_QRR, DT, L_r, DCR_r, ESR_Cin, P_IC_r)\n",
    "        \n",
    "        y[i] = model_PSU.P_in()\n",
    "    return y"
   ]
  },
  {
   "cell_type": "code",
   "execution_count": 60,
   "metadata": {},
   "outputs": [
    {
     "data": {
      "text/plain": [
       "11.078841244936603"
      ]
     },
     "execution_count": 60,
     "metadata": {},
     "output_type": "execute_result"
    }
   ],
   "source": [
    "Vout_r = rand_uni(Vout)\n",
    "LS_Ron_r = rand_uni(LS_Ron)\n",
    "Iout_r = rand_uni(Iout)\n",
    "Vin_r = rand_uni(Vin)\n",
    "HS_Tsw = 5.17*1e-9\n",
    "Fsw_r = rand_uni(Fsw)\n",
    "Vbody_diode_r = rand_uni(Vbody_diode)\n",
    "LS_QRR = 120*1e-9\n",
    "DT = 20*1e-9\n",
    "L_r = rand_uni(L)\n",
    "DCR_r = rand_uni(DCR)\n",
    "ESR_Cin = 4.23*1e-3\n",
    "P_IC_r = rand_uni(P_IC)\n",
    "\n",
    "model_PSU = PSU(Vout_r, LS_Ron_r, Iout_r, Vin_r, HS_Tsw, Fsw_r, Vbody_diode_r, LS_QRR, DT, L_r, DCR_r, ESR_Cin, P_IC_r)\n",
    "\n",
    "model_PSU.P_in()"
   ]
  },
  {
   "cell_type": "code",
   "execution_count": 70,
   "metadata": {},
   "outputs": [
    {
     "data": {
      "text/plain": [
       "array([10.15619095, 12.39690831, 11.82818042, ..., 12.58309539,\n",
       "       12.26533366, 11.60167061])"
      ]
     },
     "execution_count": 70,
     "metadata": {},
     "output_type": "execute_result"
    }
   ],
   "source": [
    "test_array = simulation(100000)\n",
    "test_array"
   ]
  },
  {
   "cell_type": "code",
   "execution_count": 67,
   "metadata": {},
   "outputs": [
    {
     "data": {
      "text/plain": [
       "(array([1, 2, 0, 0, 1, 2, 0, 0, 2, 2], dtype=int64),\n",
       " array([ 9.64772358,  9.8610269 , 10.07433022, 10.28763354, 10.50093686,\n",
       "        10.71424018, 10.9275435 , 11.14084682, 11.35415013, 11.56745345,\n",
       "        11.78075677]))"
      ]
     },
     "execution_count": 67,
     "metadata": {},
     "output_type": "execute_result"
    }
   ],
   "source": [
    "np.histogram(test_array)"
   ]
  },
  {
   "cell_type": "code",
   "execution_count": null,
   "metadata": {},
   "outputs": [],
   "source": [
    "\"whats going on\""
   ]
  },
  {
   "cell_type": "code",
   "execution_count": null,
   "metadata": {},
   "outputs": [],
   "source": []
  },
  {
   "cell_type": "code",
   "execution_count": null,
   "metadata": {},
   "outputs": [],
   "source": []
  },
  {
   "cell_type": "code",
   "execution_count": null,
   "metadata": {},
   "outputs": [],
   "source": []
  },
  {
   "cell_type": "code",
   "execution_count": null,
   "metadata": {},
   "outputs": [],
   "source": []
  },
  {
   "cell_type": "code",
   "execution_count": null,
   "metadata": {},
   "outputs": [],
   "source": []
  },
  {
   "cell_type": "code",
   "execution_count": null,
   "metadata": {},
   "outputs": [],
   "source": []
  },
  {
   "cell_type": "code",
   "execution_count": null,
   "metadata": {},
   "outputs": [],
   "source": [
    "# For Simulation Assuming Distributions\n",
    "\n",
    "for i in range(10):\n",
    "    print(random.gauss(0,1))"
   ]
  },
  {
   "cell_type": "code",
   "execution_count": 16,
   "metadata": {},
   "outputs": [
    {
     "name": "stdout",
     "output_type": "stream",
     "text": [
      "3994208\n"
     ]
    }
   ],
   "source": [
    "# Monte Carlo simulations\n",
    "\n",
    "def io_20(Vin):\n",
    "    V1 = Vin * random.uniform(1,2)\n",
    "    V2 = V1 * random.uniform(1,2)\n",
    "    V3 = V2 * random.uniform(1,2)\n",
    "    V4 = V3 * random.uniform(1,2)\n",
    "    V5 = V4 * random.uniform(1,2)\n",
    "    V6 = V5 * random.uniform(1,2)\n",
    "    V7 = V6 * random.uniform(1,2)\n",
    "    V8 = V7 * random.uniform(1,2)\n",
    "    V9 = V8 * random.uniform(1,2)\n",
    "    V10 = V9 * random.uniform(1,2)\n",
    "    V11 = V10 * random.uniform(1,2)\n",
    "    V12 = V11 * random.uniform(1,2)\n",
    "    V13 = V12 * random.uniform(1,2)\n",
    "    V14 = V13 * random.uniform(1,2)\n",
    "    V15 = V14 * random.uniform(1,2)\n",
    "    V16 = V15 * random.uniform(1,2)\n",
    "    V17 = V16 * random.uniform(1,2)\n",
    "    V18 = V17 * random.uniform(1,2)\n",
    "    V19 = V18 * random.uniform(1,2)\n",
    "    V20 = V19 * random.uniform(1,2)\n",
    "    return(0)\n",
    "\n",
    "start_time = time.time()\n",
    "i = 0\n",
    "while tot_time < 60:\n",
    "    io_20(13)\n",
    "    end_time = time.time()\n",
    "    tot_time = end_time - start_time\n",
    "    i += 1\n",
    "print(i)"
   ]
  },
  {
   "cell_type": "code",
   "execution_count": 18,
   "metadata": {},
   "outputs": [
    {
     "name": "stdout",
     "output_type": "stream",
     "text": [
      "1777294\n"
     ]
    }
   ],
   "source": [
    "# Monte Carlo simulations\n",
    "\n",
    "def gio_20(Vin):\n",
    "    V1 = Vin * random.gauss(1,2)\n",
    "    V2 = V1 * random.gauss(1,2)\n",
    "    V3 = V2 * random.gauss(1,2)\n",
    "    V4 = V3 * random.gauss(1,2)\n",
    "    V5 = V4 * random.gauss(1,2)\n",
    "    V6 = V5 * random.gauss(1,2)\n",
    "    V7 = V6 * random.gauss(1,2)\n",
    "    V8 = V7 * random.gauss(1,2)\n",
    "    V9 = V8 * random.gauss(1,2)\n",
    "    V10 = V9 * random.gauss(1,2)\n",
    "    V11 = V10 * random.gauss(1,2)\n",
    "    V12 = V11 * random.gauss(1,2)\n",
    "    V13 = V12 * random.gauss(1,2)\n",
    "    V14 = V13 * random.gauss(1,2)\n",
    "    V15 = V14 * random.gauss(1,2)\n",
    "    V16 = V15 * random.gauss(1,2)\n",
    "    V17 = V16 * random.gauss(1,2)\n",
    "    V18 = V17 * random.gauss(1,2)\n",
    "    V19 = V18 * random.gauss(1,2)\n",
    "    V20 = V19 * random.gauss(1,2)\n",
    "    return(0)\n",
    "\n",
    "start_time = time.time()\n",
    "tot_time = 0\n",
    "i = 0\n",
    "while tot_time < 60:\n",
    "    gio_20(13)\n",
    "    end_time = time.time()\n",
    "    tot_time = end_time - start_time\n",
    "    i += 1\n",
    "print(i)"
   ]
  }
 ],
 "metadata": {
  "kernelspec": {
   "display_name": "Python 3",
   "language": "python",
   "name": "python3"
  },
  "language_info": {
   "codemirror_mode": {
    "name": "ipython",
    "version": 3
   },
   "file_extension": ".py",
   "mimetype": "text/x-python",
   "name": "python",
   "nbconvert_exporter": "python",
   "pygments_lexer": "ipython3",
   "version": "3.7.4"
  }
 },
 "nbformat": 4,
 "nbformat_minor": 4
}
