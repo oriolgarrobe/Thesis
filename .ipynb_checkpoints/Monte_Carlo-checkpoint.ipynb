{
 "cells": [
  {
   "cell_type": "code",
   "execution_count": 31,
   "metadata": {},
   "outputs": [],
   "source": [
    "import numpy as np\n",
    "import math\n",
    "import random\n",
    "from matplotlib import pyplot as plt\n",
    "import time\n",
    "import scipy.stats\n",
    "import pandas as pd"
   ]
  },
  {
   "cell_type": "code",
   "execution_count": 2,
   "metadata": {},
   "outputs": [],
   "source": [
    "Vout = np.array([3.2, 3.3, 3.4])\n",
    "LS_Ron = np.array([6.3, 8.3, 11])*1e-3\n",
    "Iout = np.array([2.64, 3.03, 3.45])\n",
    "Vin = np.array([13.3, 13.35, 13.37])\n",
    "#HS_Tsw = 5.17*1e-9\n",
    "Fsw = np.array([430, 455, 489])*1e3\n",
    "Vbody_diode = np.array([0.65, 0.8, 1.2])\n",
    "#LS_QRR = 120*1e-9\n",
    "#DT = 20*1e-9\n",
    "L = np.array([5.4, 4.5, 3.6])*1e-6\n",
    "DCR = np.array([12.61, 19, 27.23])*1e-3\n",
    "#ESR_Cin = 4.23*1e-3\n",
    "P_IC = np.array([83.93, 88.81, 93.69])*1e-3"
   ]
  },
  {
   "cell_type": "code",
   "execution_count": 3,
   "metadata": {
    "scrolled": true
   },
   "outputs": [
    {
     "data": {
      "text/plain": [
       "array([ 9.28592306, 10.85749529, 12.66975792])"
      ]
     },
     "execution_count": 3,
     "metadata": {},
     "output_type": "execute_result"
    }
   ],
   "source": [
    "from PSU_class import PSU\n",
    "\n",
    "model = PSU(Vout, LS_Ron, Iout, Vin, Fsw, Vbody_diode, L, DCR, P_IC)\n",
    "model.P_in()"
   ]
  },
  {
   "cell_type": "code",
   "execution_count": 4,
   "metadata": {},
   "outputs": [
    {
     "data": {
      "text/plain": [
       "array([0.6981897 , 0.81329553, 0.94762587])"
      ]
     },
     "execution_count": 4,
     "metadata": {},
     "output_type": "execute_result"
    }
   ],
   "source": [
    "model.I_in()"
   ]
  },
  {
   "cell_type": "code",
   "execution_count": 5,
   "metadata": {},
   "outputs": [],
   "source": [
    "def randomize(array, dist=\"Nominal\"):\n",
    "    \"\"\"\n",
    "    This is pipes\n",
    "    \"\"\"\n",
    "    if dist == \"Uni\":\n",
    "        return random.uniform(array[0], array[2])\n",
    "    elif dist == \"Gauss\":\n",
    "        return random.gauss(array[1], (array[2]-array[1])/3)\n",
    "    else:\n",
    "        return array[1]\n",
    "    "
   ]
  },
  {
   "cell_type": "code",
   "execution_count": 6,
   "metadata": {},
   "outputs": [
    {
     "data": {
      "text/plain": [
       "1.6646999621068674"
      ]
     },
     "execution_count": 6,
     "metadata": {},
     "output_type": "execute_result"
    }
   ],
   "source": [
    "randomize(np.array([1,2,3]), \"Uni\")"
   ]
  },
  {
   "cell_type": "code",
   "execution_count": 7,
   "metadata": {},
   "outputs": [],
   "source": [
    "def simulation(n_points, base_model, base_class, dist):#, sens_var, sens_dist):\n",
    "    \"\"\"\n",
    "    Function that simulates observations for bla bla. \n",
    "    Input:\n",
    "    - n_points : number of points simulated\n",
    "    - dist_components: distributon assumed for the components\n",
    "    \"\"\"\n",
    "    y = np.zeros(n_points)\n",
    "    for i in range(n_points):\n",
    "        \n",
    "        # Randomize numbers\n",
    "        Vout_r = randomize(base_model.Vout, dist)\n",
    "        LS_Ron_r = randomize(base_model.LS_Ron, dist)\n",
    "        Iout_r = randomize(base_model.Iout, dist)\n",
    "        Vin_r = randomize(base_model.Vin, dist)\n",
    "        Fsw_r = randomize(base_model.Fsw, dist)\n",
    "        Vbody_diode_r = randomize(base_model.Vbody_diode, dist)\n",
    "        L_r = randomize(base_model.L, dist)\n",
    "        DCR_r = randomize(base_model.DCR, dist)\n",
    "        P_IC_r = randomize(base_model.P_IC, dist)\n",
    "        \n",
    "        #Sensible Analysis\n",
    "        # modify one value to plug into the class\n",
    "        # \"sens_var\" = randomize(base_model.\"sens_var\", sens_dist)\n",
    "\n",
    "        sim_PSU = base_class(Vout_r, LS_Ron_r, Iout_r, Vin_r, Fsw_r, Vbody_diode_r, L_r, DCR_r, P_IC_r)\n",
    "        \n",
    "        y[i] = sim_PSU.P_in()\n",
    "    return y"
   ]
  },
  {
   "cell_type": "code",
   "execution_count": 187,
   "metadata": {},
   "outputs": [
    {
     "data": {
      "text/plain": [
       "array([11.42188979, 10.38606113, 11.5487386 , 10.96563836, 10.90490051,\n",
       "       11.51848652, 11.07326723, 11.7809644 , 10.75528868, 11.28149249,\n",
       "       11.1417862 , 10.76968987, 11.36123073, 10.93913704, 11.34191912,\n",
       "       11.59066572, 10.65674145, 11.40015205,  9.81435994, 10.22992726,\n",
       "       10.43550471, 10.55840555, 11.01702027,  9.73737331, 11.38639867,\n",
       "       10.25056982, 11.02439385, 10.544691  , 10.9040785 , 10.85692642,\n",
       "       10.71956272, 11.74615368, 10.87212491, 11.15453074, 11.05229423,\n",
       "       10.99371998, 11.22047251, 10.26704617, 10.60737324, 10.02135647,\n",
       "       10.59223751, 10.79524786, 11.51744909, 10.67480727, 11.38274285,\n",
       "       10.81995413, 11.02373779, 11.36595295, 10.71660486, 10.70386924,\n",
       "        9.77906755, 10.56285109, 10.6579173 , 11.38648446, 10.75160557,\n",
       "       11.16780417, 10.73261046, 11.44761513, 11.11949082, 11.16640263,\n",
       "        9.672697  , 10.3113532 , 10.73075886, 10.54138131, 11.7831789 ,\n",
       "       11.16517016, 12.11845644, 11.66866217, 10.14218101, 10.43246407,\n",
       "       10.91751605, 11.3821776 , 10.47727903, 10.66785653, 11.31114113,\n",
       "       11.43501091,  9.6792723 , 10.90308705, 10.90633896, 10.41680851,\n",
       "       10.75396069, 11.02308372, 10.8752053 , 10.23932085, 10.63892069,\n",
       "       10.45694707, 10.34450855, 10.99498131,  9.73323845, 10.51556327,\n",
       "       11.61386248, 10.46485499, 10.07415725, 10.63911098, 11.23710062,\n",
       "       12.32897112, 11.49042509, 10.19777566, 10.93151929, 11.31840828,\n",
       "       10.32670595, 10.85359056, 10.41701483, 11.64439382, 10.91569905,\n",
       "       11.00270119, 11.04948422, 11.32383113, 11.0668334 , 10.44104291,\n",
       "       10.6616568 , 10.62307092, 11.53245588, 10.63009657, 10.40388238,\n",
       "       11.14711672, 11.40065317, 10.89816573, 10.87618147, 11.5928135 ,\n",
       "       11.02736503, 10.2807604 , 10.46569693, 11.50077417, 11.1627119 ,\n",
       "       10.29141773, 10.78790353,  9.67297907, 10.73156664, 11.04822124,\n",
       "       11.33121012, 10.82454405, 10.8594206 , 10.75507039, 10.84512569,\n",
       "       11.7035285 , 11.25582458, 11.05606489, 10.52496213, 11.2612102 ,\n",
       "       10.72548466, 11.08569675, 10.79927932, 10.7929883 , 11.02025663,\n",
       "       10.25471498, 10.37289675, 10.10272729, 10.89834839, 11.11939906,\n",
       "       10.43186881, 11.00963735, 10.54548704, 10.82487971, 10.94243973,\n",
       "       10.65831797, 10.86942174, 11.57644133, 10.75658   , 10.61757674,\n",
       "       11.13437128, 10.87067077, 11.6928087 , 10.85731187, 11.37478369,\n",
       "       11.18273361, 11.60054129, 10.61202746, 10.55011199, 11.15937367,\n",
       "        9.99708274, 10.18020366, 10.92536449, 10.67003507, 10.59888045,\n",
       "       10.61709019, 11.18255211, 10.04371647, 10.9520654 , 10.95411419,\n",
       "       12.02709912,  9.9353089 , 10.86188424, 10.57716092, 11.09089998,\n",
       "       10.77040639, 10.83525424, 11.50988157, 10.50109039, 10.93517259,\n",
       "       11.29385159, 10.83532826, 11.4160014 , 11.3674622 , 10.93632017,\n",
       "       10.29750075, 10.86912257, 10.38733744, 10.284509  , 10.43411685,\n",
       "       10.3449441 , 10.19722037, 10.49787802, 10.74556657, 10.33484048,\n",
       "       10.82621272, 10.92956399,  9.75740169, 12.63221273, 10.22806647,\n",
       "       10.90651884, 11.12739869, 11.10809465, 10.9415356 , 10.89591689,\n",
       "       10.70535237, 11.192072  ,  9.87616256, 11.32114995, 11.12333667,\n",
       "       10.31051571, 11.28823817, 11.10395579, 10.62434283, 10.80991966,\n",
       "       11.27880832, 10.76698198, 10.63587583, 11.60261751, 10.88696679,\n",
       "       11.12820398, 11.00538497, 11.07145246, 10.6594485 , 10.29284803,\n",
       "       11.40347964, 10.21716783, 10.89197857, 10.36172577, 10.80900224,\n",
       "       10.17102936, 10.17886334, 11.49517297, 10.2526653 , 10.91649235,\n",
       "       11.10630893, 11.33613575, 11.03845983, 10.46161314, 10.97191986,\n",
       "       10.74485085, 10.93560905, 12.01453492, 10.67916665, 11.0735155 ,\n",
       "       10.70717059, 11.11820123, 11.20813351, 10.93499853, 10.81549219,\n",
       "       10.97003914, 10.68100259, 10.80644991, 10.94820736, 10.94220314,\n",
       "       10.57716567, 10.25272799, 11.48968181, 10.61361777, 11.44265562,\n",
       "       10.8026286 , 10.79001039,  9.72057792, 12.11290124, 10.89026909,\n",
       "       10.8603908 , 11.04173526, 11.63967004,  9.86477602, 10.68647298,\n",
       "       10.31733759, 10.57276013, 10.72664638, 10.3066848 , 10.73626962,\n",
       "       10.50976786, 11.58181032, 10.8968116 , 11.62182951, 10.19392499,\n",
       "       10.60109818, 10.45709831, 10.45017998, 11.42077404, 10.55129411,\n",
       "       11.06048902, 10.98395883, 10.6541396 , 10.81125573, 11.04030349,\n",
       "       11.20054971, 11.02728767, 10.62481293, 10.40180095, 11.27303168,\n",
       "       11.1513044 , 10.49969223, 10.35302149, 10.55999616, 11.51591507,\n",
       "        9.94593147, 10.35206868, 12.19179842, 11.1755241 , 11.11210742,\n",
       "       10.91358658, 11.31777657, 10.76517227, 11.88991902, 11.28846864,\n",
       "       11.54143203, 11.51818723, 11.33169587, 11.49049535, 10.67643843,\n",
       "       10.67980307, 11.48785221, 10.52623148, 10.89992445, 11.49753082,\n",
       "       10.48805268, 11.14541551, 10.23450956, 10.8443588 , 10.3554454 ,\n",
       "       10.66378412, 10.43197931, 11.43968767, 10.68999733, 10.9195718 ,\n",
       "       10.332295  , 10.16152321, 11.49278119, 10.89512544, 10.57699857,\n",
       "       10.36998328, 10.27363322, 10.91317536, 10.4561938 , 10.84320699,\n",
       "       10.8094942 , 11.3202106 , 10.90030663, 11.04119564, 10.62346911,\n",
       "       11.15323693, 11.82832563, 10.57561328, 11.28210103, 10.53903713,\n",
       "       10.79272111, 10.3260765 , 10.63178202, 10.3504175 , 10.80158145,\n",
       "       10.47590772, 10.76798707, 11.05514897, 11.31497607, 11.49520621,\n",
       "       10.90289129, 10.39307804, 10.5681874 , 10.98731018, 10.26508344,\n",
       "       10.56190456, 12.20112328, 10.85325274, 12.38833977, 10.47912213,\n",
       "       11.04460263, 11.49753639, 10.25447923, 10.18627165, 10.62543151,\n",
       "       10.58817395, 10.3987087 , 10.62702076, 10.34966581, 11.17261465,\n",
       "       10.65284519, 11.05383012, 10.52044034, 10.77352097, 10.78656094,\n",
       "       10.58647998,  9.83112196, 11.22383811, 11.26766109, 11.5051275 ,\n",
       "       11.30439097, 11.03151766, 11.8813274 , 11.10984873, 10.61614008,\n",
       "       10.39629793, 10.97182912, 10.27834612, 11.26784896, 10.61991205,\n",
       "       11.30586467, 10.54699139, 10.85071479, 11.16826901,  9.98582903,\n",
       "       10.87444331, 11.55154054,  9.9224929 , 10.5728836 , 10.7871613 ,\n",
       "       10.31340117, 11.41090234, 11.29225304, 11.16919189, 10.7150127 ,\n",
       "       10.52086482, 11.22615191, 10.37898747, 10.96462312, 11.64542351,\n",
       "       10.87238975, 10.35704491, 10.45243905, 10.03583777, 10.39152406,\n",
       "       10.15036042, 11.38680252, 11.32479378, 10.71203323, 10.50289397,\n",
       "       10.30952081, 10.9617178 , 10.36318173, 10.63809357, 10.44928239,\n",
       "       11.63003889, 11.24610196, 11.107561  , 10.574006  , 10.7791257 ,\n",
       "       10.79194166, 11.23863858, 10.06354394, 12.11996945, 11.54247384,\n",
       "       11.01442961, 10.61090616, 11.68877399, 11.51091404, 11.15163466,\n",
       "       10.20018639, 11.21538691, 11.36936462, 10.30068928, 11.71241126,\n",
       "       10.83701032, 10.86271358, 11.8035959 , 10.6806924 , 11.62503571,\n",
       "       10.63273607, 10.81118869, 11.16034481, 10.43459163, 10.63585884,\n",
       "       11.88401474, 10.6774937 , 10.90592627, 10.90074583, 10.80847222,\n",
       "       10.5903738 , 10.88455499, 11.05767138, 11.49616738, 10.60211428,\n",
       "       10.54260664, 10.77278277, 10.96963931, 11.0552315 , 11.13831715,\n",
       "       10.81691717, 10.3002191 , 10.51631136, 10.87921378, 11.08012165,\n",
       "       11.40275407, 11.76688553, 10.52365549, 10.95186485, 10.87121516,\n",
       "       11.09805033, 11.58416309, 10.4334962 , 10.26101879, 10.06958977,\n",
       "       10.93774331, 10.77062902, 11.72392224, 10.12271027, 10.83068922,\n",
       "       10.77082553, 10.89707517, 10.23063947,  9.98799988, 11.65507299,\n",
       "       11.30578027, 11.2660264 , 11.22427714, 11.65757624, 10.70487081,\n",
       "       11.44515689, 11.08992965, 10.10658528, 10.47358589, 11.14110903,\n",
       "       11.73769007, 10.50714605, 10.24378805, 10.60686288, 11.46269148,\n",
       "        9.6431868 , 11.64419622, 10.263022  , 11.06416725, 10.8951582 ,\n",
       "       10.50417355,  9.33176565, 11.18979214, 10.20773474,  9.72534969,\n",
       "       10.69981936, 11.35606629, 11.66231308, 10.71180598, 11.16101474,\n",
       "       10.18555016, 10.85858478, 10.53324348, 11.40744868, 11.13165503,\n",
       "       10.3091418 , 11.06668721, 11.12813614, 11.05311266, 10.53418427,\n",
       "       11.25995819, 10.71047215, 10.44156276, 11.18324933, 11.16829592,\n",
       "       11.28122143, 10.61197463, 10.69502065, 10.24549315, 10.67788127,\n",
       "       10.21089758, 10.75410486, 11.55026562, 10.81845461, 10.6761087 ,\n",
       "       10.60825344, 11.29324089, 10.33715578, 11.51150529, 10.7184181 ,\n",
       "       11.07950267, 11.22544   , 11.41668792, 10.4248558 , 10.43655393,\n",
       "       10.45084353, 11.03835827, 10.98687931, 10.49728433, 10.68739958,\n",
       "       11.10914682, 10.65158842, 10.62615714, 11.72290158, 10.25946351,\n",
       "        9.99764302, 10.56696953, 10.66306973, 10.44668436, 10.76551877,\n",
       "       10.57739094, 10.24565682, 10.88346468, 10.61473209, 11.3730568 ,\n",
       "       10.71913653, 10.07517479, 11.07562227, 11.83640827, 10.80467355,\n",
       "       11.09049186, 10.53390712, 11.3061628 ,  9.99184389, 10.45063164,\n",
       "       11.63463807, 10.25401366, 11.11755404, 11.21379487, 11.30259013,\n",
       "       11.12737013, 10.64952021, 10.38335351, 10.51482179, 10.87553262,\n",
       "       11.19437582, 10.68395606,  9.71673436, 11.05257352, 10.99853764,\n",
       "       11.30919724, 10.64587341, 11.239389  , 11.15944094, 10.9380475 ,\n",
       "       11.21492261, 10.87536052, 10.78074538, 10.90189582, 11.27206093,\n",
       "       10.67872764, 11.55735315, 11.23813423, 11.44740825, 11.82802371,\n",
       "       10.8822686 , 10.79060313,  9.90191834, 11.43949917, 11.14447127,\n",
       "       11.10217769, 10.3700727 , 10.79290733, 11.22809577,  9.86316154,\n",
       "       11.20768665, 11.33923196, 11.49879853, 10.70868279, 10.30164256,\n",
       "       11.09428406, 10.8047424 ,  9.89678797, 10.63067852, 10.49530285,\n",
       "       10.54845136, 10.6586702 , 11.13211365, 11.29724469, 11.54072262,\n",
       "       10.66094373, 11.4612163 , 11.0790334 , 10.60394564, 10.74770442,\n",
       "       10.52348701, 10.66672606, 10.68638842, 10.86235503, 11.16042555,\n",
       "       11.00759972, 11.24530304, 11.32179504, 10.92872737, 10.51649282,\n",
       "       10.57419563, 11.07758779, 11.71489711, 10.97688806, 10.65400685,\n",
       "       11.01502626, 11.19449604, 11.30115541, 12.03843122, 10.7051879 ,\n",
       "       10.06707722, 11.02365827, 11.13283353, 11.04004748, 10.97900463,\n",
       "       10.52433188, 11.76777886, 10.70744812, 11.20468581,  9.93370943,\n",
       "       11.18335329, 10.93858686, 10.79974081, 10.71893105, 10.53443823,\n",
       "       10.613943  , 10.91421218, 11.68931472,  9.54396185, 10.58807465,\n",
       "       10.42510599, 11.25030477, 10.87424586,  9.88738266, 10.34838732,\n",
       "       11.29127238, 10.85089969, 10.39308026,  9.93523535, 11.23241169,\n",
       "       10.99856855, 11.42963479, 11.32135537, 10.79947048, 10.52984926,\n",
       "       10.39188131, 10.66926831, 10.74494208, 10.95553764, 11.03402709,\n",
       "       10.77696848, 10.43737274, 10.80033735, 10.56667421, 10.659644  ,\n",
       "       11.31982445, 10.73206866, 11.08806955, 11.21501036, 10.27506998,\n",
       "       10.68672348, 11.00663811, 10.36663103, 11.50592349, 10.41221867,\n",
       "       10.53854741, 10.83675182, 10.70532199, 10.78264881, 11.13061568,\n",
       "       10.70433127, 11.68055932, 11.2440079 , 10.20407574, 11.93366116,\n",
       "       11.02475494, 11.95729655,  9.59356952, 10.62439618, 11.33769491,\n",
       "       11.29529447, 10.97877746, 10.83811336, 10.18797918, 11.55302471,\n",
       "       10.93009353, 11.31260427, 11.30392397, 11.60120723, 10.6548797 ,\n",
       "       10.99641097, 10.54393666, 10.86513793, 10.88290016, 10.78660725,\n",
       "       11.58429017, 11.31788043,  9.64661542, 11.00261022, 10.87172549,\n",
       "       11.19873289, 11.03362783, 11.2287795 , 10.09711814, 10.4825063 ,\n",
       "       11.21891973, 11.14170072, 10.56961029, 10.69982573, 11.21179877,\n",
       "       10.25379877, 10.06724973, 10.58819733, 10.6160073 , 10.16035081,\n",
       "       11.68538578, 11.34698655, 10.74842714, 10.05432473, 11.66195187,\n",
       "       10.66304889, 11.63638473, 10.94700043, 11.19313999, 10.51841089,\n",
       "       10.8626572 , 11.63797492, 11.21311252, 10.42544893, 10.50001019,\n",
       "       10.46749489, 11.00335081, 10.51901596, 11.01057287, 11.29137197,\n",
       "       11.28939767, 10.94894162, 10.68031799, 11.10292522, 10.72190388,\n",
       "        9.8855577 , 10.73993475, 11.72856921, 10.63030481, 10.93072125,\n",
       "       10.68342451, 10.76161106, 11.95483893, 10.42596796, 10.47430873,\n",
       "       10.54048657, 10.89954667,  9.41712716, 11.40103313, 10.37268449,\n",
       "       10.67346386, 11.26094461, 11.25017386, 10.1613496 , 10.5479855 ,\n",
       "       10.48686846, 11.62764925, 11.35898758, 10.47964375, 11.716215  ,\n",
       "       10.74909032, 11.49587208, 10.23908125, 10.44206549, 11.05246196,\n",
       "       10.46457303, 10.27699969, 11.49751885, 10.49103039, 10.61905275,\n",
       "       10.7978743 ,  9.97004324, 11.38370458, 11.13276944, 11.56709194,\n",
       "       10.99497822, 10.67169581, 11.60392141, 11.6794145 , 11.47044926,\n",
       "       10.12761943, 10.38855554, 11.046661  , 10.73040065, 10.34767671,\n",
       "       11.17631673, 12.00490433, 11.04430568, 11.28201939, 10.87368332,\n",
       "        9.48316801, 11.882571  , 11.62115719, 11.0690636 , 10.69840597,\n",
       "       11.08442757, 11.22935436, 10.40878606, 11.65183558, 10.29935403,\n",
       "        9.81593144,  9.69964533, 10.67812066, 10.59148452, 10.5247629 ,\n",
       "       10.69401972, 11.23834973, 10.77802197, 10.96637053, 10.07244455,\n",
       "       10.88307914, 10.97899627, 10.366339  , 11.71874152, 10.91777031,\n",
       "       10.85836261, 10.89426832, 10.64496241, 10.54070508, 10.20036315,\n",
       "       10.96925424, 10.42094897, 12.1832477 , 10.48397935, 10.77338974,\n",
       "       11.80339037, 10.63514488,  9.74721313, 10.24869801, 10.9487156 ,\n",
       "       10.83800443, 10.8842772 , 10.67466117, 11.47073183, 10.56465802,\n",
       "       10.12417601, 11.84116233, 10.58733313, 11.45549516, 11.69808967,\n",
       "       10.57428613, 10.05530977, 11.57643522, 12.25279988, 10.86892867,\n",
       "       10.88226856, 10.94594065, 11.50486097, 10.57926473, 11.47281516,\n",
       "       10.83622736, 10.94541028, 10.55774992, 10.73283484, 10.88764712,\n",
       "       11.19088019, 11.31799737, 10.75501258, 10.2203591 , 11.1503094 ,\n",
       "       10.07258944, 10.9203209 , 10.39152212, 11.12642205, 10.85318299,\n",
       "       11.10977657, 12.37505906, 10.58428587, 11.39345009, 11.21593964,\n",
       "       10.41883343, 10.38421376, 10.80731412, 10.67571577, 11.16520432,\n",
       "       10.36824238, 11.51189391, 10.40993502, 11.42678856, 10.04947022,\n",
       "       11.09797225, 11.52708703, 10.2549008 , 10.10937701, 11.09564007,\n",
       "       11.03966781, 11.75831704, 10.15386969, 10.41053402, 10.42292852,\n",
       "       10.76431484, 11.41924074, 10.7772469 , 10.749493  , 11.42598422,\n",
       "       11.2424085 , 11.02173889, 11.5070535 , 10.67513562, 10.03045044,\n",
       "       10.02185137, 10.93379241, 11.60510814, 10.81626489, 11.43204039,\n",
       "       10.69021997, 12.62437049, 10.31191515, 10.91928556, 11.85339387,\n",
       "       10.79213248, 10.97391653, 10.77175429, 10.38227714, 10.61709961])"
      ]
     },
     "execution_count": 187,
     "metadata": {},
     "output_type": "execute_result"
    }
   ],
   "source": [
    "test_array = simulation(1000, model, PSU, \"Gauss\")\n",
    "test_array"
   ]
  },
  {
   "cell_type": "code",
   "execution_count": 176,
   "metadata": {
    "scrolled": true
   },
   "outputs": [
    {
     "data": {
      "image/png": "[encoded data removed]",
      "text/plain": [
       "<Figure size 432x288 with 1 Axes>"
      ]
     },
     "metadata": {
      "needs_background": "light"
     },
     "output_type": "display_data"
    }
   ],
   "source": [
    "plt.hist(test_array, bins = 'auto')\n",
    "plt.show()"
   ]
  },
  {
   "cell_type": "markdown",
   "metadata": {},
   "source": [
    "### Chi-Square"
   ]
  },
  {
   "cell_type": "code",
   "execution_count": 183,
   "metadata": {},
   "outputs": [],
   "source": [
    "from sklearn.preprocessing import StandardScaler\n",
    "def normalize_data(data):\n",
    "    norm = (data - min(data))/(max(data)-min(data))\n",
    "    norm[norm==0]= 0.01\n",
    "    norm[norm==1]=0.99\n",
    "    return norm"
   ]
  },
  {
   "cell_type": "code",
   "execution_count": 184,
   "metadata": {
    "scrolled": true
   },
   "outputs": [
    {
     "data": {
      "text/plain": [
       "array([0.84374011, 0.44252566, 0.53755859, 0.48759785, 0.29082959,\n",
       "       0.61844524, 0.51082897, 0.26888768, 0.65595826, 0.76223008,\n",
       "       0.62000647, 0.53211083, 0.79772626, 0.76831262, 0.58687034,\n",
       "       0.51531025, 0.50414605, 0.87300848, 0.65229076, 0.64238032,\n",
       "       0.78737332, 0.70725661, 0.84280882, 0.44461493, 0.39016977,\n",
       "       0.47583428, 0.80116567, 0.41899307, 0.40824111, 0.61270874,\n",
       "       0.67220229, 0.58036794, 0.01      , 0.60504503, 0.61856641,\n",
       "       0.73750925, 0.74536916, 0.86441106, 0.98757001, 0.87865437,\n",
       "       0.61474728, 0.32573417, 0.3598963 , 0.5620532 , 0.61953278,\n",
       "       0.64750287, 0.63950772, 0.56051411, 0.52606184, 0.46075281,\n",
       "       0.30463696, 0.8715305 , 0.99      , 0.5690152 , 0.67430129,\n",
       "       0.51684196, 0.46090031, 0.64537153, 0.24237581, 0.71290211,\n",
       "       0.84697415, 0.68213878, 0.77590273, 0.35200355, 0.8469956 ,\n",
       "       0.69879575, 0.78100458, 0.91545364, 0.47242367, 0.35103661,\n",
       "       0.45407294, 0.39440705, 0.75172462, 0.2766402 , 0.92730891,\n",
       "       0.05832454, 0.74626756, 0.25338084, 0.59064254, 0.71017588,\n",
       "       0.68424214, 0.01756636, 0.59569512, 0.23547059, 0.39694979,\n",
       "       0.41981335, 0.36363751, 0.95650447, 0.57663761, 0.41285987,\n",
       "       0.95067121, 0.61529594, 0.35971028, 0.48591586, 0.66965183,\n",
       "       0.77604926, 0.52358045, 0.46191682, 0.30467082, 0.55322638])"
      ]
     },
     "execution_count": 184,
     "metadata": {},
     "output_type": "execute_result"
    }
   ],
   "source": [
    "a = normalize_data(test_array)\n",
    "a"
   ]
  },
  {
   "cell_type": "code",
   "execution_count": 182,
   "metadata": {},
   "outputs": [
    {
     "data": {
      "text/plain": [
       "array([0.84374011, 0.44252566, 0.53755859, 0.48759785, 0.29082959,\n",
       "       0.61844524, 0.51082897, 0.26888768, 0.65595826, 0.76223008,\n",
       "       0.62000647, 0.53211083, 0.79772626, 0.76831262, 0.58687034,\n",
       "       0.51531025, 0.50414605, 0.87300848, 0.65229076, 0.64238032,\n",
       "       0.78737332, 0.70725661, 0.84280882, 0.44461493, 0.39016977,\n",
       "       0.47583428, 0.80116567, 0.41899307, 0.40824111, 0.61270874,\n",
       "       0.67220229, 0.58036794, 0.1       , 0.60504503, 0.61856641,\n",
       "       0.73750925, 0.74536916, 0.86441106, 0.98757001, 0.87865437,\n",
       "       0.61474728, 0.32573417, 0.3598963 , 0.5620532 , 0.61953278,\n",
       "       0.64750287, 0.63950772, 0.56051411, 0.52606184, 0.46075281,\n",
       "       0.30463696, 0.8715305 , 1.        , 0.5690152 , 0.67430129,\n",
       "       0.51684196, 0.46090031, 0.64537153, 0.24237581, 0.71290211,\n",
       "       0.84697415, 0.68213878, 0.77590273, 0.35200355, 0.8469956 ,\n",
       "       0.69879575, 0.78100458, 0.91545364, 0.47242367, 0.35103661,\n",
       "       0.45407294, 0.39440705, 0.75172462, 0.2766402 , 0.92730891,\n",
       "       0.05832454, 0.74626756, 0.25338084, 0.59064254, 0.71017588,\n",
       "       0.68424214, 0.01756636, 0.59569512, 0.23547059, 0.39694979,\n",
       "       0.41981335, 0.36363751, 0.95650447, 0.57663761, 0.41285987,\n",
       "       0.95067121, 0.61529594, 0.35971028, 0.48591586, 0.66965183,\n",
       "       0.77604926, 0.52358045, 0.46191682, 0.30467082, 0.55322638])"
      ]
     },
     "execution_count": 182,
     "metadata": {},
     "output_type": "execute_result"
    }
   ],
   "source": [
    "a[a==0]=0.1\n",
    "a"
   ]
  },
  {
   "cell_type": "code",
   "execution_count": 188,
   "metadata": {},
   "outputs": [],
   "source": [
    "# github.com/samread81/Distribution-Fitting-Used_Car_Dataset/blob/master/Workbook.ipynb\n",
    "def fit_distribution(data_raw, distribution):\n",
    "    data = normalize_data(data_raw)\n",
    "    dist = getattr(scipy.stats, distribution)\n",
    "    param = dist.fit(data)\n",
    "    return dist, param\n",
    "\n",
    "def compute_chi_square(data):\n",
    "    size = len(data)\n",
    "    dist_names = ['weibull_min', 'norm', 'weibull_max', 'beta', 'invgauss',\n",
    "                  'uniform', 'gamma', 'expon', 'lognorm', 'pearson3', 'triang']\n",
    "    \n",
    "    chi_square_statistics = []\n",
    "    \n",
    "    # Bins\n",
    "    percentile_bins = np.linspace(0,100, 11)\n",
    "    percentile_cutoffs = np.percentile(data, percentile_bins)\n",
    "    obs_frequency, _ = np.histogram(test_array, bins=percentile_cutoffs)\n",
    "    cum_obs_frequency = np.cumsum(obs_frequency)\n",
    "    \n",
    "    # Check candidate distributions\n",
    "    for distribution in dist_names:\n",
    "        # Set up candidate distribution\n",
    "        dist, param = fit_distribution(data, distribution)\n",
    "        \n",
    "        # CDF\n",
    "        cdf_fit = dist.cdf(percentile_cutoffs, *param)\n",
    "        expected_frequency = []\n",
    "        for bin in range(len(percentile_bins)-1):\n",
    "            expected_cdf_area = cdf_fit[bin+1] - cdf_fit[bin]\n",
    "            expected_frequency.append(expected_cdf_area)\n",
    "        \n",
    "        # Chi-Square\n",
    "        expected_frequency = np.array(expected_frequency) * size\n",
    "        cum_expected_frequency = np.cumsum(expected_frequency)\n",
    "        ss = round(sum (((cum_expected_frequency - cum_obs_frequency) ** 2) / cum_obs_frequency), 0)\n",
    "        chi_square_statistics.append(ss)\n",
    "    \n",
    "    # Sort\n",
    "    results = pd.DataFrame()\n",
    "    results['Distribution'] = dist_names\n",
    "    results['Chi_square'] = chi_square_statistics\n",
    "    results.sort_values(['Chi_square'], inplace=True)\n",
    "    \n",
    "    print('\\nDistributions listed by Goodness of Fit:')\n",
    "    print('..........................................')\n",
    "    print(results)   \n",
    "    "
   ]
  },
  {
   "cell_type": "code",
   "execution_count": 189,
   "metadata": {
    "scrolled": false
   },
   "outputs": [
    {
     "name": "stdout",
     "output_type": "stream",
     "text": [
      "\n",
      "Distributions listed by Goodness of Fit:\n",
      "..........................................\n",
      "   Distribution  Chi_square\n",
      "0   weibull_min      5500.0\n",
      "1          norm      5500.0\n",
      "2   weibull_max      5500.0\n",
      "3          beta      5500.0\n",
      "4      invgauss      5500.0\n",
      "5       uniform      5500.0\n",
      "6         gamma      5500.0\n",
      "7         expon      5500.0\n",
      "8       lognorm      5500.0\n",
      "9      pearson3      5500.0\n",
      "10       triang      5500.0\n"
     ]
    }
   ],
   "source": [
    "compute_chi_square(test_array)"
   ]
  },
  {
   "cell_type": "code",
   "execution_count": 149,
   "metadata": {},
   "outputs": [],
   "source": [
    "dist = getattr(scipy.stats, 'weibull_min')\n",
    "param = dist.fit(normalize_data(test_array))"
   ]
  },
  {
   "cell_type": "code",
   "execution_count": 150,
   "metadata": {},
   "outputs": [
    {
     "data": {
      "text/plain": [
       "(2.4959924107354174, -0.05585774945349075, 0.6205238127100805)"
      ]
     },
     "execution_count": 150,
     "metadata": {},
     "output_type": "execute_result"
    }
   ],
   "source": [
    "param"
   ]
  },
  {
   "cell_type": "code",
   "execution_count": 142,
   "metadata": {
    "scrolled": true
   },
   "outputs": [],
   "source": [
    "mean, var  = scipy.stats.distributions.norm.fit(norm_data)\n",
    "x = np.linspace(-2,2,100)\n",
    "fitted_data = scipy.stats.distributions.norm.pdf(x, mean, var)"
   ]
  },
  {
   "cell_type": "code",
   "execution_count": 116,
   "metadata": {},
   "outputs": [],
   "source": [
    "from scipy.stats import weibull_min"
   ]
  },
  {
   "cell_type": "code",
   "execution_count": 151,
   "metadata": {},
   "outputs": [
    {
     "data": {
      "image/png": "[encoded data removed]",
      "text/plain": [
       "<Figure size 432x288 with 2 Axes>"
      ]
     },
     "metadata": {
      "needs_background": "light"
     },
     "output_type": "display_data"
    }
   ],
   "source": [
    "fig, axes = plt.subplots(nrows=1, ncols=2)\n",
    "axes[0].hist(normalize_data(test_array))\n",
    "axes[1].plot(normalize_data(test_array), weibull_min.pdf(normalize_data(test_array), 2.4959924107354174, -0.05585774945349075, 0.6205238127100805))\n",
    "fig.tight_layout()"
   ]
  },
  {
   "cell_type": "code",
   "execution_count": 90,
   "metadata": {},
   "outputs": [],
   "source": [
    "import seaborn as sns"
   ]
  },
  {
   "cell_type": "code",
   "execution_count": 110,
   "metadata": {
    "scrolled": true
   },
   "outputs": [
    {
     "data": {
      "text/plain": [
       "<matplotlib.axes._subplots.AxesSubplot at 0x171437f7108>"
      ]
     },
     "execution_count": 110,
     "metadata": {},
     "output_type": "execute_result"
    },
    {
     "data": {
      "image/png": "[encoded data removed]",
      "text/plain": [
       "<Figure size 432x288 with 1 Axes>"
      ]
     },
     "metadata": {
      "needs_background": "light"
     },
     "output_type": "display_data"
    }
   ],
   "source": [
    "sns.distplot(a = normalize_data(test_array), kde = False, hist=True)"
   ]
  },
  {
   "cell_type": "code",
   "execution_count": 111,
   "metadata": {},
   "outputs": [
    {
     "data": {
      "text/plain": [
       "<matplotlib.axes._subplots.AxesSubplot at 0x171438f1b48>"
      ]
     },
     "execution_count": 111,
     "metadata": {},
     "output_type": "execute_result"
    },
    {
     "data": {
      "image/png": "[encoded data removed]",
      "text/plain": [
       "<Figure size 432x288 with 1 Axes>"
      ]
     },
     "metadata": {
      "needs_background": "light"
     },
     "output_type": "display_data"
    }
   ],
   "source": [
    "sns.kdeplot(data = normalize_data(test_array), shade= True)"
   ]
  },
  {
   "cell_type": "code",
   "execution_count": 155,
   "metadata": {
    "scrolled": true
   },
   "outputs": [
    {
     "ename": "ValueError",
     "evalue": "Domain error in arguments.",
     "output_type": "error",
     "traceback": [
      "\u001b[1;31m---------------------------------------------------------------------------\u001b[0m",
      "\u001b[1;31mValueError\u001b[0m                                Traceback (most recent call last)",
      "\u001b[1;32m<ipython-input-155-6888d1c07d90>\u001b[0m in \u001b[0;36m<module>\u001b[1;34m\u001b[0m\n\u001b[1;32m----> 1\u001b[1;33m \u001b[0mdata_beta\u001b[0m \u001b[1;33m=\u001b[0m \u001b[0mscipy\u001b[0m\u001b[1;33m.\u001b[0m\u001b[0mstats\u001b[0m\u001b[1;33m.\u001b[0m\u001b[0mweibull_min\u001b[0m\u001b[1;33m.\u001b[0m\u001b[0mrvs\u001b[0m\u001b[1;33m(\u001b[0m\u001b[0mparam\u001b[0m\u001b[1;33m,\u001b[0m \u001b[1;36m100000\u001b[0m\u001b[1;33m)\u001b[0m\u001b[1;33m\u001b[0m\u001b[1;33m\u001b[0m\u001b[0m\n\u001b[0m",
      "\u001b[1;32m~\\Anaconda3\\lib\\site-packages\\scipy\\stats\\_distn_infrastructure.py\u001b[0m in \u001b[0;36mrvs\u001b[1;34m(self, *args, **kwds)\u001b[0m\n\u001b[0;32m    960\u001b[0m         \u001b[0mcond\u001b[0m \u001b[1;33m=\u001b[0m \u001b[0mlogical_and\u001b[0m\u001b[1;33m(\u001b[0m\u001b[0mself\u001b[0m\u001b[1;33m.\u001b[0m\u001b[0m_argcheck\u001b[0m\u001b[1;33m(\u001b[0m\u001b[1;33m*\u001b[0m\u001b[0margs\u001b[0m\u001b[1;33m)\u001b[0m\u001b[1;33m,\u001b[0m \u001b[1;33m(\u001b[0m\u001b[0mscale\u001b[0m \u001b[1;33m>=\u001b[0m \u001b[1;36m0\u001b[0m\u001b[1;33m)\u001b[0m\u001b[1;33m)\u001b[0m\u001b[1;33m\u001b[0m\u001b[1;33m\u001b[0m\u001b[0m\n\u001b[0;32m    961\u001b[0m         \u001b[1;32mif\u001b[0m \u001b[1;32mnot\u001b[0m \u001b[0mnp\u001b[0m\u001b[1;33m.\u001b[0m\u001b[0mall\u001b[0m\u001b[1;33m(\u001b[0m\u001b[0mcond\u001b[0m\u001b[1;33m)\u001b[0m\u001b[1;33m:\u001b[0m\u001b[1;33m\u001b[0m\u001b[1;33m\u001b[0m\u001b[0m\n\u001b[1;32m--> 962\u001b[1;33m             \u001b[1;32mraise\u001b[0m \u001b[0mValueError\u001b[0m\u001b[1;33m(\u001b[0m\u001b[1;34m\"Domain error in arguments.\"\u001b[0m\u001b[1;33m)\u001b[0m\u001b[1;33m\u001b[0m\u001b[1;33m\u001b[0m\u001b[0m\n\u001b[0m\u001b[0;32m    963\u001b[0m \u001b[1;33m\u001b[0m\u001b[0m\n\u001b[0;32m    964\u001b[0m         \u001b[1;32mif\u001b[0m \u001b[0mnp\u001b[0m\u001b[1;33m.\u001b[0m\u001b[0mall\u001b[0m\u001b[1;33m(\u001b[0m\u001b[0mscale\u001b[0m \u001b[1;33m==\u001b[0m \u001b[1;36m0\u001b[0m\u001b[1;33m)\u001b[0m\u001b[1;33m:\u001b[0m\u001b[1;33m\u001b[0m\u001b[1;33m\u001b[0m\u001b[0m\n",
      "\u001b[1;31mValueError\u001b[0m: Domain error in arguments."
     ]
    }
   ],
   "source": [
    "data_beta = scipy.stats.weibull_min.rvs(param, 100000)"
   ]
  },
  {
   "cell_type": "code",
   "execution_count": 107,
   "metadata": {},
   "outputs": [],
   "source": [
    "?sns.distplot"
   ]
  },
  {
   "cell_type": "code",
   "execution_count": 104,
   "metadata": {},
   "outputs": [
    {
     "data": {
      "text/plain": [
       "<matplotlib.axes._subplots.AxesSubplot at 0x1714347b508>"
      ]
     },
     "execution_count": 104,
     "metadata": {},
     "output_type": "execute_result"
    },
    {
     "data": {
      "image/png": "[encoded data removed]",
      "text/plain": [
       "<Figure size 432x288 with 1 Axes>"
      ]
     },
     "metadata": {
      "needs_background": "light"
     },
     "output_type": "display_data"
    }
   ],
   "source": [
    "sns.distplot(a = normalize_data(test_array), kde = False)\n",
    "\n",
    "sns.kdeplot(data = data_beta, shade= False, color = 'orange')\n",
    "\n"
   ]
  },
  {
   "cell_type": "code",
   "execution_count": 112,
   "metadata": {},
   "outputs": [
    {
     "data": {
      "text/plain": [
       "<matplotlib.axes._subplots.AxesSubplot at 0x17143a3fc88>"
      ]
     },
     "execution_count": 112,
     "metadata": {},
     "output_type": "execute_result"
    },
    {
     "data": {
      "image/png": "[encoded data removed]",
      "text/plain": [
       "<Figure size 432x288 with 1 Axes>"
      ]
     },
     "metadata": {
      "needs_background": "light"
     },
     "output_type": "display_data"
    }
   ],
   "source": [
    "sns.kdeplot(data = data_beta, shade= True, color = 'orange')\n"
   ]
  },
  {
   "cell_type": "code",
   "execution_count": 44,
   "metadata": {},
   "outputs": [
    {
     "data": {
      "image/png": "[encoded data removed]",
      "text/plain": [
       "<Figure size 432x288 with 1 Axes>"
      ]
     },
     "metadata": {
      "needs_background": "light"
     },
     "output_type": "display_data"
    }
   ],
   "source": [
    "plt.plot(test_array, scipy.stats.beta.pdf(test_array, 1.81, 1.98, 9.2, 3.63 ))\n",
    "plt.show()"
   ]
  },
  {
   "cell_type": "code",
   "execution_count": null,
   "metadata": {},
   "outputs": [],
   "source": []
  },
  {
   "cell_type": "code",
   "execution_count": null,
   "metadata": {},
   "outputs": [],
   "source": []
  },
  {
   "cell_type": "code",
   "execution_count": null,
   "metadata": {},
   "outputs": [],
   "source": []
  },
  {
   "cell_type": "code",
   "execution_count": 15,
   "metadata": {},
   "outputs": [
    {
     "data": {
      "text/plain": [
       "array([ 9.197146  ,  9.78890629, 10.07615613, 10.36389014, 10.64630953,\n",
       "       10.92994738, 11.21584272, 11.505101  , 11.792405  , 12.08932347,\n",
       "       12.82617833])"
      ]
     },
     "execution_count": 15,
     "metadata": {},
     "output_type": "execute_result"
    }
   ],
   "source": [
    "percentile_bins = np.linspace(0,100,11)\n",
    "np.percentile(test_array, percentile_bins)"
   ]
  },
  {
   "cell_type": "code",
   "execution_count": null,
   "metadata": {},
   "outputs": [],
   "source": []
  },
  {
   "cell_type": "code",
   "execution_count": 19,
   "metadata": {},
   "outputs": [
    {
     "data": {
      "text/plain": [
       "(2.464008692183995, 9.018519471091595, 2.1663672428882403)"
      ]
     },
     "execution_count": 19,
     "metadata": {},
     "output_type": "execute_result"
    }
   ],
   "source": [
    "dist = getattr(scipy.stats, 'weibull_min')\n",
    "dist.fit(test_array)"
   ]
  },
  {
   "cell_type": "code",
   "execution_count": 20,
   "metadata": {},
   "outputs": [
    {
     "data": {
      "text/plain": [
       "100000"
      ]
     },
     "execution_count": 20,
     "metadata": {},
     "output_type": "execute_result"
    }
   ],
   "source": [
    "len(test_array)"
   ]
  }
 ],
 "metadata": {
  "kernelspec": {
   "display_name": "Python 3",
   "language": "python",
   "name": "python3"
  },
  "language_info": {
   "codemirror_mode": {
    "name": "ipython",
    "version": 3
   },
   "file_extension": ".py",
   "mimetype": "text/x-python",
   "name": "python",
   "nbconvert_exporter": "python",
   "pygments_lexer": "ipython3",
   "version": "3.7.4"
  }
 },
 "nbformat": 4,
 "nbformat_minor": 4
}
