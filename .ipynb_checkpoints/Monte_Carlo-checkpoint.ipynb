{
 "cells": [
  {
   "cell_type": "code",
   "execution_count": 2,
   "metadata": {},
   "outputs": [],
   "source": [
    "import numpy as np\n",
    "import math\n",
    "import random\n",
    "from matplotlib import pyplot as plt"
   ]
  },
  {
   "cell_type": "code",
   "execution_count": 8,
   "metadata": {
    "scrolled": false
   },
   "outputs": [
    {
     "name": "stdout",
     "output_type": "stream",
     "text": [
      "9.549721931483209\n",
      "1.4701909239845508\n",
      "9.579804944240557\n",
      "1.0658251623608335\n",
      "3.600117098677355\n",
      "9.435883971864476\n",
      "3.6851372024371707\n",
      "5.670227818627141\n",
      "5.072191996125119\n",
      "7.251281930766034\n"
     ]
    }
   ],
   "source": [
    "# For Monte Carlo Approach\n",
    "\n",
    "for i in range(10):\n",
    "    print(random.uniform(1,10))"
   ]
  },
  {
   "cell_type": "code",
   "execution_count": 13,
   "metadata": {},
   "outputs": [
    {
     "name": "stdout",
     "output_type": "stream",
     "text": [
      "1.090032024403626\n",
      "0.8371630823865888\n",
      "2.157955695099237\n",
      "-2.7063966493803546\n",
      "-1.8206652091076283\n",
      "1.5212949624732819\n",
      "-0.5270236939415323\n",
      "-1.1154462205692968\n",
      "0.3971036225086773\n",
      "-0.404906679268235\n"
     ]
    }
   ],
   "source": [
    "# For Simulation Assuming Distributions\n",
    "\n",
    "for i in range(10):\n",
    "    print(random.gauss(0,1))"
   ]
  }
 ],
 "metadata": {
  "kernelspec": {
   "display_name": "Python 3",
   "language": "python",
   "name": "python3"
  },
  "language_info": {
   "codemirror_mode": {
    "name": "ipython",
    "version": 3
   },
   "file_extension": ".py",
   "mimetype": "text/x-python",
   "name": "python",
   "nbconvert_exporter": "python",
   "pygments_lexer": "ipython3",
   "version": "3.7.4"
  }
 },
 "nbformat": 4,
 "nbformat_minor": 4
}
