{
 "cells": [
  {
   "cell_type": "code",
   "execution_count": 1,
   "metadata": {},
   "outputs": [],
   "source": [
    "import numpy as np\n",
    "import math\n",
    "from matplotlib import pyplot as plt\n",
    "import time\n",
    "import scipy.stats\n",
    "import pandas as pd\n",
    "import random"
   ]
  },
  {
   "cell_type": "markdown",
   "metadata": {},
   "source": [
    "## Create Electronic Model Class"
   ]
  },
  {
   "cell_type": "code",
   "execution_count": 2,
   "metadata": {},
   "outputs": [],
   "source": [
    "# Tolerances of electronic components\n",
    "# Used to initialize the class\n",
    "\n",
    "Vout = np.array([3.2, 3.3, 3.4])\n",
    "LS_Ron = np.array([6.3, 8.3, 11])*1e-3\n",
    "Iout = np.array([2.64, 3.03, 3.45])\n",
    "Vin = np.array([13.3, 13.35, 13.37])\n",
    "Fsw = np.array([430, 455, 489])*1e3\n",
    "Vbody_diode = np.array([0.65, 0.8, 1.2])\n",
    "L = np.array([5.4, 4.5, 3.6])*1e-6\n",
    "DCR = np.array([12.61, 19, 27.23])*1e-3\n",
    "P_IC = np.array([83.93, 88.81, 93.69])*1e-3"
   ]
  },
  {
   "cell_type": "code",
   "execution_count": 3,
   "metadata": {
    "scrolled": true
   },
   "outputs": [
    {
     "data": {
      "text/plain": [
       "array([ 9.28592306, 10.85749529, 12.66975792])"
      ]
     },
     "execution_count": 3,
     "metadata": {},
     "output_type": "execute_result"
    }
   ],
   "source": [
    "# Initialize Class\n",
    "from PSU_class import PSU\n",
    "\n",
    "model = PSU(Vout, LS_Ron, Iout, Vin, Fsw, Vbody_diode, L, DCR, P_IC)\n",
    "model.P_in()"
   ]
  },
  {
   "cell_type": "markdown",
   "metadata": {},
   "source": [
    "## Simulate from Class"
   ]
  },
  {
   "cell_type": "code",
   "execution_count": 4,
   "metadata": {},
   "outputs": [],
   "source": [
    "# Number of simulations\n",
    "n_simulation = 20000"
   ]
  },
  {
   "cell_type": "code",
   "execution_count": 5,
   "metadata": {},
   "outputs": [],
   "source": [
    "# Simulate output with parameters with Uniform Distribution\n",
    "from helper_functions import simulation\n",
    "random.seed(123456789)\n",
    "\n",
    "simulation = simulation(n_simulation, model, PSU, \"Gauss\")"
   ]
  },
  {
   "cell_type": "code",
   "execution_count": 6,
   "metadata": {
    "scrolled": false
   },
   "outputs": [
    {
     "data": {
      "image/png": "[encoded data removed]",
      "text/plain": [
       "<Figure size 432x288 with 1 Axes>"
      ]
     },
     "metadata": {
      "needs_background": "light"
     },
     "output_type": "display_data"
    }
   ],
   "source": [
    "# Plot historgram\n",
    "plt.hist(simulation, bins = 'auto')\n",
    "plt.xlabel('P_in')\n",
    "plt.show()"
   ]
  },
  {
   "cell_type": "markdown",
   "metadata": {},
   "source": [
    "## Model Selection Methods"
   ]
  },
  {
   "cell_type": "markdown",
   "metadata": {},
   "source": [
    "### Chi-Square"
   ]
  },
  {
   "cell_type": "code",
   "execution_count": 7,
   "metadata": {
    "scrolled": false
   },
   "outputs": [
    {
     "name": "stdout",
     "output_type": "stream",
     "text": [
      "Distribution: weibull_min || Parameters: (535558243.74778223, -267297229.44106054, 267297240.3829161)\n",
      "Distribution: norm || Parameters: (10.856259656824205, 0.29196822159622116)\n",
      "Distribution: weibull_max || Parameters: (4.470640281019465, 12.036476365486973, 1.2922171674051224)\n",
      "Distribution: beta || Parameters: (345.38517347399545, 411.7619384899366, 3.4934919387580834, 16.140525578260675)\n",
      "Distribution: invgauss || Parameters: (0.023598770251486073, 8.847910431180633, 85.07085944759757)\n",
      "Distribution: uniform || Parameters: (9.630874539601498, 2.3965155216442877)\n",
      "Distribution: gamma || Parameters: (24535.77836922357, -34.8774172836174, 0.0018639586543390638)\n",
      "Distribution: expon || Parameters: (9.630874539601498, 1.2253851172227073)\n",
      "Distribution: lognorm || Parameters: (0.012149947523018092, -13.152122398001904, 24.006654089099236)\n",
      "Distribution: pearson3 || Parameters: (0.01286539406037773, 10.856257563772813, 0.29196627225285543)\n",
      "Distribution: triang || Parameters: (0.5161791279484609, 9.630681006381643, 2.3968376010457018)\n",
      "\n",
      "Distributions listed by Goodness of Fit:\n",
      "..........................................\n",
      "   Distribution  Log_likelihood  Chi_square  \\\n",
      "1          norm    -3756.564408         1.0   \n",
      "3          beta    -3756.264641         1.0   \n",
      "6         gamma    -3756.291093         1.0   \n",
      "9      pearson3    -3756.291087         1.0   \n",
      "8       lognorm    -3757.240934         3.0   \n",
      "2   weibull_max    -3867.225868        65.0   \n",
      "4      invgauss    -4104.094446       231.0   \n",
      "10       triang    -8369.215284      7107.0   \n",
      "0   weibull_min    -9531.021811      8574.0   \n",
      "5       uniform   -17480.316328     21682.0   \n",
      "7         expon   -24065.103520     53885.0   \n",
      "\n",
      "                                           Parameters  \n",
      "1           (10.856259656824205, 0.29196822159622116)  \n",
      "3   (345.38517347399545, 411.7619384899366, 3.4934...  \n",
      "6   (24535.77836922357, -34.8774172836174, 0.00186...  \n",
      "9   (0.01286539406037773, 10.856257563772813, 0.29...  \n",
      "8   (0.012149947523018092, -13.152122398001904, 24...  \n",
      "2   (4.470640281019465, 12.036476365486973, 1.2922...  \n",
      "4   (0.023598770251486073, 8.847910431180633, 85.0...  \n",
      "10  (0.5161791279484609, 9.630681006381643, 2.3968...  \n",
      "0   (535558243.74778223, -267297229.44106054, 2672...  \n",
      "5             (9.630874539601498, 2.3965155216442877)  \n",
      "7             (9.630874539601498, 1.2253851172227073)  \n"
     ]
    }
   ],
   "source": [
    "from helper_functions import compute_chi_square\n",
    "\n",
    "results = compute_chi_square(simulation)"
   ]
  },
  {
   "cell_type": "code",
   "execution_count": 13,
   "metadata": {},
   "outputs": [
    {
     "data": {
      "text/html": [
       "<div>\n",
       "<style scoped>\n",
       "    .dataframe tbody tr th:only-of-type {\n",
       "        vertical-align: middle;\n",
       "    }\n",
       "\n",
       "    .dataframe tbody tr th {\n",
       "        vertical-align: top;\n",
       "    }\n",
       "\n",
       "    .dataframe thead th {\n",
       "        text-align: right;\n",
       "    }\n",
       "</style>\n",
       "<table border=\"1\" class=\"dataframe\">\n",
       "  <thead>\n",
       "    <tr style=\"text-align: right;\">\n",
       "      <th></th>\n",
       "      <th>Distribution</th>\n",
       "      <th>Log_likelihood</th>\n",
       "      <th>Chi_square</th>\n",
       "      <th>Parameters</th>\n",
       "    </tr>\n",
       "  </thead>\n",
       "  <tbody>\n",
       "    <tr>\n",
       "      <td>1</td>\n",
       "      <td>norm</td>\n",
       "      <td>-3756.564408</td>\n",
       "      <td>1.0</td>\n",
       "      <td>(10.856259656824205, 0.29196822159622116)</td>\n",
       "    </tr>\n",
       "    <tr>\n",
       "      <td>3</td>\n",
       "      <td>beta</td>\n",
       "      <td>-3756.264641</td>\n",
       "      <td>1.0</td>\n",
       "      <td>(345.38517347399545, 411.7619384899366, 3.4934...</td>\n",
       "    </tr>\n",
       "    <tr>\n",
       "      <td>6</td>\n",
       "      <td>gamma</td>\n",
       "      <td>-3756.291093</td>\n",
       "      <td>1.0</td>\n",
       "      <td>(24535.77836922357, -34.8774172836174, 0.00186...</td>\n",
       "    </tr>\n",
       "    <tr>\n",
       "      <td>9</td>\n",
       "      <td>pearson3</td>\n",
       "      <td>-3756.291087</td>\n",
       "      <td>1.0</td>\n",
       "      <td>(0.01286539406037773, 10.856257563772813, 0.29...</td>\n",
       "    </tr>\n",
       "    <tr>\n",
       "      <td>8</td>\n",
       "      <td>lognorm</td>\n",
       "      <td>-3757.240934</td>\n",
       "      <td>3.0</td>\n",
       "      <td>(0.012149947523018092, -13.152122398001904, 24...</td>\n",
       "    </tr>\n",
       "    <tr>\n",
       "      <td>2</td>\n",
       "      <td>weibull_max</td>\n",
       "      <td>-3867.225868</td>\n",
       "      <td>65.0</td>\n",
       "      <td>(4.470640281019465, 12.036476365486973, 1.2922...</td>\n",
       "    </tr>\n",
       "    <tr>\n",
       "      <td>4</td>\n",
       "      <td>invgauss</td>\n",
       "      <td>-4104.094446</td>\n",
       "      <td>231.0</td>\n",
       "      <td>(0.023598770251486073, 8.847910431180633, 85.0...</td>\n",
       "    </tr>\n",
       "    <tr>\n",
       "      <td>10</td>\n",
       "      <td>triang</td>\n",
       "      <td>-8369.215284</td>\n",
       "      <td>7107.0</td>\n",
       "      <td>(0.5161791279484609, 9.630681006381643, 2.3968...</td>\n",
       "    </tr>\n",
       "    <tr>\n",
       "      <td>0</td>\n",
       "      <td>weibull_min</td>\n",
       "      <td>-9531.021811</td>\n",
       "      <td>8574.0</td>\n",
       "      <td>(535558243.74778223, -267297229.44106054, 2672...</td>\n",
       "    </tr>\n",
       "    <tr>\n",
       "      <td>5</td>\n",
       "      <td>uniform</td>\n",
       "      <td>-17480.316328</td>\n",
       "      <td>21682.0</td>\n",
       "      <td>(9.630874539601498, 2.3965155216442877)</td>\n",
       "    </tr>\n",
       "    <tr>\n",
       "      <td>7</td>\n",
       "      <td>expon</td>\n",
       "      <td>-24065.103520</td>\n",
       "      <td>53885.0</td>\n",
       "      <td>(9.630874539601498, 1.2253851172227073)</td>\n",
       "    </tr>\n",
       "  </tbody>\n",
       "</table>\n",
       "</div>"
      ],
      "text/plain": [
       "   Distribution  Log_likelihood  Chi_square  \\\n",
       "1          norm    -3756.564408         1.0   \n",
       "3          beta    -3756.264641         1.0   \n",
       "6         gamma    -3756.291093         1.0   \n",
       "9      pearson3    -3756.291087         1.0   \n",
       "8       lognorm    -3757.240934         3.0   \n",
       "2   weibull_max    -3867.225868        65.0   \n",
       "4      invgauss    -4104.094446       231.0   \n",
       "10       triang    -8369.215284      7107.0   \n",
       "0   weibull_min    -9531.021811      8574.0   \n",
       "5       uniform   -17480.316328     21682.0   \n",
       "7         expon   -24065.103520     53885.0   \n",
       "\n",
       "                                           Parameters  \n",
       "1           (10.856259656824205, 0.29196822159622116)  \n",
       "3   (345.38517347399545, 411.7619384899366, 3.4934...  \n",
       "6   (24535.77836922357, -34.8774172836174, 0.00186...  \n",
       "9   (0.01286539406037773, 10.856257563772813, 0.29...  \n",
       "8   (0.012149947523018092, -13.152122398001904, 24...  \n",
       "2   (4.470640281019465, 12.036476365486973, 1.2922...  \n",
       "4   (0.023598770251486073, 8.847910431180633, 85.0...  \n",
       "10  (0.5161791279484609, 9.630681006381643, 2.3968...  \n",
       "0   (535558243.74778223, -267297229.44106054, 2672...  \n",
       "5             (9.630874539601498, 2.3965155216442877)  \n",
       "7             (9.630874539601498, 1.2253851172227073)  "
      ]
     },
     "execution_count": 13,
     "metadata": {},
     "output_type": "execute_result"
    }
   ],
   "source": [
    "results"
   ]
  },
  {
   "cell_type": "code",
   "execution_count": 22,
   "metadata": {},
   "outputs": [
    {
     "data": {
      "text/plain": [
       "(24535.77836922357, -34.8774172836174, 0.0018639586543390638)"
      ]
     },
     "execution_count": 22,
     "metadata": {},
     "output_type": "execute_result"
    }
   ],
   "source": [
    "results.iloc[2]['Parameters']"
   ]
  },
  {
   "cell_type": "markdown",
   "metadata": {},
   "source": [
    "**Model A:** Normal Distribution\n",
    "\n",
    "**Model B:** Beta Distribution"
   ]
  },
  {
   "cell_type": "markdown",
   "metadata": {},
   "source": [
    "### Non-Nested Likelihood Ratio Test\n",
    "\n",
    "Compare **Model A** to **Model B** and choose the best fit. "
   ]
  },
  {
   "cell_type": "code",
   "execution_count": null,
   "metadata": {},
   "outputs": [],
   "source": [
    "from helper_functions import LRT\n",
    "\n",
    "Q, qQi = LRT(results.iloc[:2], 1000, n_simulation)\n",
    "if Q < qQi: print('Select model A')"
   ]
  },
  {
   "cell_type": "markdown",
   "metadata": {},
   "source": [
    "### Q-Q Plot\n",
    "\n",
    "Compare **Model A** to **Model B** on a quantile-quantile plot. "
   ]
  },
  {
   "cell_type": "code",
   "execution_count": null,
   "metadata": {
    "scrolled": true
   },
   "outputs": [],
   "source": [
    "from helper_functions import qqplot\n",
    "\n",
    "qqplot(simulation, results)"
   ]
  },
  {
   "cell_type": "markdown",
   "metadata": {},
   "source": [
    "### Chosen Model Description"
   ]
  },
  {
   "cell_type": "code",
   "execution_count": 17,
   "metadata": {},
   "outputs": [],
   "source": [
    "best_name = results.iloc[0]['Distribution']\n",
    "best_params = results.iloc[0]['Parameters']\n",
    "\n",
    "best_dist = getattr(scipy.stats, best_name)"
   ]
  },
  {
   "cell_type": "markdown",
   "metadata": {},
   "source": [
    "## Plot Choosen Model Againts Data"
   ]
  },
  {
   "cell_type": "code",
   "execution_count": null,
   "metadata": {},
   "outputs": [],
   "source": [
    "import seaborn as sns"
   ]
  },
  {
   "cell_type": "markdown",
   "metadata": {},
   "source": [
    "**Simulated Data Histogram**"
   ]
  },
  {
   "cell_type": "code",
   "execution_count": null,
   "metadata": {
    "scrolled": false
   },
   "outputs": [],
   "source": [
    "sns.distplot(a = simulation, kde = False, norm_hist=True)\n",
    "sns.kdeplot(data = simulation, shade= False)"
   ]
  },
  {
   "cell_type": "markdown",
   "metadata": {},
   "source": [
    "**Chosen Distribution Density Function**"
   ]
  },
  {
   "cell_type": "code",
   "execution_count": 19,
   "metadata": {},
   "outputs": [],
   "source": [
    "simulation.sort()"
   ]
  },
  {
   "cell_type": "code",
   "execution_count": 20,
   "metadata": {
    "scrolled": false
   },
   "outputs": [
    {
     "data": {
      "text/plain": [
       "[<matplotlib.lines.Line2D at 0x173b223f588>]"
      ]
     },
     "execution_count": 20,
     "metadata": {},
     "output_type": "execute_result"
    },
    {
     "data": {
      "image/png": "[encoded data removed]",
      "text/plain": [
       "<Figure size 432x288 with 1 Axes>"
      ]
     },
     "metadata": {
      "needs_background": "light"
     },
     "output_type": "display_data"
    }
   ],
   "source": [
    "plt.plot(simulation, best_dist.pdf(simulation,*best_params))"
   ]
  },
  {
   "cell_type": "markdown",
   "metadata": {},
   "source": [
    "**Chosen Distribution on top of Simulated Data Histogram**"
   ]
  },
  {
   "cell_type": "code",
   "execution_count": null,
   "metadata": {
    "scrolled": true
   },
   "outputs": [],
   "source": [
    "sns.distplot(a = simulation, kde = False, norm_hist=True)\n",
    "plt.plot(simulation, best_dist.pdf(simulation, *best_params))"
   ]
  },
  {
   "cell_type": "markdown",
   "metadata": {},
   "source": [
    "## Validation Methods"
   ]
  },
  {
   "cell_type": "markdown",
   "metadata": {},
   "source": [
    "### Kolmogorov-Smirnoff 2 Sample Test"
   ]
  },
  {
   "cell_type": "code",
   "execution_count": null,
   "metadata": {},
   "outputs": [],
   "source": [
    "from scipy.stats import ks_2samp"
   ]
  },
  {
   "cell_type": "code",
   "execution_count": null,
   "metadata": {
    "scrolled": true
   },
   "outputs": [],
   "source": [
    "data1 = np.random.choice(a = simulation, size = 2000)\n",
    "data2 = best_dist.rvs(*best_params, size = 2000)\n",
    "statistic, pvalue = ks_2samp(data1,data2)\n",
    "print(f\"The Statistic value is: {statistic} \\nThe p_value is: {pvalue}\")"
   ]
  },
  {
   "cell_type": "code",
   "execution_count": null,
   "metadata": {},
   "outputs": [],
   "source": [
    "n1 = len(data1)\n",
    "n2 = len(data2)\n",
    "alpha = 0.05\n",
    "c_alpha = 1.36 # https://sparky.rice.edu//astr360/kstest.pdf\n",
    "critical_value = c_alpha * ((n1 + n2)/(n1*n2))**0.5 \n",
    "critical_value"
   ]
  },
  {
   "cell_type": "code",
   "execution_count": null,
   "metadata": {},
   "outputs": [],
   "source": [
    "if statistic > critical_value:\n",
    "    print('The two samples come from different distributions')\n",
    "else:\n",
    "    print('The two samples come from same distributions')"
   ]
  },
  {
   "cell_type": "markdown",
   "metadata": {},
   "source": [
    "## Work Within Limits"
   ]
  },
  {
   "cell_type": "markdown",
   "metadata": {},
   "source": [
    "### Quantiles"
   ]
  },
  {
   "cell_type": "code",
   "execution_count": null,
   "metadata": {},
   "outputs": [],
   "source": [
    "quantiles = best_dist.ppf([0.0001, 0.5, 0.9999], *best_params)\n",
    "quantiles"
   ]
  },
  {
   "cell_type": "markdown",
   "metadata": {},
   "source": [
    "### Cp"
   ]
  },
  {
   "cell_type": "code",
   "execution_count": null,
   "metadata": {},
   "outputs": [],
   "source": [
    "# This value depends on the best distribution\n",
    "sigma = best_params[1]"
   ]
  },
  {
   "cell_type": "code",
   "execution_count": null,
   "metadata": {
    "scrolled": true
   },
   "outputs": [],
   "source": [
    "limit_min = model.P_in()[0]\n",
    "limit_MAX = model.P_in()[2] \n",
    "Cp = (limit_MAX - limit_min)/(6 * sigma)\n",
    "Cp"
   ]
  }
 ],
 "metadata": {
  "kernelspec": {
   "display_name": "Python 3",
   "language": "python",
   "name": "python3"
  },
  "language_info": {
   "codemirror_mode": {
    "name": "ipython",
    "version": 3
   },
   "file_extension": ".py",
   "mimetype": "text/x-python",
   "name": "python",
   "nbconvert_exporter": "python",
   "pygments_lexer": "ipython3",
   "version": "3.7.4"
  }
 },
 "nbformat": 4,
 "nbformat_minor": 4
}
