{
 "cells": [
  {
   "cell_type": "code",
   "execution_count": 1,
   "metadata": {},
   "outputs": [],
   "source": [
    "import numpy as np\n",
    "import math\n",
    "from matplotlib import pyplot as plt\n",
    "import time\n",
    "import scipy.stats\n",
    "import pandas as pd\n",
    "import random"
   ]
  },
  {
   "cell_type": "markdown",
   "metadata": {},
   "source": [
    "## Simulate from Class"
   ]
  },
  {
   "cell_type": "code",
   "execution_count": 2,
   "metadata": {},
   "outputs": [
    {
     "data": {
      "text/plain": [
       "(20000, 9)"
      ]
     },
     "execution_count": 2,
     "metadata": {},
     "output_type": "execute_result"
    }
   ],
   "source": [
    "x = np.genfromtxt('data/input.csv', delimiter=',')\n",
    "x.shape"
   ]
  },
  {
   "cell_type": "code",
   "execution_count": 3,
   "metadata": {},
   "outputs": [
    {
     "data": {
      "text/plain": [
       "(20000,)"
      ]
     },
     "execution_count": 3,
     "metadata": {},
     "output_type": "execute_result"
    }
   ],
   "source": [
    "simulation = np.genfromtxt('data/output.csv', delimiter=',')\n",
    "simulation.shape"
   ]
  },
  {
   "cell_type": "code",
   "execution_count": 4,
   "metadata": {},
   "outputs": [],
   "source": [
    "y = simulation"
   ]
  },
  {
   "cell_type": "code",
   "execution_count": 5,
   "metadata": {
    "scrolled": false
   },
   "outputs": [
    {
     "data": {
      "image/png": "[encoded data removed]",
      "text/plain": [
       "<Figure size 432x288 with 1 Axes>"
      ]
     },
     "metadata": {
      "needs_background": "light"
     },
     "output_type": "display_data"
    }
   ],
   "source": [
    "# Plot historgram\n",
    "plt.hist(simulation, bins = 'auto')\n",
    "plt.xlabel('P_in')\n",
    "plt.show()"
   ]
  },
  {
   "cell_type": "code",
   "execution_count": 6,
   "metadata": {},
   "outputs": [],
   "source": [
    "# Tolerances of electronic components\n",
    "# Used to initialize the class\n",
    "from PSU_class import PSU\n",
    "\n",
    "Vout = np.array([3.2, 3.3, 3.4])\n",
    "LS_Ron = np.array([6.3, 8.3, 11])*1e-3\n",
    "Iout = np.array([2.64, 3.03, 3.45])\n",
    "Vin = np.array([13.3, 13.35, 13.37])\n",
    "Fsw = np.array([430, 455, 489])*1e3\n",
    "Vbody_diode = np.array([0.65, 0.8, 1.2])\n",
    "L = np.array([5.4, 4.5, 3.6])*1e-6\n",
    "DCR = np.array([12.61, 19, 27.23])*1e-3\n",
    "P_IC = np.array([83.93, 88.81, 93.69])*1e-3\n",
    "\n",
    "model = PSU(Vout, LS_Ron, Iout, Vin, Fsw, Vbody_diode, L, DCR, P_IC)\n",
    "\n",
    "limit_min = model.P_in()[0]\n",
    "limit_MAX = model.P_in()[2]\n",
    "limit_nom = model.P_in()[1]"
   ]
  },
  {
   "cell_type": "markdown",
   "metadata": {},
   "source": [
    "## Model Selection Methods"
   ]
  },
  {
   "cell_type": "markdown",
   "metadata": {},
   "source": [
    "### Chi-Square"
   ]
  },
  {
   "cell_type": "code",
   "execution_count": 7,
   "metadata": {
    "scrolled": false
   },
   "outputs": [
    {
     "name": "stdout",
     "output_type": "stream",
     "text": [
      "Distribution: weibull_min || Parameters: (4.209823302146594, 9.752128013554469, 1.2126126763129437)\n",
      "Distribution: norm || Parameters: (10.855754143885084, 0.289212270506663)\n",
      "Distribution: weibull_max || Parameters: (4.165789169745157, 11.944527058417233, 1.197107615621026)\n",
      "Distribution: beta || Parameters: (1382.2562704618335, 2140.0620851779486, -2.940879469826651, 35.157109414961276)\n",
      "Distribution: invgauss || Parameters: (0.014824681595628057, 8.417802033380093, 164.2301758633106)\n",
      "Distribution: uniform || Parameters: (9.763923621594225, 2.1602092690086625)\n",
      "Distribution: gamma || Parameters: (18158.834821631688, -28.11696932776931, 0.002146212788737483)\n",
      "Distribution: expon || Parameters: (9.763923621594225, 1.0918305222908593)\n",
      "Distribution: lognorm || Parameters: (0.012696297372284948, -11.91493143058753, 22.768545993004153)\n",
      "Distribution: pearson3 || Parameters: (0.8092113114970197, 10.898386520782875, 0.4594465725723764)\n",
      "Distribution: triang || Parameters: (0.508571469294267, 9.76375419579111, 2.160549992693306)\n",
      "\n",
      "Distributions listed by Goodness of Fit:\n",
      "..........................................\n",
      "   Distribution  Log_likelihood  Chi_square  \\\n",
      "1          norm    -3566.883455         0.0   \n",
      "3          beta    -3566.513365         1.0   \n",
      "6         gamma    -3566.515747         1.0   \n",
      "8       lognorm    -3567.430566         2.0   \n",
      "2   weibull_max    -3648.776199        42.0   \n",
      "0   weibull_min    -3667.089562        61.0   \n",
      "4      invgauss    -3776.837869       159.0   \n",
      "9      pearson3    -6528.510339      3397.0   \n",
      "10       triang    -6916.007006      4957.0   \n",
      "5       uniform   -15404.102016     18559.0   \n",
      "7         expon   -21757.113318     50125.0   \n",
      "\n",
      "                                           Parameters  \n",
      "1             (10.855754143885084, 0.289212270506663)  \n",
      "3   (1382.2562704618335, 2140.0620851779486, -2.94...  \n",
      "6   (18158.834821631688, -28.11696932776931, 0.002...  \n",
      "8   (0.012696297372284948, -11.91493143058753, 22....  \n",
      "2   (4.165789169745157, 11.944527058417233, 1.1971...  \n",
      "0   (4.209823302146594, 9.752128013554469, 1.21261...  \n",
      "4   (0.014824681595628057, 8.417802033380093, 164....  \n",
      "9   (0.8092113114970197, 10.898386520782875, 0.459...  \n",
      "10  (0.508571469294267, 9.76375419579111, 2.160549...  \n",
      "5             (9.763923621594225, 2.1602092690086625)  \n",
      "7             (9.763923621594225, 1.0918305222908593)  \n"
     ]
    }
   ],
   "source": [
    "from helper_functions import compute_chi_square\n",
    "\n",
    "results = compute_chi_square(simulation)"
   ]
  },
  {
   "cell_type": "code",
   "execution_count": 8,
   "metadata": {},
   "outputs": [],
   "source": [
    "results\n",
    "results.to_csv('Data/MLE_table.csv',header=None, index=None)"
   ]
  },
  {
   "cell_type": "code",
   "execution_count": 9,
   "metadata": {},
   "outputs": [
    {
     "data": {
      "text/html": [
       "<div>\n",
       "<style scoped>\n",
       "    .dataframe tbody tr th:only-of-type {\n",
       "        vertical-align: middle;\n",
       "    }\n",
       "\n",
       "    .dataframe tbody tr th {\n",
       "        vertical-align: top;\n",
       "    }\n",
       "\n",
       "    .dataframe thead th {\n",
       "        text-align: right;\n",
       "    }\n",
       "</style>\n",
       "<table border=\"1\" class=\"dataframe\">\n",
       "  <thead>\n",
       "    <tr style=\"text-align: right;\">\n",
       "      <th></th>\n",
       "      <th>Distribution</th>\n",
       "      <th>Log_likelihood</th>\n",
       "      <th>Chi_square</th>\n",
       "      <th>Parameters</th>\n",
       "    </tr>\n",
       "  </thead>\n",
       "  <tbody>\n",
       "    <tr>\n",
       "      <td>1</td>\n",
       "      <td>norm</td>\n",
       "      <td>-3566.883455</td>\n",
       "      <td>0.0</td>\n",
       "      <td>(10.855754143885084, 0.289212270506663)</td>\n",
       "    </tr>\n",
       "    <tr>\n",
       "      <td>3</td>\n",
       "      <td>beta</td>\n",
       "      <td>-3566.513365</td>\n",
       "      <td>1.0</td>\n",
       "      <td>(1382.2562704618335, 2140.0620851779486, -2.94...</td>\n",
       "    </tr>\n",
       "    <tr>\n",
       "      <td>6</td>\n",
       "      <td>gamma</td>\n",
       "      <td>-3566.515747</td>\n",
       "      <td>1.0</td>\n",
       "      <td>(18158.834821631688, -28.11696932776931, 0.002...</td>\n",
       "    </tr>\n",
       "    <tr>\n",
       "      <td>8</td>\n",
       "      <td>lognorm</td>\n",
       "      <td>-3567.430566</td>\n",
       "      <td>2.0</td>\n",
       "      <td>(0.012696297372284948, -11.91493143058753, 22....</td>\n",
       "    </tr>\n",
       "    <tr>\n",
       "      <td>2</td>\n",
       "      <td>weibull_max</td>\n",
       "      <td>-3648.776199</td>\n",
       "      <td>42.0</td>\n",
       "      <td>(4.165789169745157, 11.944527058417233, 1.1971...</td>\n",
       "    </tr>\n",
       "    <tr>\n",
       "      <td>0</td>\n",
       "      <td>weibull_min</td>\n",
       "      <td>-3667.089562</td>\n",
       "      <td>61.0</td>\n",
       "      <td>(4.209823302146594, 9.752128013554469, 1.21261...</td>\n",
       "    </tr>\n",
       "    <tr>\n",
       "      <td>4</td>\n",
       "      <td>invgauss</td>\n",
       "      <td>-3776.837869</td>\n",
       "      <td>159.0</td>\n",
       "      <td>(0.014824681595628057, 8.417802033380093, 164....</td>\n",
       "    </tr>\n",
       "    <tr>\n",
       "      <td>9</td>\n",
       "      <td>pearson3</td>\n",
       "      <td>-6528.510339</td>\n",
       "      <td>3397.0</td>\n",
       "      <td>(0.8092113114970197, 10.898386520782875, 0.459...</td>\n",
       "    </tr>\n",
       "    <tr>\n",
       "      <td>10</td>\n",
       "      <td>triang</td>\n",
       "      <td>-6916.007006</td>\n",
       "      <td>4957.0</td>\n",
       "      <td>(0.508571469294267, 9.76375419579111, 2.160549...</td>\n",
       "    </tr>\n",
       "    <tr>\n",
       "      <td>5</td>\n",
       "      <td>uniform</td>\n",
       "      <td>-15404.102016</td>\n",
       "      <td>18559.0</td>\n",
       "      <td>(9.763923621594225, 2.1602092690086625)</td>\n",
       "    </tr>\n",
       "    <tr>\n",
       "      <td>7</td>\n",
       "      <td>expon</td>\n",
       "      <td>-21757.113318</td>\n",
       "      <td>50125.0</td>\n",
       "      <td>(9.763923621594225, 1.0918305222908593)</td>\n",
       "    </tr>\n",
       "  </tbody>\n",
       "</table>\n",
       "</div>"
      ],
      "text/plain": [
       "   Distribution  Log_likelihood  Chi_square  \\\n",
       "1          norm    -3566.883455         0.0   \n",
       "3          beta    -3566.513365         1.0   \n",
       "6         gamma    -3566.515747         1.0   \n",
       "8       lognorm    -3567.430566         2.0   \n",
       "2   weibull_max    -3648.776199        42.0   \n",
       "0   weibull_min    -3667.089562        61.0   \n",
       "4      invgauss    -3776.837869       159.0   \n",
       "9      pearson3    -6528.510339      3397.0   \n",
       "10       triang    -6916.007006      4957.0   \n",
       "5       uniform   -15404.102016     18559.0   \n",
       "7         expon   -21757.113318     50125.0   \n",
       "\n",
       "                                           Parameters  \n",
       "1             (10.855754143885084, 0.289212270506663)  \n",
       "3   (1382.2562704618335, 2140.0620851779486, -2.94...  \n",
       "6   (18158.834821631688, -28.11696932776931, 0.002...  \n",
       "8   (0.012696297372284948, -11.91493143058753, 22....  \n",
       "2   (4.165789169745157, 11.944527058417233, 1.1971...  \n",
       "0   (4.209823302146594, 9.752128013554469, 1.21261...  \n",
       "4   (0.014824681595628057, 8.417802033380093, 164....  \n",
       "9   (0.8092113114970197, 10.898386520782875, 0.459...  \n",
       "10  (0.508571469294267, 9.76375419579111, 2.160549...  \n",
       "5             (9.763923621594225, 2.1602092690086625)  \n",
       "7             (9.763923621594225, 1.0918305222908593)  "
      ]
     },
     "execution_count": 9,
     "metadata": {},
     "output_type": "execute_result"
    }
   ],
   "source": [
    "results"
   ]
  },
  {
   "cell_type": "code",
   "execution_count": 10,
   "metadata": {
    "scrolled": true
   },
   "outputs": [
    {
     "data": {
      "text/html": [
       "<div>\n",
       "<style scoped>\n",
       "    .dataframe tbody tr th:only-of-type {\n",
       "        vertical-align: middle;\n",
       "    }\n",
       "\n",
       "    .dataframe tbody tr th {\n",
       "        vertical-align: top;\n",
       "    }\n",
       "\n",
       "    .dataframe thead th {\n",
       "        text-align: right;\n",
       "    }\n",
       "</style>\n",
       "<table border=\"1\" class=\"dataframe\">\n",
       "  <thead>\n",
       "    <tr style=\"text-align: right;\">\n",
       "      <th></th>\n",
       "      <th>Distribution</th>\n",
       "      <th>Log_likelihood</th>\n",
       "      <th>Chi_square</th>\n",
       "      <th>Parameters</th>\n",
       "    </tr>\n",
       "  </thead>\n",
       "  <tbody>\n",
       "    <tr>\n",
       "      <td>1</td>\n",
       "      <td>norm</td>\n",
       "      <td>-3566.883455</td>\n",
       "      <td>0.0</td>\n",
       "      <td>(10.855754143885084, 0.289212270506663)</td>\n",
       "    </tr>\n",
       "    <tr>\n",
       "      <td>3</td>\n",
       "      <td>beta</td>\n",
       "      <td>-3566.513365</td>\n",
       "      <td>1.0</td>\n",
       "      <td>(1382.2562704618335, 2140.0620851779486, -2.94...</td>\n",
       "    </tr>\n",
       "    <tr>\n",
       "      <td>6</td>\n",
       "      <td>gamma</td>\n",
       "      <td>-3566.515747</td>\n",
       "      <td>1.0</td>\n",
       "      <td>(18158.834821631688, -28.11696932776931, 0.002...</td>\n",
       "    </tr>\n",
       "    <tr>\n",
       "      <td>2</td>\n",
       "      <td>weibull_max</td>\n",
       "      <td>-3648.776199</td>\n",
       "      <td>42.0</td>\n",
       "      <td>(4.165789169745157, 11.944527058417233, 1.1971...</td>\n",
       "    </tr>\n",
       "    <tr>\n",
       "      <td>0</td>\n",
       "      <td>weibull_min</td>\n",
       "      <td>-3667.089562</td>\n",
       "      <td>61.0</td>\n",
       "      <td>(4.209823302146594, 9.752128013554469, 1.21261...</td>\n",
       "    </tr>\n",
       "    <tr>\n",
       "      <td>4</td>\n",
       "      <td>invgauss</td>\n",
       "      <td>-3776.837869</td>\n",
       "      <td>159.0</td>\n",
       "      <td>(0.014824681595628057, 8.417802033380093, 164....</td>\n",
       "    </tr>\n",
       "    <tr>\n",
       "      <td>9</td>\n",
       "      <td>pearson3</td>\n",
       "      <td>-6528.510339</td>\n",
       "      <td>3397.0</td>\n",
       "      <td>(0.8092113114970197, 10.898386520782875, 0.459...</td>\n",
       "    </tr>\n",
       "    <tr>\n",
       "      <td>10</td>\n",
       "      <td>triang</td>\n",
       "      <td>-6916.007006</td>\n",
       "      <td>4957.0</td>\n",
       "      <td>(0.508571469294267, 9.76375419579111, 2.160549...</td>\n",
       "    </tr>\n",
       "    <tr>\n",
       "      <td>5</td>\n",
       "      <td>uniform</td>\n",
       "      <td>-15404.102016</td>\n",
       "      <td>18559.0</td>\n",
       "      <td>(9.763923621594225, 2.1602092690086625)</td>\n",
       "    </tr>\n",
       "    <tr>\n",
       "      <td>7</td>\n",
       "      <td>expon</td>\n",
       "      <td>-21757.113318</td>\n",
       "      <td>50125.0</td>\n",
       "      <td>(9.763923621594225, 1.0918305222908593)</td>\n",
       "    </tr>\n",
       "  </tbody>\n",
       "</table>\n",
       "</div>"
      ],
      "text/plain": [
       "   Distribution  Log_likelihood  Chi_square  \\\n",
       "1          norm    -3566.883455         0.0   \n",
       "3          beta    -3566.513365         1.0   \n",
       "6         gamma    -3566.515747         1.0   \n",
       "2   weibull_max    -3648.776199        42.0   \n",
       "0   weibull_min    -3667.089562        61.0   \n",
       "4      invgauss    -3776.837869       159.0   \n",
       "9      pearson3    -6528.510339      3397.0   \n",
       "10       triang    -6916.007006      4957.0   \n",
       "5       uniform   -15404.102016     18559.0   \n",
       "7         expon   -21757.113318     50125.0   \n",
       "\n",
       "                                           Parameters  \n",
       "1             (10.855754143885084, 0.289212270506663)  \n",
       "3   (1382.2562704618335, 2140.0620851779486, -2.94...  \n",
       "6   (18158.834821631688, -28.11696932776931, 0.002...  \n",
       "2   (4.165789169745157, 11.944527058417233, 1.1971...  \n",
       "0   (4.209823302146594, 9.752128013554469, 1.21261...  \n",
       "4   (0.014824681595628057, 8.417802033380093, 164....  \n",
       "9   (0.8092113114970197, 10.898386520782875, 0.459...  \n",
       "10  (0.508571469294267, 9.76375419579111, 2.160549...  \n",
       "5             (9.763923621594225, 2.1602092690086625)  \n",
       "7             (9.763923621594225, 1.0918305222908593)  "
      ]
     },
     "execution_count": 10,
     "metadata": {},
     "output_type": "execute_result"
    }
   ],
   "source": [
    "results_test = results.drop(results.index[3])\n",
    "results_test"
   ]
  },
  {
   "cell_type": "markdown",
   "metadata": {},
   "source": [
    "### Plots"
   ]
  },
  {
   "cell_type": "code",
   "execution_count": 11,
   "metadata": {},
   "outputs": [],
   "source": [
    "import seaborn as sns\n",
    "simulation.sort()"
   ]
  },
  {
   "cell_type": "code",
   "execution_count": 12,
   "metadata": {},
   "outputs": [],
   "source": [
    "params_gamma = results.iloc[2]['Parameters']\n",
    "params_beta = results.iloc[1]['Parameters']\n",
    "params_normal = results.iloc[0]['Parameters']\n",
    "params_uniform = results.iloc[9]['Parameters']\n",
    "params_lognorm = results.iloc[3]['Parameters']"
   ]
  },
  {
   "cell_type": "code",
   "execution_count": 13,
   "metadata": {},
   "outputs": [
    {
     "data": {
      "text/plain": [
       "(9.763923621594225, 1.0918305222908593)"
      ]
     },
     "execution_count": 13,
     "metadata": {},
     "output_type": "execute_result"
    }
   ],
   "source": [
    "params_expon = results.iloc[10]['Parameters']\n",
    "params_expon"
   ]
  },
  {
   "cell_type": "code",
   "execution_count": 14,
   "metadata": {},
   "outputs": [
    {
     "data": {
      "image/png": "[encoded data removed]",
      "text/plain": [
       "<Figure size 432x288 with 1 Axes>"
      ]
     },
     "metadata": {
      "needs_background": "light"
     },
     "output_type": "display_data"
    }
   ],
   "source": [
    "expon_fit = sns.distplot(a = simulation, kde = False, norm_hist=True, axlabel='Power Output [W]')\n",
    "plt.plot(simulation, scipy.stats.expon.pdf(simulation, *params_expon))\n",
    "expon_fit.set_title('Exponential Distribution Fit - MLE')\n",
    "expon_fit.set_ylabel('Density')\n",
    "plt.savefig('Data/Plots/MLE_expon.png')"
   ]
  },
  {
   "cell_type": "code",
   "execution_count": null,
   "metadata": {},
   "outputs": [],
   "source": []
  },
  {
   "cell_type": "code",
   "execution_count": 15,
   "metadata": {},
   "outputs": [
    {
     "data": {
      "text/plain": [
       "(0.014824681595628057, 8.417802033380093, 164.2301758633106)"
      ]
     },
     "execution_count": 15,
     "metadata": {},
     "output_type": "execute_result"
    }
   ],
   "source": [
    "params_invgauss = results.iloc[6]['Parameters']\n",
    "params_invgauss"
   ]
  },
  {
   "cell_type": "code",
   "execution_count": 16,
   "metadata": {},
   "outputs": [
    {
     "data": {
      "image/png": "[encoded data removed]",
      "text/plain": [
       "<Figure size 432x288 with 1 Axes>"
      ]
     },
     "metadata": {
      "needs_background": "light"
     },
     "output_type": "display_data"
    }
   ],
   "source": [
    "invgauss_fit = sns.distplot(a = simulation, kde = False, norm_hist=True, axlabel='Power Output [W]')\n",
    "plt.plot(simulation, scipy.stats.invgauss.pdf(simulation, *params_invgauss))\n",
    "invgauss_fit.set_title('Inverse Gaussian Distribution Fit - MLE')\n",
    "invgauss_fit.set_ylabel('Density')\n",
    "plt.savefig('Data/Plots/MLE_Invgauss.png')"
   ]
  },
  {
   "cell_type": "markdown",
   "metadata": {},
   "source": [
    "**Normal plot**"
   ]
  },
  {
   "cell_type": "code",
   "execution_count": 17,
   "metadata": {},
   "outputs": [
    {
     "data": {
      "text/plain": [
       "tuple"
      ]
     },
     "execution_count": 17,
     "metadata": {},
     "output_type": "execute_result"
    }
   ],
   "source": [
    "type(params_normal)"
   ]
  },
  {
   "cell_type": "code",
   "execution_count": 18,
   "metadata": {},
   "outputs": [
    {
     "data": {
      "image/png": "[encoded data removed]",
      "text/plain": [
       "<Figure size 432x288 with 1 Axes>"
      ]
     },
     "metadata": {
      "needs_background": "light"
     },
     "output_type": "display_data"
    }
   ],
   "source": [
    "normal_fit = sns.distplot(a = simulation, kde = False, norm_hist=True, axlabel='Power Output [W]')\n",
    "plt.plot(simulation, scipy.stats.norm.pdf(simulation, *params_normal))\n",
    "normal_fit.set_title('Normal Distribution Fit - MLE')\n",
    "normal_fit.set_ylabel('Density')\n",
    "plt.savefig('Data/Plots/MLE_Normal.png')"
   ]
  },
  {
   "cell_type": "code",
   "execution_count": null,
   "metadata": {},
   "outputs": [],
   "source": []
  },
  {
   "cell_type": "code",
   "execution_count": null,
   "metadata": {},
   "outputs": [],
   "source": []
  },
  {
   "cell_type": "code",
   "execution_count": 19,
   "metadata": {},
   "outputs": [],
   "source": [
    "z_alpha_2 = 0.4801"
   ]
  },
  {
   "cell_type": "code",
   "execution_count": 20,
   "metadata": {},
   "outputs": [],
   "source": [
    "mu_sample = params_normal[0]\n",
    "variance_sample = params_normal[1]**2 / 20000"
   ]
  },
  {
   "cell_type": "code",
   "execution_count": 21,
   "metadata": {},
   "outputs": [],
   "source": [
    "interval_L = mu_sample - z_alpha_2 * variance_sample\n",
    "interval_U = mu_sample + z_alpha_2 * variance_sample\n",
    "params_normal_1 = (interval_L, params_normal[1])\n",
    "params_normal_2 = (interval_U, params_normal[1])"
   ]
  },
  {
   "cell_type": "code",
   "execution_count": 22,
   "metadata": {},
   "outputs": [
    {
     "data": {
      "text/plain": [
       "(10.855752136017168, 0.289212270506663)"
      ]
     },
     "execution_count": 22,
     "metadata": {},
     "output_type": "execute_result"
    }
   ],
   "source": [
    "params_normal_1"
   ]
  },
  {
   "cell_type": "code",
   "execution_count": 23,
   "metadata": {},
   "outputs": [
    {
     "data": {
      "text/plain": [
       "array([ 9.4810035 , 10.85575214, 12.23050077])"
      ]
     },
     "execution_count": 23,
     "metadata": {},
     "output_type": "execute_result"
    }
   ],
   "source": [
    "scipy.stats.norm.ppf([0.000001, 0.5, 0.999999], *params_normal_1)"
   ]
  },
  {
   "cell_type": "code",
   "execution_count": 24,
   "metadata": {},
   "outputs": [],
   "source": [
    "best_dist = getattr(scipy.stats, 'norm')\n",
    "best_params = params_normal"
   ]
  },
  {
   "cell_type": "code",
   "execution_count": 25,
   "metadata": {},
   "outputs": [
    {
     "data": {
      "text/plain": [
       "array([ 9.4810035 , 12.23050479])"
      ]
     },
     "execution_count": 25,
     "metadata": {},
     "output_type": "execute_result"
    }
   ],
   "source": [
    "quantiles = best_dist.ppf([0.000001, 0.5, 0.999999], *best_params)\n",
    "quantiles_1 = np.zeros(2)\n",
    "quantiles_1[0] = quantiles[0] - z_alpha_2 * variance_sample\n",
    "quantiles_1[1] = quantiles[2] + z_alpha_2 * variance_sample\n",
    "quantiles_1"
   ]
  },
  {
   "cell_type": "code",
   "execution_count": 26,
   "metadata": {},
   "outputs": [],
   "source": [
    "quantiles_h = best_dist.ppf([0.00001, 0.5, 0.99999], *best_params)\n",
    "quantiles_h_1 = np.zeros(2)\n",
    "quantiles_h_1[0] = quantiles_h[0] - z_alpha_2 * variance_sample\n",
    "quantiles_h_1[1] = quantiles_h[2] + z_alpha_2 * variance_sample"
   ]
  },
  {
   "cell_type": "code",
   "execution_count": 27,
   "metadata": {
    "scrolled": true
   },
   "outputs": [
    {
     "data": {
      "text/plain": [
       "array([ 9.62229339, 12.0892149 ])"
      ]
     },
     "execution_count": 27,
     "metadata": {},
     "output_type": "execute_result"
    }
   ],
   "source": [
    "quantiles_h_1"
   ]
  },
  {
   "cell_type": "code",
   "execution_count": 28,
   "metadata": {},
   "outputs": [],
   "source": [
    "#(1 -(quantiles_h_1[1]-quantiles_h_1[0])/(limit_MAX - limit_min))*100"
   ]
  },
  {
   "cell_type": "code",
   "execution_count": 29,
   "metadata": {
    "scrolled": true
   },
   "outputs": [
    {
     "data": {
      "image/png": "[encoded data removed]",
      "text/plain": [
       "<Figure size 720x504 with 1 Axes>"
      ]
     },
     "metadata": {
      "needs_background": "light"
     },
     "output_type": "display_data"
    }
   ],
   "source": [
    "plt.figure(figsize=(10,7))\n",
    "norm_fit = sns.distplot(a = simulation, kde = False, norm_hist=True, axlabel='Power Output [W]')\n",
    "plt.plot(simulation, scipy.stats.norm.pdf(simulation, *params_normal))\n",
    "#plt.plot(simulation, scipy.stats.norm.pdf(simulation, *params_normal_1))\n",
    "#plt.plot(simulation, scipy.stats.norm.pdf(simulation, *params_normal_2))\n",
    "plt.axvline(x=limit_min, color='green',label=\"WCCA\")\n",
    "plt.axvline(x=limit_MAX, color='green')\n",
    "# Million\n",
    "plt.axvline(x=quantiles_1[0], color='red', label=\"Million\")\n",
    "plt.axvline(x=quantiles_1[1], color='red')\n",
    "\n",
    "# Hundred\n",
    "plt.axvline(x=quantiles_h_1[0], color='yellow', label=\"Hundred\")\n",
    "plt.axvline(x=quantiles_h_1[1], color='yellow')\n",
    "\n",
    "plt.legend()\n",
    "\n",
    "norm_fit.set_title('Normal Distribution Fit - MLE')\n",
    "norm_fit.set_ylabel('Density')\n",
    "plt.savefig('Data/Plots/Quantiles_Normal.png')"
   ]
  },
  {
   "cell_type": "code",
   "execution_count": 30,
   "metadata": {},
   "outputs": [
    {
     "ename": "NameError",
     "evalue": "name 'quantile_plot_mean' is not defined",
     "output_type": "error",
     "traceback": [
      "\u001b[1;31m---------------------------------------------------------------------------\u001b[0m",
      "\u001b[1;31mNameError\u001b[0m                                 Traceback (most recent call last)",
      "\u001b[1;32m<ipython-input-30-3364f2a2cbb8>\u001b[0m in \u001b[0;36m<module>\u001b[1;34m\u001b[0m\n\u001b[0;32m     35\u001b[0m         \u001b[1;32mbreak\u001b[0m\u001b[1;33m\u001b[0m\u001b[1;33m\u001b[0m\u001b[0m\n\u001b[0;32m     36\u001b[0m \u001b[1;33m\u001b[0m\u001b[0m\n\u001b[1;32m---> 37\u001b[1;33m \u001b[0mend_loop_index\u001b[0m \u001b[1;33m=\u001b[0m \u001b[0mnp\u001b[0m\u001b[1;33m.\u001b[0m\u001b[0mwhere\u001b[0m\u001b[1;33m(\u001b[0m\u001b[0mquantile_plot_mean\u001b[0m\u001b[1;33m==\u001b[0m\u001b[1;36m0\u001b[0m\u001b[1;33m)\u001b[0m\u001b[1;33m[\u001b[0m\u001b[1;36m0\u001b[0m\u001b[1;33m]\u001b[0m\u001b[1;33m[\u001b[0m\u001b[1;36m0\u001b[0m\u001b[1;33m]\u001b[0m\u001b[1;33m\u001b[0m\u001b[1;33m\u001b[0m\u001b[0m\n\u001b[0m",
      "\u001b[1;31mNameError\u001b[0m: name 'quantile_plot_mean' is not defined"
     ]
    }
   ],
   "source": [
    "quantile_plot = np.zeros(2000)\n",
    "\n",
    "quantile_plot_min = np.zeros(2000)\n",
    "quantile_plot_min_min = np.zeros(2000)\n",
    "quantile_plot_min_max = np.zeros(2000)\n",
    "\n",
    "quantile_plot_max = np.zeros(2000)\n",
    "quantile_plot_max_min = np.zeros(2000)\n",
    "quantile_plot_max_max = np.zeros(2000)\n",
    "\n",
    "std_sample_loop_array = np.zeros(2000)\n",
    "\n",
    "indices = np.arange(0,len(y))\n",
    "random.seed(1234)\n",
    "random.shuffle(indices)\n",
    "\n",
    "for i in range(2,len(y)):\n",
    "    test = y[indices[:i]]\n",
    "    param = scipy.stats.norm.fit(test)\n",
    "\n",
    "    # Sample Measures\n",
    "    std_sample_loop = param[1] / math.sqrt(i)\n",
    "    std_sample_loop_array[i-2] = z_alpha_2 * std_sample_loop\n",
    "    \n",
    "    q_min, q_max = scipy.stats.norm.ppf([0.00001, 0.99999], *param)\n",
    "    \n",
    "    # q_min\n",
    "    quantile_plot_min[i-2] = q_min\n",
    "    #q_max\n",
    "    quantile_plot_max[i-2] = q_max\n",
    "    #q_nominal\n",
    "    quantile_plot[i-2] = param[0]\n",
    "\n",
    "    if abs((quantile_plot[i-2] - quantile_plot[i-3])) < 1e-4 and std_sample_loop**2 < 1e-3:\n",
    "        break\n",
    "\n",
    "end_loop_index = np.where(quantile_plot_mean==0)[0][0]"
   ]
  },
  {
   "cell_type": "code",
   "execution_count": null,
   "metadata": {
    "scrolled": true
   },
   "outputs": [],
   "source": [
    "i"
   ]
  },
  {
   "cell_type": "code",
   "execution_count": null,
   "metadata": {},
   "outputs": [],
   "source": [
    "plt.figure(figsize=(15,10))\n",
    "plt.plot(quantile_plot[1:end_loop_index], label = 'Quantile')\n",
    "plt.plot(quantile_plot[1:end_loop_index] - std_sample_loop_array[1:end_loop_index] , label = 'Quantile Min')\n",
    "plt.plot(quantile_plot[1:end_loop_index] + std_sample_loop_array[1:end_loop_index] , label = 'Quantile MAX')\n",
    "plt.legend()\n",
    "plt.show()"
   ]
  },
  {
   "cell_type": "code",
   "execution_count": null,
   "metadata": {},
   "outputs": [],
   "source": [
    "plt.figure(figsize=(15,10))\n",
    "plt.plot(quantile_plot_min[1:end_loop_index], label = 'Quantile')\n",
    "plt.plot(quantile_plot_min[1:end_loop_index] - std_sample_loop_array[1:end_loop_index] , label = 'Quantile Min')\n",
    "plt.plot(quantile_plot_min[1:end_loop_index] + std_sample_loop_array[1:end_loop_index] , label = 'Quantile MAX')\n",
    "plt.legend()\n",
    "plt.show()"
   ]
  },
  {
   "cell_type": "code",
   "execution_count": null,
   "metadata": {},
   "outputs": [],
   "source": [
    "plt.figure(figsize=(15,10))\n",
    "plt.plot(quantile_plot_max[1:end_loop_index], label = 'Quantile')\n",
    "plt.plot(quantile_plot_max[1:end_loop_index] - std_sample_loop_array[1:end_loop_index] , label = 'Quantile Min')\n",
    "plt.plot(quantile_plot_max[1:end_loop_index] + std_sample_loop_array[1:end_loop_index] , label = 'Quantile MAX')\n",
    "plt.legend()\n",
    "plt.show()"
   ]
  },
  {
   "cell_type": "code",
   "execution_count": null,
   "metadata": {},
   "outputs": [],
   "source": [
    "plt.figure(figsize=(15,10))\n",
    "plt.plot(quantile_plot_min[1:end_loop_index], label = 'Quantile')\n",
    "plt.plot(quantile_plot_min_min[1:end_loop_index], label = 'Quantile Min')\n",
    "plt.plot(quantile_plot_min_max[1:end_loop_index], label = 'Quantile Max')\n",
    "plt.savefig('Data/Plots/Quantile_min.png')\n",
    "plt.legend()"
   ]
  },
  {
   "cell_type": "code",
   "execution_count": null,
   "metadata": {},
   "outputs": [],
   "source": [
    "plt.figure(figsize=(15,10))\n",
    "plt.plot(quantile_plot_max[1:end_loop_index], label = 'Quantile')\n",
    "plt.plot(quantile_plot_max_min[1:end_loop_index], label = 'Quantile Min')\n",
    "plt.plot(quantile_plot_max_max[1:end_loop_index], label = 'Quantile Max')\n",
    "plt.savefig('Data/Plots/Quantile_MAX.png')\n",
    "plt.legend()"
   ]
  },
  {
   "cell_type": "code",
   "execution_count": null,
   "metadata": {},
   "outputs": [],
   "source": [
    "np.where(quantile_plot_mean==0)"
   ]
  },
  {
   "cell_type": "code",
   "execution_count": null,
   "metadata": {
    "scrolled": true
   },
   "outputs": [],
   "source": []
  },
  {
   "cell_type": "code",
   "execution_count": null,
   "metadata": {},
   "outputs": [],
   "source": [
    "plt.plot(quantile_plot[1:end_loop_index], label = 'Quantile')\n",
    "plt.plot(quantile_plot_mean[1:end_loop_index], label = 'Cumulative Quantile Mean')\n",
    "plt.legend()"
   ]
  },
  {
   "cell_type": "code",
   "execution_count": null,
   "metadata": {},
   "outputs": [],
   "source": []
  },
  {
   "cell_type": "code",
   "execution_count": null,
   "metadata": {},
   "outputs": [],
   "source": []
  },
  {
   "cell_type": "code",
   "execution_count": null,
   "metadata": {},
   "outputs": [],
   "source": []
  },
  {
   "cell_type": "code",
   "execution_count": null,
   "metadata": {},
   "outputs": [],
   "source": []
  },
  {
   "cell_type": "code",
   "execution_count": null,
   "metadata": {},
   "outputs": [],
   "source": []
  },
  {
   "cell_type": "code",
   "execution_count": null,
   "metadata": {},
   "outputs": [],
   "source": []
  },
  {
   "cell_type": "code",
   "execution_count": null,
   "metadata": {},
   "outputs": [],
   "source": []
  },
  {
   "cell_type": "code",
   "execution_count": null,
   "metadata": {},
   "outputs": [],
   "source": []
  },
  {
   "cell_type": "code",
   "execution_count": null,
   "metadata": {},
   "outputs": [],
   "source": []
  },
  {
   "cell_type": "markdown",
   "metadata": {},
   "source": [
    "**Gamma plot**"
   ]
  },
  {
   "cell_type": "code",
   "execution_count": 31,
   "metadata": {},
   "outputs": [
    {
     "data": {
      "image/png": "[encoded data removed]",
      "text/plain": [
       "<Figure size 432x288 with 1 Axes>"
      ]
     },
     "metadata": {
      "needs_background": "light"
     },
     "output_type": "display_data"
    }
   ],
   "source": [
    "gamma_fit = sns.distplot(a = simulation, kde = False, norm_hist=True, axlabel='Power Output [W]')\n",
    "plt.plot(simulation, scipy.stats.gamma.pdf(simulation, *params_gamma))\n",
    "gamma_fit.set_title('Gamma Distribution Fit - MLE')\n",
    "gamma_fit.set_ylabel('Density')\n",
    "plt.savefig('Data/Plots/MLE_Gamma.png')"
   ]
  },
  {
   "cell_type": "markdown",
   "metadata": {},
   "source": [
    "**Beta plot**"
   ]
  },
  {
   "cell_type": "code",
   "execution_count": null,
   "metadata": {},
   "outputs": [],
   "source": [
    "beta_fit = sns.distplot(a = simulation, kde = False, norm_hist=True, axlabel='Power Output [W]')\n",
    "plt.plot(simulation, scipy.stats.beta.pdf(simulation, *params_beta))\n",
    "beta_fit.set_title('Beta Distribution Fit - MLE')\n",
    "beta_fit.set_ylabel('Density')\n",
    "plt.savefig('Data/Plots/MLE_Beta.png')"
   ]
  },
  {
   "cell_type": "markdown",
   "metadata": {},
   "source": [
    "**Lognormal plot**"
   ]
  },
  {
   "cell_type": "code",
   "execution_count": null,
   "metadata": {},
   "outputs": [],
   "source": [
    "lognorm_fit = sns.distplot(a = simulation, kde = False, norm_hist=True, axlabel='Power Output [W]')\n",
    "plt.plot(simulation, scipy.stats.lognorm.pdf(simulation, *params_lognorm))\n",
    "lognorm_fit.set_title('Lognorm Distribution Fit - MLE')\n",
    "lognorm_fit.set_ylabel('Density')\n",
    "plt.savefig('Data/Plots/MLE_Lognorm.png')"
   ]
  },
  {
   "cell_type": "markdown",
   "metadata": {},
   "source": [
    "**Uniform plot**"
   ]
  },
  {
   "cell_type": "code",
   "execution_count": null,
   "metadata": {},
   "outputs": [],
   "source": [
    "uniform_fit = sns.distplot(a = simulation, kde = False, norm_hist=True, axlabel='Power Output [W]')\n",
    "plt.plot(simulation, scipy.stats.uniform.pdf(simulation, *params_uniform))\n",
    "uniform_fit.set_title('Uniform Distribution Fit - MLE')\n",
    "uniform_fit.set_ylabel('Density')\n",
    "plt.savefig('Data/Plots/MLE_Uniform.png')"
   ]
  },
  {
   "cell_type": "markdown",
   "metadata": {},
   "source": [
    "**Model A:** Normal Distribution\n",
    "\n",
    "**Model B:** Beta Distribution"
   ]
  },
  {
   "cell_type": "markdown",
   "metadata": {},
   "source": [
    "### Non-Nested Likelihood Ratio Test\n",
    "\n",
    "Compare **Model A** to **Model B** and choose the best fit. "
   ]
  },
  {
   "cell_type": "code",
   "execution_count": null,
   "metadata": {},
   "outputs": [],
   "source": [
    "\n",
    "n_sim = 20000 "
   ]
  },
  {
   "cell_type": "code",
   "execution_count": null,
   "metadata": {},
   "outputs": [],
   "source": [
    "#sampling_dist = getattr(scipy.stats, dist_A)\n",
    "#dataset = sampling_dist.rvs(*param, size = n_sim)\n",
    "#scipy.stats.lognorm.rvs(*params_lognorm, size = 1000)"
   ]
  },
  {
   "cell_type": "code",
   "execution_count": null,
   "metadata": {},
   "outputs": [],
   "source": [
    "from helper_functions import LRT\n",
    "\n",
    "Q, Q_array, qQi = LRT(results.iloc[:2], 1000, n_simulation)\n",
    "if Q < qQi: print('Select model A')"
   ]
  },
  {
   "cell_type": "code",
   "execution_count": null,
   "metadata": {},
   "outputs": [],
   "source": [
    "a = Q_array > Q\n",
    "\n",
    "\n",
    "print(f\"p_value = {p_value}\")\n",
    "print('we fail to reject the null hypothesis')"
   ]
  },
  {
   "cell_type": "code",
   "execution_count": null,
   "metadata": {},
   "outputs": [],
   "source": [
    "Q, Q_array, qQi = LRT(results.iloc[:2], 100, 10000)"
   ]
  },
  {
   "cell_type": "code",
   "execution_count": null,
   "metadata": {
    "scrolled": true
   },
   "outputs": [],
   "source": [
    "best_fits = results_test[:4]\n",
    "best_fits"
   ]
  },
  {
   "cell_type": "code",
   "execution_count": null,
   "metadata": {},
   "outputs": [],
   "source": [
    "best_fits.iloc[0]['Distribution']"
   ]
  },
  {
   "cell_type": "code",
   "execution_count": null,
   "metadata": {},
   "outputs": [],
   "source": [
    "# best fitted distribution information\n",
    "null = []\n",
    "alternative = []\n",
    "p_values = []\n",
    "for i in range(best_fits.shape[1]):\n",
    "    for j in range(best_fits.shape[1]):\n",
    "        if i<j:\n",
    "            null.append(best_fits.iloc[i]['Distribution'])\n",
    "            alternative.append(best_fits.iloc[j]['Distribution'])\n",
    "            p_values.append(LRT(best_fits.iloc[[i, j],:]))\n",
    "\n",
    "LRT_dataframe = pd.DataFrame()\n",
    "LRT_dataframe['Null'] = null\n",
    "LRT_dataframe['Alternative'] = alternative\n",
    "LRT_dataframe['p_values'] = p_values"
   ]
  },
  {
   "cell_type": "code",
   "execution_count": null,
   "metadata": {},
   "outputs": [],
   "source": [
    "\"\"\"\n",
    "def p_value_LRT(dist_A, dist_B, ...):\n",
    "    pass\n",
    "    \n",
    "def given_df_doit_forany_pair(dataframe, ...):\n",
    "    pass\n",
    "\"\"\""
   ]
  },
  {
   "cell_type": "code",
   "execution_count": null,
   "metadata": {
    "scrolled": true
   },
   "outputs": [],
   "source": [
    "for dist in best_fits['Distribution']:\n",
    "    print(dist)"
   ]
  },
  {
   "cell_type": "code",
   "execution_count": null,
   "metadata": {},
   "outputs": [],
   "source": [
    "for row in best_fits.itertuples():\n",
    "    dist = row[1]\n",
    "    ll = row[2]\n",
    "    pars = row[4]\n",
    "    print(dist, ll, pars)"
   ]
  },
  {
   "cell_type": "code",
   "execution_count": null,
   "metadata": {},
   "outputs": [],
   "source": [
    "test = best_fits.iloc[[0,1],:]\n"
   ]
  },
  {
   "cell_type": "code",
   "execution_count": null,
   "metadata": {},
   "outputs": [],
   "source": [
    "p1, p2 = LRT(results.iloc[:2], 100, 10000)"
   ]
  },
  {
   "cell_type": "code",
   "execution_count": null,
   "metadata": {},
   "outputs": [],
   "source": [
    "p2"
   ]
  },
  {
   "cell_type": "code",
   "execution_count": null,
   "metadata": {},
   "outputs": [],
   "source": [
    "def LRT(best_options, n_datasets, n_sim):\n",
    "    \"\"\"\n",
    "    Docs: \n",
    "    - best_options: so far is a dataframe\n",
    "    - n_datasets: number of datasets S to simulate from the best estimate\n",
    "    - n_sim: how many observations to simulate for each dataset\n",
    "    \"\"\"\n",
    "    # Null Model\n",
    "    dist_A = getattr(scipy.stats, best_options.iloc[0]['Distribution'])\n",
    "    ll_A = best_options.iloc[0]['Log_likelihood']\n",
    "    param = best_options.iloc[0]['Parameters']\n",
    "    \n",
    "    # Alternative Model\n",
    "    dist_B = getattr(scipy.stats, best_options.iloc[1]['Distribution'])\n",
    "    ll_B = best_options.iloc[1]['Log_likelihood']\n",
    "    \n",
    "    # LRT Statistic\n",
    "    Q = 2 * (ll_B - ll_A)\n",
    "    \n",
    "    #P value counter\n",
    "    p_value_counter = 0\n",
    "    \n",
    "    for i in range(n_datasets):\n",
    "        # Generate dataset\n",
    "        dataset = dist_A.rvs(*param, size = n_sim)\n",
    "        \n",
    "        # Fit models\n",
    "        param_A_i = dist_A.fit(dataset)\n",
    "        ll_A_i = np.sum(np.log(dist_A.pdf(dataset, *param_A_i)))\n",
    "\n",
    "        param_B_i = dist_B.fit(dataset)\n",
    "        ll_B_i = np.sum(np.log(dist_B.pdf(dataset, *param_B_i)))\n",
    "        \n",
    "        # Compute Qi\n",
    "        Q_i = 2 * (ll_B_i - ll_A_i)\n",
    "        #Q_array[i] = Q_i \n",
    "        \n",
    "        if Q_i > Q:\n",
    "            p_value_counter += 1\n",
    "    \n",
    "    #Quantile_Q = np.quantile(Q_array, 0.95)\n",
    "    #p_value_1 = np.sum(Q_array>Q)/n_datasets\n",
    "    p_value = p_value_counter / n_datasets\n",
    "\n",
    "    return p_value"
   ]
  },
  {
   "cell_type": "markdown",
   "metadata": {},
   "source": [
    "### Q-Q Plot\n",
    "\n",
    "Compare **Model A** to **Model B** on a quantile-quantile plot. "
   ]
  },
  {
   "cell_type": "code",
   "execution_count": null,
   "metadata": {
    "scrolled": true
   },
   "outputs": [],
   "source": [
    "from helper_functions import qqplot\n",
    "\n",
    "qqplot(simulation, results)"
   ]
  },
  {
   "cell_type": "code",
   "execution_count": null,
   "metadata": {},
   "outputs": [],
   "source": []
  },
  {
   "cell_type": "code",
   "execution_count": null,
   "metadata": {},
   "outputs": [],
   "source": []
  },
  {
   "cell_type": "code",
   "execution_count": null,
   "metadata": {
    "scrolled": true
   },
   "outputs": [],
   "source": [
    "results"
   ]
  },
  {
   "cell_type": "code",
   "execution_count": null,
   "metadata": {},
   "outputs": [],
   "source": [
    "test_array = np.zeros((2,4))\n",
    "l1 = []\n",
    "l1[0]='hola'\n",
    "l1"
   ]
  },
  {
   "cell_type": "code",
   "execution_count": null,
   "metadata": {
    "scrolled": true
   },
   "outputs": [],
   "source": [
    "class_distribution = getattr(scipy.stats, results.iloc[0]['Distribution'])\n",
    "test_array = class_distribution.rvs(*results.iloc[0]['Parameters'], size = 2000)"
   ]
  },
  {
   "cell_type": "code",
   "execution_count": null,
   "metadata": {},
   "outputs": [],
   "source": [
    "test_array = np.zeros((2,51))"
   ]
  },
  {
   "cell_type": "code",
   "execution_count": null,
   "metadata": {},
   "outputs": [],
   "source": [
    "percentile_bins = np.linspace(0,100,51)\n",
    "\n"
   ]
  },
  {
   "cell_type": "code",
   "execution_count": null,
   "metadata": {},
   "outputs": [],
   "source": [
    "test_array[0]=np.percentile(simulation, percentile_bins)"
   ]
  },
  {
   "cell_type": "code",
   "execution_count": 32,
   "metadata": {},
   "outputs": [],
   "source": [
    "def qqplot(data, best_options, n_distributions, title, name_file):\n",
    "    \"\"\"\n",
    "    QQ Plot: Comment this!\n",
    "    Inputs:\n",
    "        - data: Simulated data. Values of the Power output.\n",
    "        - best_options: dataframe with the results of the fit -> columns |Distribution | Parameters |\n",
    "            * Distribution: string with the name of the fitted distribution\n",
    "            * Parameters: tuple with the values of the distribution parameters\n",
    "        - n_distributions: number of distributions desired to be plotted, it should be a number smaller than the number of rows\n",
    "                           in the 'best_options' dataframe.\n",
    "        - title: String that will be the title of the plot.\n",
    "        - name_file: string that will be the name og the saved file. \n",
    "    \"\"\"\n",
    "    # Cutoffs\n",
    "    percentile_bins = np.linspace(0,100,51)\n",
    "    percentile_cutoffs = np.percentile(data, percentile_bins)\n",
    "    \n",
    "    # Alocate memory\n",
    "    percentile_data = np.zeros((n_distributions, 2000))\n",
    "    data_cutoffs = np.zeros((n_distributions, 51))\n",
    "    names = []\n",
    "    min_line = 999999\n",
    "    MAX_line = -999999\n",
    "    \n",
    "    for i in range(n_distributions):\n",
    "        \n",
    "        # Distribution Values\n",
    "        name_dist = best_options.iloc[i]['Distribution']\n",
    "        names.append(name_dist)\n",
    "        \n",
    "        parameters_dist = best_options.iloc[i]['Parameters']\n",
    "        class_dist = getattr(scipy.stats, name_dist)\n",
    "        \n",
    "        percentile_data[i] = class_dist.rvs(*parameters_dist, size = 2000)\n",
    "        data_cutoffs[i] = np.percentile(percentile_data[i], percentile_bins)\n",
    "               \n",
    "        #Plot size\n",
    "        if math.floor(min(percentile_data[i])) < min_line:\n",
    "            min_line = math.floor(min(percentile_data[i]))\n",
    "        if math.ceil(max(percentile_data[i])) > MAX_line:\n",
    "            MAX_line = math.ceil(max(percentile_data[i]))\n",
    "    \n",
    "    min_line = 9.5\n",
    "    MAX_line = 12.5\n",
    "    #Plot\n",
    "    f, ax = plt.subplots(figsize=(8,8))\n",
    "    ax.plot([min_line, MAX_line], [min_line, MAX_line], ls=\"--\", c=\".3\")\n",
    "    colors = ['orange', 'blue', 'green', 'yellow', 'red', 'pink']\n",
    "    for i in range(n_distributions):\n",
    "        ax.scatter(percentile_cutoffs, data_cutoffs[i], c=colors[i], label = names[i] + ' Distribution', s = 40)\n",
    "           \n",
    "    ax.set_xlabel('Theoretical cumulative distribution')\n",
    "    ax.set_ylabel('Observed cumulative distribution')\n",
    "    ax.legend()\n",
    "    plt.title(title)\n",
    "    plt.savefig('Data/Plots/'+name_file+\".png\")\n",
    "    plt.show()"
   ]
  },
  {
   "cell_type": "code",
   "execution_count": 33,
   "metadata": {},
   "outputs": [
    {
     "data": {
      "image/png": "[encoded data removed]",
      "text/plain": [
       "<Figure size 576x576 with 1 Axes>"
      ]
     },
     "metadata": {
      "needs_background": "light"
     },
     "output_type": "display_data"
    }
   ],
   "source": [
    "qqplot(simulation, results, 4,\"MLE Distributions\", \"MLE_qq\")"
   ]
  },
  {
   "cell_type": "code",
   "execution_count": null,
   "metadata": {},
   "outputs": [],
   "source": []
  },
  {
   "cell_type": "code",
   "execution_count": null,
   "metadata": {},
   "outputs": [],
   "source": []
  },
  {
   "cell_type": "code",
   "execution_count": null,
   "metadata": {},
   "outputs": [],
   "source": []
  },
  {
   "cell_type": "code",
   "execution_count": null,
   "metadata": {},
   "outputs": [],
   "source": []
  },
  {
   "cell_type": "code",
   "execution_count": null,
   "metadata": {},
   "outputs": [],
   "source": []
  },
  {
   "cell_type": "code",
   "execution_count": null,
   "metadata": {},
   "outputs": [],
   "source": []
  },
  {
   "cell_type": "code",
   "execution_count": null,
   "metadata": {},
   "outputs": [],
   "source": []
  },
  {
   "cell_type": "markdown",
   "metadata": {},
   "source": [
    "### Chosen Model Description"
   ]
  },
  {
   "cell_type": "code",
   "execution_count": 105,
   "metadata": {},
   "outputs": [],
   "source": [
    "best_name = results.iloc[0]['Distribution']\n",
    "best_params = results.iloc[0]['Parameters']\n",
    "\n",
    "best_dist = getattr(scipy.stats, best_name)"
   ]
  },
  {
   "cell_type": "markdown",
   "metadata": {},
   "source": [
    "## Plot Choosen Model Againts Data"
   ]
  },
  {
   "cell_type": "code",
   "execution_count": null,
   "metadata": {},
   "outputs": [],
   "source": [
    "import seaborn as sns"
   ]
  },
  {
   "cell_type": "markdown",
   "metadata": {},
   "source": [
    "**Simulated Data Histogram**"
   ]
  },
  {
   "cell_type": "code",
   "execution_count": null,
   "metadata": {
    "scrolled": false
   },
   "outputs": [],
   "source": [
    "sns.distplot(a = simulation, kde = False, norm_hist=True)\n",
    "sns.kdeplot(data = simulation, shade= False)"
   ]
  },
  {
   "cell_type": "markdown",
   "metadata": {},
   "source": [
    "**Chosen Distribution Density Function**"
   ]
  },
  {
   "cell_type": "code",
   "execution_count": null,
   "metadata": {},
   "outputs": [],
   "source": [
    "simulation.sort()"
   ]
  },
  {
   "cell_type": "markdown",
   "metadata": {},
   "source": [
    "**Chosen Distribution on top of Simulated Data Histogram**"
   ]
  },
  {
   "cell_type": "code",
   "execution_count": null,
   "metadata": {
    "scrolled": false
   },
   "outputs": [],
   "source": [
    "sns.distplot(a = simulation, kde = False, norm_hist=True)\n",
    "plt.plot(simulation, best_dist.pdf(simulation, *best_params))"
   ]
  },
  {
   "cell_type": "code",
   "execution_count": null,
   "metadata": {},
   "outputs": [],
   "source": [
    "beta_name = results.iloc[1]['Distribution']\n",
    "beta_params = results.iloc[1]['Parameters']\n",
    "\n",
    "beta_dist = getattr(scipy.stats, beta_name)\n",
    "\n",
    "sns.distplot(a = simulation, kde = False, norm_hist=True)\n",
    "plt.plot(simulation, beta_dist.pdf(simulation, *beta_params))"
   ]
  },
  {
   "cell_type": "markdown",
   "metadata": {},
   "source": [
    "## Validation Methods"
   ]
  },
  {
   "cell_type": "markdown",
   "metadata": {},
   "source": [
    "### Kolmogorov-Smirnoff 2 Sample Test"
   ]
  },
  {
   "cell_type": "code",
   "execution_count": null,
   "metadata": {},
   "outputs": [],
   "source": [
    "from scipy.stats import ks_2samp"
   ]
  },
  {
   "cell_type": "code",
   "execution_count": null,
   "metadata": {
    "scrolled": true
   },
   "outputs": [],
   "source": [
    "data2 = best_dist.rvs(*best_params, size = 2000)\n",
    "statistic, pvalue = ks_2samp(data,data2)\n",
    "print(f\"The Statistic value is: {statistic} \\nThe p_value is: {pvalue}\")"
   ]
  },
  {
   "cell_type": "code",
   "execution_count": null,
   "metadata": {},
   "outputs": [],
   "source": [
    "n1 = len(data1)\n",
    "n2 = len(data2)\n",
    "alpha = 0.05\n",
    "c_alpha = 1.36 # https://sparky.rice.edu//astr360/kstest.pdf\n",
    "critical_value = c_alpha * ((n1 + n2)/(n1*n2))**0.5 \n",
    "critical_value"
   ]
  },
  {
   "cell_type": "code",
   "execution_count": null,
   "metadata": {},
   "outputs": [],
   "source": [
    "if statistic > critical_value:\n",
    "    print('The two samples come from different distributions')\n",
    "else:\n",
    "    print('The two samples come from same distributions')"
   ]
  },
  {
   "cell_type": "markdown",
   "metadata": {},
   "source": [
    "## Work Within Limits"
   ]
  },
  {
   "cell_type": "markdown",
   "metadata": {},
   "source": [
    "### Quantiles"
   ]
  },
  {
   "cell_type": "code",
   "execution_count": 20,
   "metadata": {},
   "outputs": [
    {
     "data": {
      "text/plain": [
       "9.468714983048205"
      ]
     },
     "execution_count": 20,
     "metadata": {},
     "output_type": "execute_result"
    }
   ],
   "source": [
    "quantiles = best_dist.ppf([0.000001, 0.5, 0.999999], *best_params)\n",
    "quantiles[0] = quantiles[0] - "
   ]
  },
  {
   "cell_type": "markdown",
   "metadata": {},
   "source": [
    "**Improvement**"
   ]
  },
  {
   "cell_type": "code",
   "execution_count": 24,
   "metadata": {},
   "outputs": [
    {
     "name": "stdout",
     "output_type": "stream",
     "text": [
      "min: 9.285923059194744\n",
      "Max: 12.669757924403362\n",
      "\n",
      "10.850630653237005% narrower\n"
     ]
    }
   ],
   "source": [
    "limit_min = model.P_in()[0]\n",
    "limit_MAX = model.P_in()[2]\n",
    "limit_nom = model.P_in()[1]\n",
    "print(f'min: {limit_min}\\nMax: {limit_MAX}\\n')\n",
    "(limit_MAX-limit_min)/limit_MAX\n",
    "percent = ((quantiles[2]-quantiles[0])-(quantiles[2]-quantiles[1]))/limit_MAX*100\n",
    "\n",
    "print(f'{percent}% narrower')"
   ]
  },
  {
   "cell_type": "markdown",
   "metadata": {},
   "source": [
    "### Cp"
   ]
  },
  {
   "cell_type": "code",
   "execution_count": 23,
   "metadata": {},
   "outputs": [],
   "source": [
    "# Tolerances of electronic components\n",
    "# Used to initialize the class\n",
    "from PSU_class import PSU\n",
    "\n",
    "Vout = np.array([3.2, 3.3, 3.4])\n",
    "LS_Ron = np.array([6.3, 8.3, 11])*1e-3\n",
    "Iout = np.array([2.64, 3.03, 3.45])\n",
    "Vin = np.array([13.3, 13.35, 13.37])\n",
    "Fsw = np.array([430, 455, 489])*1e3\n",
    "Vbody_diode = np.array([0.65, 0.8, 1.2])\n",
    "L = np.array([5.4, 4.5, 3.6])*1e-6\n",
    "DCR = np.array([12.61, 19, 27.23])*1e-3\n",
    "P_IC = np.array([83.93, 88.81, 93.69])*1e-3\n",
    "\n",
    "model = PSU(Vout, LS_Ron, Iout, Vin, Fsw, Vbody_diode, L, DCR, P_IC)"
   ]
  },
  {
   "cell_type": "code",
   "execution_count": null,
   "metadata": {},
   "outputs": [],
   "source": [
    "# This value depends on the best distribution\n",
    "sigma = best_params[1]"
   ]
  },
  {
   "cell_type": "code",
   "execution_count": null,
   "metadata": {
    "scrolled": true
   },
   "outputs": [],
   "source": [
    "limit_min = model.P_in()[0]\n",
    "limit_MAX = model.P_in()[2] \n",
    "Cp = (limit_MAX - limit_min)/(6 * sigma)\n",
    "Cp"
   ]
  }
 ],
 "metadata": {
  "kernelspec": {
   "display_name": "Python 3",
   "language": "python",
   "name": "python3"
  },
  "language_info": {
   "codemirror_mode": {
    "name": "ipython",
    "version": 3
   },
   "file_extension": ".py",
   "mimetype": "text/x-python",
   "name": "python",
   "nbconvert_exporter": "python",
   "pygments_lexer": "ipython3",
   "version": "3.7.4"
  }
 },
 "nbformat": 4,
 "nbformat_minor": 4
}
