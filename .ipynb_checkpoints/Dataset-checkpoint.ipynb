{
 "cells": [
  {
   "cell_type": "code",
   "execution_count": 1,
   "metadata": {},
   "outputs": [],
   "source": [
    "import numpy as np\n",
    "import math\n",
    "from matplotlib import pyplot as plt\n",
    "import time\n",
    "import scipy.stats\n",
    "import pandas as pd\n",
    "import random"
   ]
  },
  {
   "cell_type": "code",
   "execution_count": 2,
   "metadata": {},
   "outputs": [],
   "source": [
    "# Tolerances of electronic components\n",
    "# Used to initialize the class\n",
    "\n",
    "Vout = np.array([3.2, 3.3, 3.4])\n",
    "LS_Ron = np.array([6.3, 8.3, 11])*1e-3\n",
    "Iout = np.array([2.64, 3.03, 3.45])\n",
    "Vin = np.array([13.3, 13.35, 13.37])\n",
    "Fsw = np.array([430, 455, 489])*1e3\n",
    "Vbody_diode = np.array([0.65, 0.8, 1.2])\n",
    "L = np.array([5.4, 4.5, 3.6])*1e-6\n",
    "DCR = np.array([12.61, 19, 27.23])*1e-3\n",
    "P_IC = np.array([83.93, 88.81, 93.69])*1e-3"
   ]
  },
  {
   "cell_type": "code",
   "execution_count": 3,
   "metadata": {},
   "outputs": [
    {
     "data": {
      "text/plain": [
       "array([ 9.28592306, 10.85749529, 12.66975792])"
      ]
     },
     "execution_count": 3,
     "metadata": {},
     "output_type": "execute_result"
    }
   ],
   "source": [
    "# Initialize Class\n",
    "from PSU_class import PSU\n",
    "\n",
    "model = PSU(Vout, LS_Ron, Iout, Vin, Fsw, Vbody_diode, L, DCR, P_IC)\n",
    "model.P_in()"
   ]
  },
  {
   "cell_type": "code",
   "execution_count": 4,
   "metadata": {},
   "outputs": [],
   "source": [
    "# Number of simulations\n",
    "n_simulation = 20000"
   ]
  },
  {
   "cell_type": "code",
   "execution_count": 59,
   "metadata": {},
   "outputs": [],
   "source": [
    "from helper_functions import randomize, randomize_R, randomize_L\n",
    "def simulation(n_points, base_model, base_class, dist):\n",
    "    \"\"\"\n",
    "    Function that simulates observations for bla bla. \n",
    "    Input:\n",
    "    - n_points : number of points simulated\n",
    "    - dist_components: distributon assumed for the components\n",
    "    \"\"\"\n",
    "    lim_nominal = base_model.P_in()[1]\n",
    "    limit_min = base_model.P_in()[0]\n",
    "    limit_MAX = base_model.P_in()[2]\n",
    "    center_min = lim_nominal - (limit_MAX - limit_min)/6\n",
    "    center_MAX = lim_nominal + (limit_MAX - limit_min)/6\n",
    "    \n",
    "    x = np.zeros((n_points, 9))\n",
    "    y = np.zeros(n_points)\n",
    "    i = 0\n",
    "    while i < n_points:\n",
    "        \n",
    "        # Randomize numbers\n",
    "        Vout_r = randomize(base_model.Vout, dist)\n",
    "        LS_Ron_r = randomize_R(base_model.LS_Ron, dist)\n",
    "        Iout_r = randomize(base_model.Iout, dist)\n",
    "        Vin_r = randomize(base_model.Vin, dist)\n",
    "        Fsw_r = randomize(base_model.Fsw, dist)\n",
    "        Vbody_diode_r = randomize(base_model.Vbody_diode, dist)\n",
    "        L_r = randomize_L(base_model.L, dist)\n",
    "        DCR_r = randomize(base_model.DCR, dist)\n",
    "        P_IC_r = randomize(base_model.P_IC, dist)\n",
    "        \n",
    "        sim_PSU = base_class(Vout_r, LS_Ron_r, Iout_r, Vin_r, Fsw_r, Vbody_diode_r, L_r, DCR_r, P_IC_r)\n",
    "        output = sim_PSU.P_in()\n",
    "        \n",
    "        if center_min < output < center_MAX:\n",
    "            if random.random() < 0.5:\n",
    "                # Create Input Array\n",
    "                x[i] = np.array([Vout_r, LS_Ron_r, Iout_r, Vin_r, Fsw_r, Vbody_diode_r, L_r, DCR_r, P_IC_r])\n",
    "                #Sensible Analysis\n",
    "                # modify one value to plug into the class\n",
    "                # \"sens_var\" = randomize(base_model.\"sens_var\", sens_dist)\n",
    "\n",
    "                # Create Ouput Array\n",
    "                y[i] = output\n",
    "                \n",
    "                i +=1\n",
    "        else:\n",
    "            # Create Input Array\n",
    "            x[i] = np.array([Vout_r, LS_Ron_r, Iout_r, Vin_r, Fsw_r, Vbody_diode_r, L_r, DCR_r, P_IC_r])\n",
    "            #Sensible Analysis\n",
    "            # modify one value to plug into the class\n",
    "            # \"sens_var\" = randomize(base_model.\"sens_var\", sens_dist)\n",
    "\n",
    "            # Create Ouput Array\n",
    "            y[i] = output\n",
    "\n",
    "            i +=1\n",
    "    return x, y\n"
   ]
  },
  {
   "cell_type": "code",
   "execution_count": 38,
   "metadata": {},
   "outputs": [
    {
     "ename": "NameError",
     "evalue": "name 'center_min' is not defined",
     "output_type": "error",
     "traceback": [
      "\u001b[1;31m---------------------------------------------------------------------------\u001b[0m",
      "\u001b[1;31mNameError\u001b[0m                                 Traceback (most recent call last)",
      "\u001b[1;32m<ipython-input-38-2401e76a0c09>\u001b[0m in \u001b[0;36m<module>\u001b[1;34m\u001b[0m\n\u001b[1;32m----> 1\u001b[1;33m \u001b[0mcenter_min\u001b[0m\u001b[1;33m\u001b[0m\u001b[1;33m\u001b[0m\u001b[0m\n\u001b[0m",
      "\u001b[1;31mNameError\u001b[0m: name 'center_min' is not defined"
     ]
    }
   ],
   "source": [
    "center_min"
   ]
  },
  {
   "cell_type": "code",
   "execution_count": 16,
   "metadata": {},
   "outputs": [
    {
     "data": {
      "text/plain": [
       "0.2524368840096306"
      ]
     },
     "execution_count": 16,
     "metadata": {},
     "output_type": "execute_result"
    }
   ],
   "source": [
    "from random import random\n",
    "random()"
   ]
  },
  {
   "cell_type": "code",
   "execution_count": 8,
   "metadata": {},
   "outputs": [
    {
     "name": "stdout",
     "output_type": "stream",
     "text": [
      "[0. 0. 0. 0. 0. 0. 2. 2. 2. 2. 2. 2. 2. 2. 2. 0. 0. 0. 0. 0.]\n"
     ]
    }
   ],
   "source": [
    "test_a = np.zeros(20)\n",
    "i = 0\n",
    "while i < len(test_a):\n",
    "    if 5 < i < 15:\n",
    "        test_a[i] = 2\n",
    "    i += 1\n",
    "print(test_a)"
   ]
  },
  {
   "cell_type": "code",
   "execution_count": 18,
   "metadata": {},
   "outputs": [],
   "source": [
    "from helper_functions import randomize"
   ]
  },
  {
   "cell_type": "code",
   "execution_count": 46,
   "metadata": {},
   "outputs": [
    {
     "data": {
      "text/plain": [
       "0.8792648813298675"
      ]
     },
     "execution_count": 46,
     "metadata": {},
     "output_type": "execute_result"
    }
   ],
   "source": [
    "n_simulation = 20000\n",
    "import random"
   ]
  },
  {
   "cell_type": "code",
   "execution_count": 60,
   "metadata": {},
   "outputs": [],
   "source": [
    "# Simulate output with parameters with Uniform Distribution\n",
    "#from helper_functions import simulation\n",
    "random.seed(123456789)\n",
    "\n",
    "x, y = simulation(n_simulation, model, PSU, \"Gauss\")"
   ]
  },
  {
   "cell_type": "code",
   "execution_count": 61,
   "metadata": {},
   "outputs": [],
   "source": [
    "pd.DataFrame(x).to_csv(\"Data/input.csv\", header=None, index=None)"
   ]
  },
  {
   "cell_type": "code",
   "execution_count": 62,
   "metadata": {},
   "outputs": [],
   "source": [
    "pd.DataFrame(y).to_csv(\"Data/output.csv\", header=None, index=None)"
   ]
  }
 ],
 "metadata": {
  "kernelspec": {
   "display_name": "Python 3",
   "language": "python",
   "name": "python3"
  },
  "language_info": {
   "codemirror_mode": {
    "name": "ipython",
    "version": 3
   },
   "file_extension": ".py",
   "mimetype": "text/x-python",
   "name": "python",
   "nbconvert_exporter": "python",
   "pygments_lexer": "ipython3",
   "version": "3.7.4"
  }
 },
 "nbformat": 4,
 "nbformat_minor": 2
}
