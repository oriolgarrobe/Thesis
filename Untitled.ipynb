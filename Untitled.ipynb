{
 "cells": [
  {
   "cell_type": "code",
   "execution_count": 1,
   "metadata": {},
   "outputs": [],
   "source": [
    "from helper_functions import compute_chi_square"
   ]
  },
  {
   "cell_type": "code",
   "execution_count": 2,
   "metadata": {},
   "outputs": [],
   "source": [
    "import numpy as np\n",
    "import math\n",
    "from matplotlib import pyplot as plt\n",
    "import time\n",
    "import scipy.stats\n",
    "import pandas as pd"
   ]
  },
  {
   "cell_type": "code",
   "execution_count": 3,
   "metadata": {},
   "outputs": [],
   "source": [
    "# Tolerances of electronic components\n",
    "# Used to initialize the class\n",
    "\n",
    "Vout = np.array([3.2, 3.3, 3.4])\n",
    "LS_Ron = np.array([6.3, 8.3, 11])*1e-3\n",
    "Iout = np.array([2.64, 3.03, 3.45])\n",
    "Vin = np.array([13.3, 13.35, 13.37])\n",
    "Fsw = np.array([430, 455, 489])*1e3\n",
    "Vbody_diode = np.array([0.65, 0.8, 1.2])\n",
    "L = np.array([5.4, 4.5, 3.6])*1e-6\n",
    "DCR = np.array([12.61, 19, 27.23])*1e-3\n",
    "P_IC = np.array([83.93, 88.81, 93.69])*1e-3"
   ]
  },
  {
   "cell_type": "code",
   "execution_count": 4,
   "metadata": {},
   "outputs": [
    {
     "data": {
      "text/plain": [
       "array([ 9.28592306, 10.85749529, 12.66975792])"
      ]
     },
     "execution_count": 4,
     "metadata": {},
     "output_type": "execute_result"
    }
   ],
   "source": [
    "# Initialize Class\n",
    "from PSU_class import PSU\n",
    "\n",
    "model = PSU(Vout, LS_Ron, Iout, Vin, Fsw, Vbody_diode, L, DCR, P_IC)\n",
    "model.P_in()"
   ]
  },
  {
   "cell_type": "code",
   "execution_count": 5,
   "metadata": {},
   "outputs": [],
   "source": [
    "# Number of simulations\n",
    "n_simulation = 20000"
   ]
  },
  {
   "cell_type": "code",
   "execution_count": 6,
   "metadata": {},
   "outputs": [],
   "source": [
    "# Simulate output with parameters with Uniform Distribution\n",
    "from helper_functions import simulation\n",
    "\n",
    "uni_simulation = simulation(n_simulation, model, PSU, \"Gauss\")"
   ]
  },
  {
   "cell_type": "code",
   "execution_count": 7,
   "metadata": {},
   "outputs": [
    {
     "data": {
      "image/png": "[encoded data removed]",
      "text/plain": [
       "<Figure size 432x288 with 1 Axes>"
      ]
     },
     "metadata": {
      "needs_background": "light"
     },
     "output_type": "display_data"
    }
   ],
   "source": [
    "# Plot historgram\n",
    "plt.hist(uni_simulation, bins = 'auto')\n",
    "plt.xlabel('P_in')\n",
    "plt.show()"
   ]
  },
  {
   "cell_type": "code",
   "execution_count": 8,
   "metadata": {},
   "outputs": [
    {
     "name": "stdout",
     "output_type": "stream",
     "text": [
      "Distribution: weibull_min || Parameters: (4.27881656276451, 9.732001328068254, 1.2378500499241412)\n",
      "Distribution: norm || Parameters: (10.85963832601349, 0.29045833595172954)\n",
      "Distribution: weibull_max || Parameters: (4.083838955399011, 11.92922098900928, 1.177545556217702)\n",
      "Distribution: beta || Parameters: (104.62730490232121, 130.14108662394665, 6.860734396942074, 8.972956489476571)\n",
      "Distribution: invgauss || Parameters: (0.01162151526020997, 8.105662756249657, 236.94952619061098)\n",
      "Distribution: uniform || Parameters: (9.73922996556317, 2.163359194189976)\n",
      "Distribution: gamma || Parameters: (4642.686609529457, -8.931417826143978, 0.004262845227644262)\n",
      "Distribution: expon || Parameters: (9.73922996556317, 1.1204083604503197)\n",
      "Distribution: lognorm || Parameters: (0.012306379251498651, -12.729121464055549, 23.586846880858594)\n",
      "Distribution: pearson3 || Parameters: (0.7366701032027865, 10.901609443162776, 0.4288251160748339)\n",
      "Distribution: triang || Parameters: (0.5265489007622892, 9.739066168810409, 2.1636999905568315)\n",
      "\n",
      "Distributions listed by Goodness of Fit:\n",
      "..........................................\n",
      "   Distribution  Log_likelihood  Chi_square  \\\n",
      "8       lognorm    -3651.551855        46.0   \n",
      "4      invgauss    -3796.880669        48.0   \n",
      "3          beta    -3651.188401        49.0   \n",
      "6         gamma    -3651.444915        49.0   \n",
      "1          norm    -3652.867968        57.0   \n",
      "2   weibull_max    -3704.016421        62.0   \n",
      "0   weibull_min    -3766.372251       176.0   \n",
      "9      pearson3    -5871.460106      2217.0   \n",
      "10       triang    -6970.943980      5414.0   \n",
      "5       uniform   -15433.243923     19511.0   \n",
      "7         expon   -22273.864528     48575.0   \n",
      "\n",
      "                                           Parameters  \n",
      "8   (0.012306379251498651, -12.729121464055549, 23...  \n",
      "4   (0.01162151526020997, 8.105662756249657, 236.9...  \n",
      "3   (104.62730490232121, 130.14108662394665, 6.860...  \n",
      "6   (4642.686609529457, -8.931417826143978, 0.0042...  \n",
      "1            (10.85963832601349, 0.29045833595172954)  \n",
      "2   (4.083838955399011, 11.92922098900928, 1.17754...  \n",
      "0   (4.27881656276451, 9.732001328068254, 1.237850...  \n",
      "9   (0.7366701032027865, 10.901609443162776, 0.428...  \n",
      "10  (0.5265489007622892, 9.739066168810409, 2.1636...  \n",
      "5               (9.73922996556317, 2.163359194189976)  \n",
      "7              (9.73922996556317, 1.1204083604503197)  \n"
     ]
    }
   ],
   "source": [
    "from helper_functions import compute_chi_square\n",
    "\n",
    "results = compute_chi_square(uni_simulation)"
   ]
  },
  {
   "cell_type": "code",
   "execution_count": 9,
   "metadata": {},
   "outputs": [],
   "source": [
    "params = (0.012306379251498651, -12.729121464055549, 23.586846880858594)"
   ]
  },
  {
   "cell_type": "code",
   "execution_count": 11,
   "metadata": {},
   "outputs": [
    {
     "data": {
      "text/plain": [
       "array([ 9.8025422 , 10.85772542, 11.96232406])"
      ]
     },
     "execution_count": 11,
     "metadata": {},
     "output_type": "execute_result"
    }
   ],
   "source": [
    "vals = scipy.stats.lognorm.ppf([0.0001, 0.5, 0.9999], *params)\n",
    "vals"
   ]
  },
  {
   "cell_type": "code",
   "execution_count": null,
   "metadata": {},
   "outputs": [],
   "source": []
  },
  {
   "cell_type": "code",
   "execution_count": null,
   "metadata": {},
   "outputs": [],
   "source": []
  }
 ],
 "metadata": {
  "kernelspec": {
   "display_name": "Python 3",
   "language": "python",
   "name": "python3"
  },
  "language_info": {
   "codemirror_mode": {
    "name": "ipython",
    "version": 3
   },
   "file_extension": ".py",
   "mimetype": "text/x-python",
   "name": "python",
   "nbconvert_exporter": "python",
   "pygments_lexer": "ipython3",
   "version": "3.7.4"
  }
 },
 "nbformat": 4,
 "nbformat_minor": 2
}
