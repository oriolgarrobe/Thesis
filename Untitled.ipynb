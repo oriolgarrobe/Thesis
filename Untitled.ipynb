{
 "cells": [
  {
   "cell_type": "code",
   "execution_count": 1,
   "metadata": {},
   "outputs": [],
   "source": [
    "import numpy as np\n",
    "import math\n",
    "from matplotlib import pyplot as plt\n",
    "import time\n",
    "import scipy.stats\n",
    "import pandas as pd\n",
    "import random"
   ]
  },
  {
   "cell_type": "code",
   "execution_count": 2,
   "metadata": {},
   "outputs": [],
   "source": [
    "# Tolerances of electronic components\n",
    "# Used to initialize the class\n",
    "\n",
    "Vout = np.array([3.2, 3.3, 3.4])\n",
    "LS_Ron = np.array([6.3, 8.3, 11])*1e-3\n",
    "Iout = np.array([2.64, 3.03, 3.45])\n",
    "Vin = np.array([13.3, 13.35, 13.37])\n",
    "Fsw = np.array([430, 455, 489])*1e3\n",
    "Vbody_diode = np.array([0.65, 0.8, 1.2])\n",
    "L = np.array([5.4, 4.5, 3.6])*1e-6\n",
    "DCR = np.array([12.61, 19, 27.23])*1e-3\n",
    "P_IC = np.array([83.93, 88.81, 93.69])*1e-3"
   ]
  },
  {
   "cell_type": "code",
   "execution_count": 3,
   "metadata": {},
   "outputs": [
    {
     "data": {
      "text/plain": [
       "array([ 9.28592306, 10.85749529, 12.66975792])"
      ]
     },
     "execution_count": 3,
     "metadata": {},
     "output_type": "execute_result"
    }
   ],
   "source": [
    "# Initialize Class\n",
    "from PSU_class import PSU\n",
    "\n",
    "model = PSU(Vout, LS_Ron, Iout, Vin, Fsw, Vbody_diode, L, DCR, P_IC)\n",
    "model.P_in()"
   ]
  },
  {
   "cell_type": "code",
   "execution_count": 4,
   "metadata": {},
   "outputs": [],
   "source": [
    "# Number of simulations\n",
    "n_simulation = 20000"
   ]
  },
  {
   "cell_type": "code",
   "execution_count": 5,
   "metadata": {},
   "outputs": [],
   "source": [
    "# Simulate output with parameters with Uniform Distribution\n",
    "from helper_functions import simulation\n",
    "random.seed(123456789)\n",
    "\n",
    "simulation = simulation(n_simulation, model, PSU, \"Gauss\")"
   ]
  },
  {
   "cell_type": "markdown",
   "metadata": {},
   "source": [
    "### Method Of Moments"
   ]
  },
  {
   "cell_type": "markdown",
   "metadata": {},
   "source": [
    "**Normal Distribution**"
   ]
  },
  {
   "cell_type": "code",
   "execution_count": 6,
   "metadata": {},
   "outputs": [],
   "source": [
    "def get_moments(data):\n",
    "    moments={}\n",
    "    moments['mean'] = np.mean(data)\n",
    "    moments['variance'] = np.var(data)\n",
    "    moments['skew'] = scipy.stats.skew(data)\n",
    "    moments['kurtosis'] = scipy.stats.kurtosis(data)\n",
    "    return moments"
   ]
  },
  {
   "cell_type": "code",
   "execution_count": 164,
   "metadata": {},
   "outputs": [
    {
     "data": {
      "text/plain": [
       "2.3965155216442877"
      ]
     },
     "execution_count": 164,
     "metadata": {},
     "output_type": "execute_result"
    }
   ],
   "source": [
    "min(simulation)\n",
    "max(simulation) - min(simulation)"
   ]
  },
  {
   "cell_type": "code",
   "execution_count": 165,
   "metadata": {},
   "outputs": [],
   "source": [
    "def uniform_from_moments(data):\n",
    "    return min(simulation), max(simulation) - min(simulation)\n",
    "    "
   ]
  },
  {
   "cell_type": "code",
   "execution_count": 47,
   "metadata": {},
   "outputs": [],
   "source": [
    "# Reference Wackerly [Book Stat Methods]\n",
    "def beta_from_moments(data):\n",
    "    # Scale data\n",
    "    beta_data = (data - min(data)) / (max(data) - min(data))\n",
    "    \n",
    "    # Moments of data\n",
    "    moments = get_moments(beta_data)\n",
    "    \n",
    "    # Sample Measures\n",
    "    Y_bar = moments['mean']\n",
    "    s2 = moments['variance']\n",
    "    \n",
    "    # Distribution Parameters\n",
    "    alpha = Y_bar * (Y_bar*(1 - Y_bar)/s2 - 1)\n",
    "    beta = alpha * (1 - Y_bar) / Y_bar\n",
    "    loc = min(data)\n",
    "    scale = max(data) - min(data)\n",
    "    \n",
    "    return alpha, beta, loc, scale"
   ]
  },
  {
   "cell_type": "code",
   "execution_count": 48,
   "metadata": {},
   "outputs": [],
   "source": [
    "def gamma_from_moments(data):\n",
    "    # Scale data\n",
    "    gamma_data = data - min(data)\n",
    "    \n",
    "    # Moments of data\n",
    "    moments = get_moments(gamma_data)\n",
    "    \n",
    "    # Sample Measures\n",
    "    Y_bar = moments['mean'] \n",
    "    n = len(data)\n",
    "    \n",
    "    # Distribution Parameters\n",
    "    alpha = Y_bar**2 / moments['variance']\n",
    "    beta = Y_bar / alpha\n",
    "    loc = min(data)\n",
    "    \n",
    "    return alpha, loc, beta"
   ]
  },
  {
   "cell_type": "code",
   "execution_count": 50,
   "metadata": {},
   "outputs": [],
   "source": [
    "def norm_from_moments(data):\n",
    "    # Moments of data\n",
    "    moments = get_moments(data)\n",
    "    \n",
    "    # Distribution Parameters\n",
    "    mu = moments['mean']\n",
    "    sigma = moments['variance']\n",
    "    \n",
    "    return mu, sigma"
   ]
  },
  {
   "cell_type": "code",
   "execution_count": 178,
   "metadata": {},
   "outputs": [],
   "source": [
    "def lognorm_from_moments(data):\n",
    "    #Scale Data\n",
    "    lognorm_data = data - min(data)\n",
    "\n",
    "    # Moments of data\n",
    "    moments = get_moments(lognorm_data)\n",
    "\n",
    "    # Sample Measures\n",
    "    Y_bar = moments['mean']\n",
    "    s2 = moments['variance']\n",
    "\n",
    "    # Distribution parameters\n",
    "    mu = math.log(Y_bar) - 0.5*math.log(s2/Y_bar + 1)\n",
    "    sigma2 = math.log(s2/Y_bar + 1)\n",
    "    \n",
    "    return sigma2**0.5, min(data), math.exp(mu)"
   ]
  },
  {
   "cell_type": "code",
   "execution_count": 23,
   "metadata": {},
   "outputs": [],
   "source": [
    "moments = get_moments(simulation)"
   ]
  },
  {
   "cell_type": "code",
   "execution_count": 26,
   "metadata": {
    "scrolled": true
   },
   "outputs": [
    {
     "data": {
      "image/png": "[encoded data removed]",
      "text/plain": [
       "<Figure size 432x288 with 1 Axes>"
      ]
     },
     "metadata": {
      "needs_background": "light"
     },
     "output_type": "display_data"
    }
   ],
   "source": [
    "# Plot historgram\n",
    "plt.hist(simulation, bins = 'auto')\n",
    "plt.xlabel('P_in')\n",
    "plt.show()"
   ]
  },
  {
   "cell_type": "code",
   "execution_count": 27,
   "metadata": {
    "scrolled": true
   },
   "outputs": [
    {
     "data": {
      "text/plain": [
       "[<matplotlib.lines.Line2D at 0x1982e0cd508>]"
      ]
     },
     "execution_count": 27,
     "metadata": {},
     "output_type": "execute_result"
    },
    {
     "data": {
      "image/png": "[encoded data removed]",
      "text/plain": [
       "<Figure size 432x288 with 1 Axes>"
      ]
     },
     "metadata": {
      "needs_background": "light"
     },
     "output_type": "display_data"
    }
   ],
   "source": [
    "sns.distplot(a = simulation, kde = False, norm_hist=True)\n",
    "plt.plot(simulation, scipy.stats.gamma.pdf(simulation, *params_gamma))"
   ]
  },
  {
   "cell_type": "code",
   "execution_count": 167,
   "metadata": {},
   "outputs": [
    {
     "data": {
      "text/plain": [
       "{'mean': 10.856259656824204,\n",
       " 'variance': 0.08524544242206011,\n",
       " 'skew': 0.012767813686165069,\n",
       " 'kurtosis': -0.007649080386360474,\n",
       " 'min': 9.630874539601498,\n",
       " 'max': 12.027390061245786}"
      ]
     },
     "execution_count": 167,
     "metadata": {},
     "output_type": "execute_result"
    }
   ],
   "source": [
    "moments = get_moments(simulation)\n",
    "moments"
   ]
  },
  {
   "cell_type": "code",
   "execution_count": 177,
   "metadata": {},
   "outputs": [
    {
     "data": {
      "text/plain": [
       "[<matplotlib.lines.Line2D at 0x19837b2e988>]"
      ]
     },
     "execution_count": 177,
     "metadata": {},
     "output_type": "execute_result"
    },
    {
     "data": {
      "image/png": "[encoded data removed]",
      "text/plain": [
       "<Figure size 432x288 with 1 Axes>"
      ]
     },
     "metadata": {
      "needs_background": "light"
     },
     "output_type": "display_data"
    }
   ],
   "source": [
    "sns.distplot(a = simulation, kde = False, norm_hist=True)\n",
    "plt.plot(simulation, scipy.stats.lognorm.pdf(simulation, *params_lognorm))"
   ]
  }
 ],
 "metadata": {
  "kernelspec": {
   "display_name": "Python 3",
   "language": "python",
   "name": "python3"
  },
  "language_info": {
   "codemirror_mode": {
    "name": "ipython",
    "version": 3
   },
   "file_extension": ".py",
   "mimetype": "text/x-python",
   "name": "python",
   "nbconvert_exporter": "python",
   "pygments_lexer": "ipython3",
   "version": "3.7.4"
  }
 },
 "nbformat": 4,
 "nbformat_minor": 2
}
