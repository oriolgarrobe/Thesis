{
 "cells": [
  {
   "cell_type": "code",
   "execution_count": 39,
   "metadata": {},
   "outputs": [],
   "source": [
    "import numpy as np\n",
    "import math\n",
    "from matplotlib import pyplot as plt\n",
    "import time\n",
    "import scipy.stats\n",
    "import pandas as pd\n",
    "import random\n",
    "import seaborn as sns"
   ]
  },
  {
   "cell_type": "markdown",
   "metadata": {},
   "source": [
    "### Method Of Moments"
   ]
  },
  {
   "cell_type": "code",
   "execution_count": 40,
   "metadata": {},
   "outputs": [
    {
     "data": {
      "text/plain": [
       "(20000, 9)"
      ]
     },
     "execution_count": 40,
     "metadata": {},
     "output_type": "execute_result"
    }
   ],
   "source": [
    "x = np.genfromtxt('data/input.csv', delimiter=',')\n",
    "x.shape"
   ]
  },
  {
   "cell_type": "code",
   "execution_count": 41,
   "metadata": {},
   "outputs": [
    {
     "data": {
      "text/plain": [
       "(20000,)"
      ]
     },
     "execution_count": 41,
     "metadata": {},
     "output_type": "execute_result"
    }
   ],
   "source": [
    "simulation = np.genfromtxt('data/output.csv', delimiter=',')\n",
    "simulation.shape"
   ]
  },
  {
   "cell_type": "code",
   "execution_count": 42,
   "metadata": {},
   "outputs": [
    {
     "data": {
      "text/plain": [
       "array([[3.28426550e+00, 8.16336780e-03, 3.18548348e+00, ...,\n",
       "        4.58464437e-06, 1.81412477e-02, 8.80869984e-02],\n",
       "       [3.31118068e+00, 8.15715483e-03, 3.08988304e+00, ...,\n",
       "        4.51222905e-06, 2.10026945e-02, 8.90321941e-02],\n",
       "       [3.29887611e+00, 8.17795564e-03, 2.98344984e+00, ...,\n",
       "        4.46572024e-06, 2.10032969e-02, 8.89749987e-02],\n",
       "       ...,\n",
       "       [3.30444535e+00, 8.20387077e-03, 2.90119438e+00, ...,\n",
       "        4.50657925e-06, 1.91350286e-02, 8.99913236e-02],\n",
       "       [3.31822436e+00, 8.36227579e-03, 3.02560751e+00, ...,\n",
       "        4.46899543e-06, 1.87060405e-02, 8.86326241e-02],\n",
       "       [3.29240777e+00, 8.34162447e-03, 3.15132294e+00, ...,\n",
       "        4.44441297e-06, 2.01915230e-02, 8.88721364e-02]])"
      ]
     },
     "execution_count": 42,
     "metadata": {},
     "output_type": "execute_result"
    }
   ],
   "source": [
    "x"
   ]
  },
  {
   "cell_type": "code",
   "execution_count": 43,
   "metadata": {},
   "outputs": [
    {
     "data": {
      "text/plain": [
       "3.28"
      ]
     },
     "execution_count": 43,
     "metadata": {},
     "output_type": "execute_result"
    }
   ],
   "source": [
    "3.28E0"
   ]
  },
  {
   "cell_type": "code",
   "execution_count": 44,
   "metadata": {
    "scrolled": true
   },
   "outputs": [
    {
     "data": {
      "text/plain": [
       "array([[3.28426550e+00, 8.16336780e-03, 3.18548348e+00, 1.33494234e+01,\n",
       "        4.57240717e+05, 7.48877190e-01, 4.58464437e-06, 1.81412477e-02,\n",
       "        8.80869984e-02],\n",
       "       [3.31118068e+00, 8.15715483e-03, 3.08988304e+00, 1.33524837e+01,\n",
       "        4.62693020e+05, 8.74636072e-01, 4.51222905e-06, 2.10026945e-02,\n",
       "        8.90321941e-02],\n",
       "       [3.29887611e+00, 8.17795564e-03, 2.98344984e+00, 1.33415638e+01,\n",
       "        4.53306553e+05, 7.82253819e-01, 4.46572024e-06, 2.10032969e-02,\n",
       "        8.89749987e-02],\n",
       "       [3.30094737e+00, 8.19295622e-03, 2.94695127e+00, 1.33583849e+01,\n",
       "        4.55989914e+05, 7.47865583e-01, 4.52015271e-06, 1.88318071e-02,\n",
       "        8.65308976e-02],\n",
       "       [3.29900886e+00, 8.40540077e-03, 3.01462703e+00, 1.33451841e+01,\n",
       "        4.53780172e+05, 8.82674895e-01, 4.44655156e-06, 2.08835011e-02,\n",
       "        8.87749948e-02]])"
      ]
     },
     "execution_count": 44,
     "metadata": {},
     "output_type": "execute_result"
    }
   ],
   "source": [
    "x[0:5]"
   ]
  },
  {
   "cell_type": "code",
   "execution_count": 38,
   "metadata": {},
   "outputs": [
    {
     "data": {
      "text/plain": [
       "array([11.3431472 , 11.13454042, 10.70439106, 10.56180869, 10.82235981])"
      ]
     },
     "execution_count": 38,
     "metadata": {},
     "output_type": "execute_result"
    }
   ],
   "source": [
    "simulation[0:5]"
   ]
  },
  {
   "cell_type": "code",
   "execution_count": 45,
   "metadata": {},
   "outputs": [
    {
     "data": {
      "image/png": "[encoded data removed]",
      "text/plain": [
       "<Figure size 432x288 with 1 Axes>"
      ]
     },
     "metadata": {
      "needs_background": "light"
     },
     "output_type": "display_data"
    }
   ],
   "source": [
    "test = sns.distplot(a = simulation, kde = False, norm_hist=True, axlabel = \"Power Output [W]\", label=\"Density\")\n",
    "test.set_title('Distribution of data')\n",
    "test.set_ylabel('Density')\n",
    "plt.savefig('Data/Plots/hist_simulation.png')"
   ]
  },
  {
   "cell_type": "code",
   "execution_count": 10,
   "metadata": {},
   "outputs": [
    {
     "data": {
      "text/plain": [
       "10.853921155628283"
      ]
     },
     "execution_count": 10,
     "metadata": {},
     "output_type": "execute_result"
    }
   ],
   "source": [
    "mu = MoM.get_moments()['mean']\n",
    "mu"
   ]
  },
  {
   "cell_type": "code",
   "execution_count": 15,
   "metadata": {},
   "outputs": [
    {
     "data": {
      "text/plain": [
       "0.08520699483318595"
      ]
     },
     "execution_count": 15,
     "metadata": {},
     "output_type": "execute_result"
    }
   ],
   "source": [
    "sum(simulation**2)/20000-mu**2"
   ]
  },
  {
   "cell_type": "code",
   "execution_count": 17,
   "metadata": {},
   "outputs": [
    {
     "data": {
      "text/plain": [
       "{'mean': 10.853921155628283,\n",
       " 'variance': 0.08520699483292585,\n",
       " 'skew': 0.011814783494137641,\n",
       " 'kurtosis': -0.0076425591742919075}"
      ]
     },
     "execution_count": 17,
     "metadata": {},
     "output_type": "execute_result"
    }
   ],
   "source": [
    "MoM.get_moments()"
   ]
  },
  {
   "cell_type": "code",
   "execution_count": null,
   "metadata": {},
   "outputs": [],
   "source": []
  },
  {
   "cell_type": "code",
   "execution_count": null,
   "metadata": {},
   "outputs": [],
   "source": []
  },
  {
   "cell_type": "code",
   "execution_count": null,
   "metadata": {},
   "outputs": [],
   "source": []
  },
  {
   "cell_type": "code",
   "execution_count": 5,
   "metadata": {},
   "outputs": [],
   "source": [
    "from MoM_class import Method_of_Moments"
   ]
  },
  {
   "cell_type": "code",
   "execution_count": 6,
   "metadata": {},
   "outputs": [],
   "source": [
    "MoM = Method_of_Moments(simulation)"
   ]
  },
  {
   "cell_type": "code",
   "execution_count": 94,
   "metadata": {},
   "outputs": [
    {
     "ename": "NameError",
     "evalue": "name 'np' is not defined",
     "output_type": "error",
     "traceback": [
      "\u001b[1;31m---------------------------------------------------------------------------\u001b[0m",
      "\u001b[1;31mNameError\u001b[0m                                 Traceback (most recent call last)",
      "\u001b[1;32m<ipython-input-94-695fbd2cbdf1>\u001b[0m in \u001b[0;36m<module>\u001b[1;34m\u001b[0m\n\u001b[1;32m----> 1\u001b[1;33m \u001b[0mMoM\u001b[0m\u001b[1;33m.\u001b[0m\u001b[0mget_moments\u001b[0m\u001b[1;33m(\u001b[0m\u001b[1;33m)\u001b[0m\u001b[1;33m\u001b[0m\u001b[1;33m\u001b[0m\u001b[0m\n\u001b[0m",
      "\u001b[1;32m~\\OneDrive\\Desktop\\Thesis_code\\MoM_class.py\u001b[0m in \u001b[0;36mget_moments\u001b[1;34m(self)\u001b[0m\n\u001b[0;32m      4\u001b[0m     \u001b[1;32mdef\u001b[0m \u001b[0m__init__\u001b[0m\u001b[1;33m(\u001b[0m\u001b[0mself\u001b[0m\u001b[1;33m,\u001b[0m \u001b[0mdata\u001b[0m\u001b[1;33m)\u001b[0m\u001b[1;33m:\u001b[0m\u001b[1;33m\u001b[0m\u001b[1;33m\u001b[0m\u001b[0m\n\u001b[0;32m      5\u001b[0m         \u001b[0mself\u001b[0m\u001b[1;33m.\u001b[0m\u001b[0mdata\u001b[0m \u001b[1;33m=\u001b[0m \u001b[0mdata\u001b[0m\u001b[1;33m\u001b[0m\u001b[1;33m\u001b[0m\u001b[0m\n\u001b[1;32m----> 6\u001b[1;33m     \u001b[1;32mdef\u001b[0m \u001b[0mget_moments\u001b[0m\u001b[1;33m(\u001b[0m\u001b[0mself\u001b[0m\u001b[1;33m)\u001b[0m\u001b[1;33m:\u001b[0m\u001b[1;33m\u001b[0m\u001b[1;33m\u001b[0m\u001b[0m\n\u001b[0m\u001b[0;32m      7\u001b[0m         \u001b[0mmoments\u001b[0m\u001b[1;33m=\u001b[0m\u001b[1;33m{\u001b[0m\u001b[1;33m}\u001b[0m\u001b[1;33m\u001b[0m\u001b[1;33m\u001b[0m\u001b[0m\n\u001b[0;32m      8\u001b[0m         \u001b[0mmoments\u001b[0m\u001b[1;33m[\u001b[0m\u001b[1;34m'mean'\u001b[0m\u001b[1;33m]\u001b[0m \u001b[1;33m=\u001b[0m \u001b[0mnp\u001b[0m\u001b[1;33m.\u001b[0m\u001b[0mmean\u001b[0m\u001b[1;33m(\u001b[0m\u001b[0mself\u001b[0m\u001b[1;33m.\u001b[0m\u001b[0mdata\u001b[0m\u001b[1;33m)\u001b[0m\u001b[1;33m\u001b[0m\u001b[1;33m\u001b[0m\u001b[0m\n",
      "\u001b[1;31mNameError\u001b[0m: name 'np' is not defined"
     ]
    }
   ],
   "source": [
    "MoM.get_moments()"
   ]
  },
  {
   "cell_type": "code",
   "execution_count": 82,
   "metadata": {},
   "outputs": [
    {
     "data": {
      "text/plain": [
       "(9.629764772420614, 2.4015414814156433)"
      ]
     },
     "execution_count": 82,
     "metadata": {},
     "output_type": "execute_result"
    }
   ],
   "source": [
    "MoM.uniform_from_moments()"
   ]
  },
  {
   "cell_type": "code",
   "execution_count": 83,
   "metadata": {},
   "outputs": [
    {
     "data": {
      "text/plain": [
       "(8.112639018532569, 7.802679803484241, 9.629764772420614, 2.4015414814156433)"
      ]
     },
     "execution_count": 83,
     "metadata": {},
     "output_type": "execute_result"
    }
   ],
   "source": [
    "MoM.beta_from_moments()"
   ]
  },
  {
   "cell_type": "code",
   "execution_count": 84,
   "metadata": {},
   "outputs": [
    {
     "data": {
      "text/plain": [
       "(17.587275005842695, 9.629764772420614, 0.0696046648955561)"
      ]
     },
     "execution_count": 84,
     "metadata": {},
     "output_type": "execute_result"
    }
   ],
   "source": [
    "MoM.gamma_from_moments()"
   ]
  },
  {
   "cell_type": "code",
   "execution_count": 85,
   "metadata": {},
   "outputs": [
    {
     "data": {
      "text/plain": [
       "(10.853921155628283, 0.2919023720919819)"
      ]
     },
     "execution_count": 85,
     "metadata": {},
     "output_type": "execute_result"
    }
   ],
   "source": [
    "MoM.norm_from_moments()"
   ]
  },
  {
   "cell_type": "code",
   "execution_count": 87,
   "metadata": {},
   "outputs": [
    {
     "data": {
      "text/plain": [
       "(0.25940144205838267, 9.629764772420614, 1.1836553279325985)"
      ]
     },
     "execution_count": 87,
     "metadata": {},
     "output_type": "execute_result"
    }
   ],
   "source": [
    "MoM.lognorm_from_moments()"
   ]
  },
  {
   "cell_type": "code",
   "execution_count": 5,
   "metadata": {},
   "outputs": [],
   "source": [
    "def get_moments(data):\n",
    "    moments={}\n",
    "    moments['mean'] = np.mean(data)\n",
    "    moments['variance'] = np.var(data)\n",
    "    moments['skew'] = scipy.stats.skew(data)\n",
    "    moments['kurtosis'] = scipy.stats.kurtosis(data)\n",
    "    return moments"
   ]
  },
  {
   "cell_type": "code",
   "execution_count": 41,
   "metadata": {},
   "outputs": [],
   "source": [
    "def uniform_from_moments(data):\n",
    "    return min(simulation), max(simulation) - min(simulation)\n",
    "    "
   ]
  },
  {
   "cell_type": "code",
   "execution_count": 7,
   "metadata": {},
   "outputs": [],
   "source": [
    "# Reference Wackerly [Book Stat Methods]\n",
    "def beta_from_moments(data):\n",
    "    # Scale data\n",
    "    beta_data = (data - min(data)) / (max(data) - min(data))\n",
    "    \n",
    "    # Moments of data\n",
    "    moments = get_moments(beta_data)\n",
    "    \n",
    "    # Sample Measures\n",
    "    Y_bar = moments['mean']\n",
    "    s2 = moments['variance']\n",
    "    \n",
    "    # Distribution Parameters\n",
    "    alpha = Y_bar * (Y_bar*(1 - Y_bar)/s2 - 1)\n",
    "    beta = alpha * (1 - Y_bar) / Y_bar\n",
    "    loc = min(data)\n",
    "    scale = max(data) - min(data)\n",
    "    \n",
    "    return alpha, beta, loc, scale"
   ]
  },
  {
   "cell_type": "code",
   "execution_count": 8,
   "metadata": {},
   "outputs": [],
   "source": [
    "def gamma_from_moments(data):\n",
    "    # Scale data\n",
    "    gamma_data = data - min(data)\n",
    "    \n",
    "    # Moments of data\n",
    "    moments = get_moments(gamma_data)\n",
    "    \n",
    "    # Sample Measures\n",
    "    Y_bar = moments['mean'] \n",
    "    n = len(data)\n",
    "    \n",
    "    # Distribution Parameters\n",
    "    alpha = Y_bar**2 / moments['variance']\n",
    "    beta = Y_bar / alpha\n",
    "    loc = min(data)\n",
    "    \n",
    "    return alpha, loc, beta"
   ]
  },
  {
   "cell_type": "code",
   "execution_count": 9,
   "metadata": {},
   "outputs": [],
   "source": [
    "def norm_from_moments(data):\n",
    "    # Moments of data\n",
    "    moments = get_moments(data)\n",
    "    \n",
    "    # Distribution Parameters\n",
    "    mu = moments['mean']\n",
    "    sigma = moments['variance']**0.5\n",
    "    \n",
    "    return mu, sigma"
   ]
  },
  {
   "cell_type": "code",
   "execution_count": 10,
   "metadata": {},
   "outputs": [],
   "source": [
    "def lognorm_from_moments(data):\n",
    "    #Scale Data\n",
    "    lognorm_data = data - min(data)\n",
    "\n",
    "    # Moments of data\n",
    "    moments = get_moments(lognorm_data)\n",
    "\n",
    "    # Sample Measures\n",
    "    Y_bar = moments['mean']\n",
    "    s2 = moments['variance']\n",
    "\n",
    "    # Distribution parameters\n",
    "    mu = math.log(Y_bar) - 0.5*math.log(s2/Y_bar + 1)\n",
    "    sigma2 = math.log(s2/Y_bar + 1)\n",
    "    \n",
    "    return sigma2**0.5, min(data), math.exp(mu)"
   ]
  },
  {
   "cell_type": "code",
   "execution_count": 11,
   "metadata": {},
   "outputs": [],
   "source": [
    "params_gamma = gamma_from_moments(simulation)\n",
    "simulation.sort()"
   ]
  },
  {
   "cell_type": "markdown",
   "metadata": {},
   "source": [
    "**Log Likelihood of FIT**"
   ]
  },
  {
   "cell_type": "code",
   "execution_count": 26,
   "metadata": {},
   "outputs": [
    {
     "data": {
      "text/plain": [
       "-4263.037424939348"
      ]
     },
     "execution_count": 26,
     "metadata": {},
     "output_type": "execute_result"
    }
   ],
   "source": [
    "### Log Likelihood\n",
    "np.sum(np.log(scipy.stats.gamma.pdf(simulation[1:], *params_gamma)))"
   ]
  },
  {
   "cell_type": "code",
   "execution_count": 13,
   "metadata": {
    "scrolled": false
   },
   "outputs": [
    {
     "data": {
      "image/png": "[encoded data removed]",
      "text/plain": [
       "<Figure size 432x288 with 1 Axes>"
      ]
     },
     "metadata": {
      "needs_background": "light"
     },
     "output_type": "display_data"
    }
   ],
   "source": [
    "gamma_fit = sns.distplot(a = simulation, kde = False, norm_hist=True, axlabel='Power Output [W]')\n",
    "plt.plot(simulation, scipy.stats.gamma.pdf(simulation, *params_gamma))\n",
    "gamma_fit.set_title('Gamma Distribution Fit - MoM')\n",
    "gamma_fit.set_ylabel('Density')\n",
    "plt.savefig('Data/Plots/MoM_Gamma.png')"
   ]
  },
  {
   "cell_type": "code",
   "execution_count": 30,
   "metadata": {},
   "outputs": [
    {
     "data": {
      "text/plain": [
       "(8.112639018532569, 7.802679803484241, 9.629764772420614, 2.4015414814156433)"
      ]
     },
     "execution_count": 30,
     "metadata": {},
     "output_type": "execute_result"
    }
   ],
   "source": [
    "params_beta = beta_from_moments(simulation)\n",
    "params_beta"
   ]
  },
  {
   "cell_type": "code",
   "execution_count": 40,
   "metadata": {
    "scrolled": true
   },
   "outputs": [
    {
     "data": {
      "text/plain": [
       "-3832.027065075245"
      ]
     },
     "execution_count": 40,
     "metadata": {},
     "output_type": "execute_result"
    }
   ],
   "source": [
    "np.sum(np.log(scipy.stats.beta.pdf(simulation[1:-1], *params_beta)))"
   ]
  },
  {
   "cell_type": "code",
   "execution_count": 52,
   "metadata": {},
   "outputs": [
    {
     "data": {
      "image/png": "[encoded data removed]",
      "text/plain": [
       "<Figure size 432x288 with 1 Axes>"
      ]
     },
     "metadata": {
      "needs_background": "light"
     },
     "output_type": "display_data"
    }
   ],
   "source": [
    "beta_fit = sns.distplot(a = simulation, kde = False, norm_hist=True, axlabel='Power Output [W]')\n",
    "plt.plot(simulation, scipy.stats.beta.pdf(simulation, *params_beta))\n",
    "beta_fit.set_title('Beta Distribution Fit - MoM')\n",
    "beta_fit.set_ylabel('Density')\n",
    "plt.savefig('Data/Plots/MoM_Beta.png')"
   ]
  },
  {
   "cell_type": "code",
   "execution_count": 35,
   "metadata": {},
   "outputs": [
    {
     "data": {
      "text/plain": [
       "(10.853921155628283, 0.2919023720919819)"
      ]
     },
     "execution_count": 35,
     "metadata": {},
     "output_type": "execute_result"
    }
   ],
   "source": [
    "params_normal = norm_from_moments(simulation)\n",
    "params_normal"
   ]
  },
  {
   "cell_type": "code",
   "execution_count": 48,
   "metadata": {},
   "outputs": [
    {
     "data": {
      "image/png": "[encoded data removed]",
      "text/plain": [
       "<Figure size 432x288 with 1 Axes>"
      ]
     },
     "metadata": {
      "needs_background": "light"
     },
     "output_type": "display_data"
    }
   ],
   "source": [
    "norm_fit = sns.distplot(a = simulation, kde = False, norm_hist=True, axlabel='Power Output [W]')\n",
    "plt.plot(simulation, scipy.stats.norm.pdf(simulation, *params_normal))\n",
    "norm_fit.set_title('Normal Distribution Fit - MoM')\n",
    "norm_fit.set_ylabel('Density')\n",
    "plt.savefig('Data/Plots/MoM_Normal.png')"
   ]
  },
  {
   "cell_type": "code",
   "execution_count": 39,
   "metadata": {},
   "outputs": [
    {
     "data": {
      "text/plain": [
       "(9.629764772420614, 2.4015414814156433)"
      ]
     },
     "execution_count": 39,
     "metadata": {},
     "output_type": "execute_result"
    }
   ],
   "source": [
    "params_uniform = uniform_from_moments(simulation)\n",
    "params_uniform"
   ]
  },
  {
   "cell_type": "code",
   "execution_count": 47,
   "metadata": {},
   "outputs": [
    {
     "data": {
      "image/png": "[encoded data removed]",
      "text/plain": [
       "<Figure size 432x288 with 1 Axes>"
      ]
     },
     "metadata": {
      "needs_background": "light"
     },
     "output_type": "display_data"
    }
   ],
   "source": [
    "uniform_fit = sns.distplot(a = simulation, kde = False, norm_hist=True, axlabel='Power Output [W]')\n",
    "plt.plot(simulation, scipy.stats.uniform.pdf(simulation, *params_uniform))\n",
    "uniform_fit.set_title('Uniform Distribution Fit - MoM')\n",
    "uniform_fit.set_ylabel('Density')\n",
    "plt.savefig('Data/Plots/MoM_Uniform.png')"
   ]
  },
  {
   "cell_type": "code",
   "execution_count": 42,
   "metadata": {},
   "outputs": [
    {
     "data": {
      "text/plain": [
       "(0.25940144205838267, 9.629764772420614, 1.1836553279325985)"
      ]
     },
     "execution_count": 42,
     "metadata": {},
     "output_type": "execute_result"
    }
   ],
   "source": [
    "params_lognorm = lognorm_from_moments(simulation)\n",
    "params_lognorm"
   ]
  },
  {
   "cell_type": "code",
   "execution_count": 46,
   "metadata": {},
   "outputs": [
    {
     "data": {
      "image/png": "[encoded data removed]",
      "text/plain": [
       "<Figure size 432x288 with 1 Axes>"
      ]
     },
     "metadata": {
      "needs_background": "light"
     },
     "output_type": "display_data"
    }
   ],
   "source": [
    "lognorm_fit = sns.distplot(a = simulation, kde = False, norm_hist=True, axlabel='Power Output [W]')\n",
    "plt.plot(simulation, scipy.stats.lognorm.pdf(simulation, *params_lognorm))\n",
    "lognorm_fit.set_title('Lognorm Distribution Fit - MoM')\n",
    "lognorm_fit.set_ylabel('Density')\n",
    "plt.savefig('Data/Plots/MoM_Lognorm.png')"
   ]
  },
  {
   "cell_type": "code",
   "execution_count": 102,
   "metadata": {},
   "outputs": [],
   "source": [
    "def log_likelihood_foo(data, parameters):\n",
    "    return np.sum(np.log(dist.pdf(data[1:-1], *parameters)))\n",
    "\n",
    "def get_parameters(data, method, distribution):\n",
    "    if method == 'MLE':\n",
    "        dist = getattr(scipy.stats, distribution)\n",
    "        return dist.fit(data)\n",
    "    else: #'MoM'\n",
    "        MoM = Method_of_Moments(data)\n",
    "        method_to_call = getattr(Method_of_Moments, distribution + '_from_moments')\n",
    "        return MoM.method_to_call()"
   ]
  }
 ],
 "metadata": {
  "kernelspec": {
   "display_name": "Python 3",
   "language": "python",
   "name": "python3"
  },
  "language_info": {
   "codemirror_mode": {
    "name": "ipython",
    "version": 3
   },
   "file_extension": ".py",
   "mimetype": "text/x-python",
   "name": "python",
   "nbconvert_exporter": "python",
   "pygments_lexer": "ipython3",
   "version": "3.7.4"
  }
 },
 "nbformat": 4,
 "nbformat_minor": 2
}
