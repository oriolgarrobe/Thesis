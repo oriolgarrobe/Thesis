{
 "cells": [
  {
   "cell_type": "code",
   "execution_count": 1,
   "metadata": {},
   "outputs": [],
   "source": [
    "import numpy as np\n",
    "import math\n",
    "from matplotlib import pyplot as plt\n",
    "import time\n",
    "import scipy.stats\n",
    "import pandas as pd\n",
    "import random"
   ]
  },
  {
   "cell_type": "markdown",
   "metadata": {},
   "source": [
    "## Simulate from Class"
   ]
  },
  {
   "cell_type": "code",
   "execution_count": 2,
   "metadata": {},
   "outputs": [
    {
     "data": {
      "text/plain": [
       "(20000, 9)"
      ]
     },
     "execution_count": 2,
     "metadata": {},
     "output_type": "execute_result"
    }
   ],
   "source": [
    "x = np.genfromtxt('data/input.csv', delimiter=',')\n",
    "x.shape"
   ]
  },
  {
   "cell_type": "code",
   "execution_count": 3,
   "metadata": {},
   "outputs": [
    {
     "data": {
      "text/plain": [
       "(20000,)"
      ]
     },
     "execution_count": 3,
     "metadata": {},
     "output_type": "execute_result"
    }
   ],
   "source": [
    "simulation = np.genfromtxt('data/output.csv', delimiter=',')\n",
    "simulation.shape"
   ]
  },
  {
   "cell_type": "code",
   "execution_count": 4,
   "metadata": {
    "scrolled": false
   },
   "outputs": [
    {
     "data": {
      "image/png": "[encoded data removed]",
      "text/plain": [
       "<Figure size 432x288 with 1 Axes>"
      ]
     },
     "metadata": {
      "needs_background": "light"
     },
     "output_type": "display_data"
    }
   ],
   "source": [
    "# Plot historgram\n",
    "plt.hist(simulation, bins = 'auto')\n",
    "plt.xlabel('P_in')\n",
    "plt.show()"
   ]
  },
  {
   "cell_type": "markdown",
   "metadata": {},
   "source": [
    "## Model Selection Methods"
   ]
  },
  {
   "cell_type": "markdown",
   "metadata": {},
   "source": [
    "### Chi-Square"
   ]
  },
  {
   "cell_type": "code",
   "execution_count": 5,
   "metadata": {
    "scrolled": false
   },
   "outputs": [
    {
     "name": "stdout",
     "output_type": "stream",
     "text": [
      "Distribution: weibull_min || Parameters: (533102816.67082655, -266555837.11416727, 266555848.05581123)\n",
      "Distribution: norm || Parameters: (10.856260930361984, 0.2919045002438211)\n",
      "Distribution: weibull_max || Parameters: (4.492720792453061, 12.042258498181576, 1.2981617109046732)\n",
      "Distribution: beta || Parameters: (364.87933577547363, 431.3367243552041, 3.2758077228036275, 16.54157441896509)\n",
      "Distribution: invgauss || Parameters: (0.01745673667969885, 8.555723145276737, 131.5246715064353)\n",
      "Distribution: uniform || Parameters: (9.63191571754346, 2.4018382549794683)\n",
      "Distribution: gamma || Parameters: (28532.084433159544, -38.45065752075047, 0.0017281219025688426)\n",
      "Distribution: expon || Parameters: (9.63191571754346, 1.2243452128185233)\n",
      "Distribution: lognorm || Parameters: (0.010872404014110125, -16.003623600716686, 26.85801472349138)\n",
      "Distribution: pearson3 || Parameters: (0.011899648649981054, 10.856264999172193, 0.29190691334889135)\n",
      "Distribution: triang || Parameters: (0.5134335580241474, 9.63174489961435, 2.402184486232237)\n",
      "\n",
      "Distributions listed by Goodness of Fit:\n",
      "..........................................\n",
      "   Distribution  Log_likelihood  Chi_square  \\\n",
      "1          norm    -3752.198981         1.0   \n",
      "3          beta    -3751.940079         1.0   \n",
      "6         gamma    -3751.963996         1.0   \n",
      "9      pearson3    -3751.963993         1.0   \n",
      "8       lognorm    -3752.687748         2.0   \n",
      "2   weibull_max    -3865.628629        66.0   \n",
      "4      invgauss    -4007.761490       226.0   \n",
      "10       triang    -8397.600142      7079.0   \n",
      "0   weibull_min    -9552.834055      8581.0   \n",
      "5       uniform   -17524.687675     21510.0   \n",
      "7         expon   -24048.123619     53841.0   \n",
      "\n",
      "                                           Parameters  \n",
      "1            (10.856260930361984, 0.2919045002438211)  \n",
      "3   (364.87933577547363, 431.3367243552041, 3.2758...  \n",
      "6   (28532.084433159544, -38.45065752075047, 0.001...  \n",
      "9   (0.011899648649981054, 10.856264999172193, 0.2...  \n",
      "8   (0.010872404014110125, -16.003623600716686, 26...  \n",
      "2   (4.492720792453061, 12.042258498181576, 1.2981...  \n",
      "4   (0.01745673667969885, 8.555723145276737, 131.5...  \n",
      "10  (0.5134335580241474, 9.63174489961435, 2.40218...  \n",
      "0   (533102816.67082655, -266555837.11416727, 2665...  \n",
      "5              (9.63191571754346, 2.4018382549794683)  \n",
      "7              (9.63191571754346, 1.2243452128185233)  \n"
     ]
    }
   ],
   "source": [
    "from helper_functions import compute_chi_square\n",
    "\n",
    "results = compute_chi_square(simulation)"
   ]
  },
  {
   "cell_type": "code",
   "execution_count": 6,
   "metadata": {},
   "outputs": [
    {
     "data": {
      "text/html": [
       "<div>\n",
       "<style scoped>\n",
       "    .dataframe tbody tr th:only-of-type {\n",
       "        vertical-align: middle;\n",
       "    }\n",
       "\n",
       "    .dataframe tbody tr th {\n",
       "        vertical-align: top;\n",
       "    }\n",
       "\n",
       "    .dataframe thead th {\n",
       "        text-align: right;\n",
       "    }\n",
       "</style>\n",
       "<table border=\"1\" class=\"dataframe\">\n",
       "  <thead>\n",
       "    <tr style=\"text-align: right;\">\n",
       "      <th></th>\n",
       "      <th>Distribution</th>\n",
       "      <th>Log_likelihood</th>\n",
       "      <th>Chi_square</th>\n",
       "      <th>Parameters</th>\n",
       "    </tr>\n",
       "  </thead>\n",
       "  <tbody>\n",
       "    <tr>\n",
       "      <td>1</td>\n",
       "      <td>norm</td>\n",
       "      <td>-3752.198981</td>\n",
       "      <td>1.0</td>\n",
       "      <td>(10.856260930361984, 0.2919045002438211)</td>\n",
       "    </tr>\n",
       "    <tr>\n",
       "      <td>3</td>\n",
       "      <td>beta</td>\n",
       "      <td>-3751.940079</td>\n",
       "      <td>1.0</td>\n",
       "      <td>(364.87933577547363, 431.3367243552041, 3.2758...</td>\n",
       "    </tr>\n",
       "    <tr>\n",
       "      <td>6</td>\n",
       "      <td>gamma</td>\n",
       "      <td>-3751.963996</td>\n",
       "      <td>1.0</td>\n",
       "      <td>(28532.084433159544, -38.45065752075047, 0.001...</td>\n",
       "    </tr>\n",
       "    <tr>\n",
       "      <td>9</td>\n",
       "      <td>pearson3</td>\n",
       "      <td>-3751.963993</td>\n",
       "      <td>1.0</td>\n",
       "      <td>(0.011899648649981054, 10.856264999172193, 0.2...</td>\n",
       "    </tr>\n",
       "    <tr>\n",
       "      <td>8</td>\n",
       "      <td>lognorm</td>\n",
       "      <td>-3752.687748</td>\n",
       "      <td>2.0</td>\n",
       "      <td>(0.010872404014110125, -16.003623600716686, 26...</td>\n",
       "    </tr>\n",
       "    <tr>\n",
       "      <td>2</td>\n",
       "      <td>weibull_max</td>\n",
       "      <td>-3865.628629</td>\n",
       "      <td>66.0</td>\n",
       "      <td>(4.492720792453061, 12.042258498181576, 1.2981...</td>\n",
       "    </tr>\n",
       "    <tr>\n",
       "      <td>4</td>\n",
       "      <td>invgauss</td>\n",
       "      <td>-4007.761490</td>\n",
       "      <td>226.0</td>\n",
       "      <td>(0.01745673667969885, 8.555723145276737, 131.5...</td>\n",
       "    </tr>\n",
       "    <tr>\n",
       "      <td>10</td>\n",
       "      <td>triang</td>\n",
       "      <td>-8397.600142</td>\n",
       "      <td>7079.0</td>\n",
       "      <td>(0.5134335580241474, 9.63174489961435, 2.40218...</td>\n",
       "    </tr>\n",
       "    <tr>\n",
       "      <td>0</td>\n",
       "      <td>weibull_min</td>\n",
       "      <td>-9552.834055</td>\n",
       "      <td>8581.0</td>\n",
       "      <td>(533102816.67082655, -266555837.11416727, 2665...</td>\n",
       "    </tr>\n",
       "    <tr>\n",
       "      <td>5</td>\n",
       "      <td>uniform</td>\n",
       "      <td>-17524.687675</td>\n",
       "      <td>21510.0</td>\n",
       "      <td>(9.63191571754346, 2.4018382549794683)</td>\n",
       "    </tr>\n",
       "    <tr>\n",
       "      <td>7</td>\n",
       "      <td>expon</td>\n",
       "      <td>-24048.123619</td>\n",
       "      <td>53841.0</td>\n",
       "      <td>(9.63191571754346, 1.2243452128185233)</td>\n",
       "    </tr>\n",
       "  </tbody>\n",
       "</table>\n",
       "</div>"
      ],
      "text/plain": [
       "   Distribution  Log_likelihood  Chi_square  \\\n",
       "1          norm    -3752.198981         1.0   \n",
       "3          beta    -3751.940079         1.0   \n",
       "6         gamma    -3751.963996         1.0   \n",
       "9      pearson3    -3751.963993         1.0   \n",
       "8       lognorm    -3752.687748         2.0   \n",
       "2   weibull_max    -3865.628629        66.0   \n",
       "4      invgauss    -4007.761490       226.0   \n",
       "10       triang    -8397.600142      7079.0   \n",
       "0   weibull_min    -9552.834055      8581.0   \n",
       "5       uniform   -17524.687675     21510.0   \n",
       "7         expon   -24048.123619     53841.0   \n",
       "\n",
       "                                           Parameters  \n",
       "1            (10.856260930361984, 0.2919045002438211)  \n",
       "3   (364.87933577547363, 431.3367243552041, 3.2758...  \n",
       "6   (28532.084433159544, -38.45065752075047, 0.001...  \n",
       "9   (0.011899648649981054, 10.856264999172193, 0.2...  \n",
       "8   (0.010872404014110125, -16.003623600716686, 26...  \n",
       "2   (4.492720792453061, 12.042258498181576, 1.2981...  \n",
       "4   (0.01745673667969885, 8.555723145276737, 131.5...  \n",
       "10  (0.5134335580241474, 9.63174489961435, 2.40218...  \n",
       "0   (533102816.67082655, -266555837.11416727, 2665...  \n",
       "5              (9.63191571754346, 2.4018382549794683)  \n",
       "7              (9.63191571754346, 1.2243452128185233)  "
      ]
     },
     "execution_count": 6,
     "metadata": {},
     "output_type": "execute_result"
    }
   ],
   "source": [
    "results"
   ]
  },
  {
   "cell_type": "code",
   "execution_count": 7,
   "metadata": {
    "scrolled": true
   },
   "outputs": [
    {
     "data": {
      "text/html": [
       "<div>\n",
       "<style scoped>\n",
       "    .dataframe tbody tr th:only-of-type {\n",
       "        vertical-align: middle;\n",
       "    }\n",
       "\n",
       "    .dataframe tbody tr th {\n",
       "        vertical-align: top;\n",
       "    }\n",
       "\n",
       "    .dataframe thead th {\n",
       "        text-align: right;\n",
       "    }\n",
       "</style>\n",
       "<table border=\"1\" class=\"dataframe\">\n",
       "  <thead>\n",
       "    <tr style=\"text-align: right;\">\n",
       "      <th></th>\n",
       "      <th>Distribution</th>\n",
       "      <th>Log_likelihood</th>\n",
       "      <th>Chi_square</th>\n",
       "      <th>Parameters</th>\n",
       "    </tr>\n",
       "  </thead>\n",
       "  <tbody>\n",
       "    <tr>\n",
       "      <td>1</td>\n",
       "      <td>norm</td>\n",
       "      <td>-3752.198981</td>\n",
       "      <td>1.0</td>\n",
       "      <td>(10.856260930361984, 0.2919045002438211)</td>\n",
       "    </tr>\n",
       "    <tr>\n",
       "      <td>3</td>\n",
       "      <td>beta</td>\n",
       "      <td>-3751.940079</td>\n",
       "      <td>1.0</td>\n",
       "      <td>(364.87933577547363, 431.3367243552041, 3.2758...</td>\n",
       "    </tr>\n",
       "    <tr>\n",
       "      <td>6</td>\n",
       "      <td>gamma</td>\n",
       "      <td>-3751.963996</td>\n",
       "      <td>1.0</td>\n",
       "      <td>(28532.084433159544, -38.45065752075047, 0.001...</td>\n",
       "    </tr>\n",
       "    <tr>\n",
       "      <td>8</td>\n",
       "      <td>lognorm</td>\n",
       "      <td>-3752.687748</td>\n",
       "      <td>2.0</td>\n",
       "      <td>(0.010872404014110125, -16.003623600716686, 26...</td>\n",
       "    </tr>\n",
       "    <tr>\n",
       "      <td>2</td>\n",
       "      <td>weibull_max</td>\n",
       "      <td>-3865.628629</td>\n",
       "      <td>66.0</td>\n",
       "      <td>(4.492720792453061, 12.042258498181576, 1.2981...</td>\n",
       "    </tr>\n",
       "    <tr>\n",
       "      <td>4</td>\n",
       "      <td>invgauss</td>\n",
       "      <td>-4007.761490</td>\n",
       "      <td>226.0</td>\n",
       "      <td>(0.01745673667969885, 8.555723145276737, 131.5...</td>\n",
       "    </tr>\n",
       "    <tr>\n",
       "      <td>10</td>\n",
       "      <td>triang</td>\n",
       "      <td>-8397.600142</td>\n",
       "      <td>7079.0</td>\n",
       "      <td>(0.5134335580241474, 9.63174489961435, 2.40218...</td>\n",
       "    </tr>\n",
       "    <tr>\n",
       "      <td>0</td>\n",
       "      <td>weibull_min</td>\n",
       "      <td>-9552.834055</td>\n",
       "      <td>8581.0</td>\n",
       "      <td>(533102816.67082655, -266555837.11416727, 2665...</td>\n",
       "    </tr>\n",
       "    <tr>\n",
       "      <td>5</td>\n",
       "      <td>uniform</td>\n",
       "      <td>-17524.687675</td>\n",
       "      <td>21510.0</td>\n",
       "      <td>(9.63191571754346, 2.4018382549794683)</td>\n",
       "    </tr>\n",
       "    <tr>\n",
       "      <td>7</td>\n",
       "      <td>expon</td>\n",
       "      <td>-24048.123619</td>\n",
       "      <td>53841.0</td>\n",
       "      <td>(9.63191571754346, 1.2243452128185233)</td>\n",
       "    </tr>\n",
       "  </tbody>\n",
       "</table>\n",
       "</div>"
      ],
      "text/plain": [
       "   Distribution  Log_likelihood  Chi_square  \\\n",
       "1          norm    -3752.198981         1.0   \n",
       "3          beta    -3751.940079         1.0   \n",
       "6         gamma    -3751.963996         1.0   \n",
       "8       lognorm    -3752.687748         2.0   \n",
       "2   weibull_max    -3865.628629        66.0   \n",
       "4      invgauss    -4007.761490       226.0   \n",
       "10       triang    -8397.600142      7079.0   \n",
       "0   weibull_min    -9552.834055      8581.0   \n",
       "5       uniform   -17524.687675     21510.0   \n",
       "7         expon   -24048.123619     53841.0   \n",
       "\n",
       "                                           Parameters  \n",
       "1            (10.856260930361984, 0.2919045002438211)  \n",
       "3   (364.87933577547363, 431.3367243552041, 3.2758...  \n",
       "6   (28532.084433159544, -38.45065752075047, 0.001...  \n",
       "8   (0.010872404014110125, -16.003623600716686, 26...  \n",
       "2   (4.492720792453061, 12.042258498181576, 1.2981...  \n",
       "4   (0.01745673667969885, 8.555723145276737, 131.5...  \n",
       "10  (0.5134335580241474, 9.63174489961435, 2.40218...  \n",
       "0   (533102816.67082655, -266555837.11416727, 2665...  \n",
       "5              (9.63191571754346, 2.4018382549794683)  \n",
       "7              (9.63191571754346, 1.2243452128185233)  "
      ]
     },
     "execution_count": 7,
     "metadata": {},
     "output_type": "execute_result"
    }
   ],
   "source": [
    "results_test = results.drop(results.index[3])\n",
    "results_test"
   ]
  },
  {
   "cell_type": "markdown",
   "metadata": {},
   "source": [
    "### Plots"
   ]
  },
  {
   "cell_type": "code",
   "execution_count": 8,
   "metadata": {},
   "outputs": [],
   "source": [
    "import seaborn as sns\n",
    "simulation.sort()"
   ]
  },
  {
   "cell_type": "code",
   "execution_count": 9,
   "metadata": {},
   "outputs": [],
   "source": [
    "params_gamma = results.iloc[2]['Parameters']\n",
    "params_beta = results.iloc[1]['Parameters']\n",
    "params_normal = results.iloc[0]['Parameters']\n",
    "params_uniform = results.iloc[9]['Parameters']\n",
    "params_lognorm = results.iloc[4]['Parameters']"
   ]
  },
  {
   "cell_type": "markdown",
   "metadata": {},
   "source": [
    "**Normal plot**"
   ]
  },
  {
   "cell_type": "code",
   "execution_count": 10,
   "metadata": {},
   "outputs": [
    {
     "data": {
      "text/plain": [
       "tuple"
      ]
     },
     "execution_count": 10,
     "metadata": {},
     "output_type": "execute_result"
    }
   ],
   "source": [
    "type(params_normal)"
   ]
  },
  {
   "cell_type": "code",
   "execution_count": 11,
   "metadata": {},
   "outputs": [],
   "source": [
    "z_alpha_2 = 0.4801"
   ]
  },
  {
   "cell_type": "code",
   "execution_count": 35,
   "metadata": {},
   "outputs": [],
   "source": [
    "mu_sample = params_normal[0]\n",
    "variance_sample = params_normal[1]**2 / 20000"
   ]
  },
  {
   "cell_type": "code",
   "execution_count": 36,
   "metadata": {},
   "outputs": [],
   "source": [
    "interval_L = mu_sample - z_alpha_2 * variance_sample\n",
    "interval_U = mu_sample + z_alpha_2 * variance_sample\n",
    "params_normal_1 = (interval_L, params_normal[1])\n",
    "params_normal_2 = (interval_U, params_normal[1])"
   ]
  },
  {
   "cell_type": "code",
   "execution_count": 15,
   "metadata": {},
   "outputs": [
    {
     "data": {
      "text/plain": [
       "(10.856258884938248, 0.2919045002438211)"
      ]
     },
     "execution_count": 15,
     "metadata": {},
     "output_type": "execute_result"
    }
   ],
   "source": [
    "params_normal_1"
   ]
  },
  {
   "cell_type": "code",
   "execution_count": 65,
   "metadata": {},
   "outputs": [
    {
     "data": {
      "text/plain": [
       "array([ 9.46871294, 12.24380892])"
      ]
     },
     "execution_count": 65,
     "metadata": {},
     "output_type": "execute_result"
    }
   ],
   "source": [
    "quantiles = best_dist.ppf([0.000001, 0.5, 0.999999], *best_params)\n",
    "quantiles_1 = np.zeros(2)\n",
    "quantiles_1[0] = quantiles[0] - z_alpha_2 * variance_sample\n",
    "quantiles_1[1] = quantiles[2] + z_alpha_2 * variance_sample\n",
    "quantiles_1"
   ]
  },
  {
   "cell_type": "code",
   "execution_count": 57,
   "metadata": {},
   "outputs": [],
   "source": [
    "quantiles_h = best_dist.ppf([0.00001, 0.5, 0.99999], *best_params)\n",
    "quantiles_h_1 = np.zeros(2)\n",
    "quantiles_h_1[0] = quantiles_h[0] - z_alpha_2 * variance_sample\n",
    "quantiles_h_1[1] = quantiles_h[2] + z_alpha_2 * variance_sample"
   ]
  },
  {
   "cell_type": "code",
   "execution_count": 64,
   "metadata": {
    "scrolled": true
   },
   "outputs": [
    {
     "data": {
      "text/plain": [
       "array([ 9.61131807, 12.10120379])"
      ]
     },
     "execution_count": 64,
     "metadata": {},
     "output_type": "execute_result"
    }
   ],
   "source": [
    "quantiles_h_1"
   ]
  },
  {
   "cell_type": "code",
   "execution_count": 78,
   "metadata": {},
   "outputs": [
    {
     "data": {
      "text/plain": [
       "10.857495285344438"
      ]
     },
     "execution_count": 78,
     "metadata": {},
     "output_type": "execute_result"
    }
   ],
   "source": [
    "limit_nom"
   ]
  },
  {
   "cell_type": "code",
   "execution_count": 79,
   "metadata": {},
   "outputs": [
    {
     "data": {
      "text/plain": [
       "9.285923059194744"
      ]
     },
     "execution_count": 79,
     "metadata": {},
     "output_type": "execute_result"
    }
   ],
   "source": [
    "limit_min"
   ]
  },
  {
   "cell_type": "code",
   "execution_count": 80,
   "metadata": {},
   "outputs": [
    {
     "data": {
      "text/plain": [
       "12.669757924403362"
      ]
     },
     "execution_count": 80,
     "metadata": {},
     "output_type": "execute_result"
    }
   ],
   "source": [
    "limit_MAX"
   ]
  },
  {
   "cell_type": "code",
   "execution_count": 82,
   "metadata": {},
   "outputs": [
    {
     "data": {
      "text/plain": [
       "0.8459587163021545"
      ]
     },
     "execution_count": 82,
     "metadata": {},
     "output_type": "execute_result"
    }
   ],
   "source": [
    "(limit_MAX - limit_min)/4"
   ]
  },
  {
   "cell_type": "code",
   "execution_count": 76,
   "metadata": {},
   "outputs": [
    {
     "data": {
      "text/plain": [
       "26.41822601815126"
      ]
     },
     "execution_count": 76,
     "metadata": {},
     "output_type": "execute_result"
    }
   ],
   "source": [
    "(1 -(quantiles_h_1[1]-quantiles_h_1[0])/(limit_MAX - limit_min))*100"
   ]
  },
  {
   "cell_type": "code",
   "execution_count": 69,
   "metadata": {},
   "outputs": [
    {
     "data": {
      "image/png": "[encoded data removed]",
      "text/plain": [
       "<Figure size 720x504 with 1 Axes>"
      ]
     },
     "metadata": {
      "needs_background": "light"
     },
     "output_type": "display_data"
    }
   ],
   "source": [
    "plt.figure(figsize=(10,7))\n",
    "norm_fit = sns.distplot(a = simulation, kde = False, norm_hist=True, axlabel='Power Output [W]')\n",
    "plt.plot(simulation, scipy.stats.norm.pdf(simulation, *params_normal))\n",
    "#plt.plot(simulation, scipy.stats.norm.pdf(simulation, *params_normal_1))\n",
    "#plt.plot(simulation, scipy.stats.norm.pdf(simulation, *params_normal_2))\n",
    "plt.axvline(x=limit_min, color='green',label=\"WCCA\")\n",
    "plt.axvline(x=limit_MAX, color='green')\n",
    "# Million\n",
    "plt.axvline(x=quantiles_1[0], color='red', label=\"Million\")\n",
    "plt.axvline(x=quantiles_1[1], color='red')\n",
    "\n",
    "# Hundred\n",
    "plt.axvline(x=quantiles_h_1[0], color='yellow', label=\"Hundred\")\n",
    "plt.axvline(x=quantiles_h_1[1], color='yellow')\n",
    "\n",
    "plt.legend()\n",
    "\n",
    "norm_fit.set_title('Normal Distribution Fit - MLE')\n",
    "norm_fit.set_ylabel('Density')\n",
    "plt.savefig('Data/Plots/Quantiles_Normal.png')"
   ]
  },
  {
   "cell_type": "markdown",
   "metadata": {},
   "source": [
    "**Gamma plot**"
   ]
  },
  {
   "cell_type": "code",
   "execution_count": 11,
   "metadata": {},
   "outputs": [
    {
     "data": {
      "image/png": "[encoded data removed]",
      "text/plain": [
       "<Figure size 432x288 with 1 Axes>"
      ]
     },
     "metadata": {
      "needs_background": "light"
     },
     "output_type": "display_data"
    }
   ],
   "source": [
    "gamma_fit = sns.distplot(a = simulation, kde = False, norm_hist=True, axlabel='Power Output [W]')\n",
    "plt.plot(simulation, scipy.stats.gamma.pdf(simulation, *params_gamma))\n",
    "gamma_fit.set_title('Gamma Distribution Fit - MLE')\n",
    "gamma_fit.set_ylabel('Density')\n",
    "plt.savefig('Data/Plots/MLE_Gamma.png')"
   ]
  },
  {
   "cell_type": "markdown",
   "metadata": {},
   "source": [
    "**Beta plot**"
   ]
  },
  {
   "cell_type": "code",
   "execution_count": 12,
   "metadata": {},
   "outputs": [
    {
     "data": {
      "image/png": "[encoded data removed]",
      "text/plain": [
       "<Figure size 432x288 with 1 Axes>"
      ]
     },
     "metadata": {
      "needs_background": "light"
     },
     "output_type": "display_data"
    }
   ],
   "source": [
    "beta_fit = sns.distplot(a = simulation, kde = False, norm_hist=True, axlabel='Power Output [W]')\n",
    "plt.plot(simulation, scipy.stats.beta.pdf(simulation, *params_beta))\n",
    "beta_fit.set_title('Beta Distribution Fit - MLE')\n",
    "beta_fit.set_ylabel('Density')\n",
    "plt.savefig('Data/Plots/MLE_Beta.png')"
   ]
  },
  {
   "cell_type": "markdown",
   "metadata": {},
   "source": [
    "**Uniform plot**"
   ]
  },
  {
   "cell_type": "code",
   "execution_count": 13,
   "metadata": {},
   "outputs": [
    {
     "data": {
      "image/png": "[encoded data removed]",
      "text/plain": [
       "<Figure size 432x288 with 1 Axes>"
      ]
     },
     "metadata": {
      "needs_background": "light"
     },
     "output_type": "display_data"
    }
   ],
   "source": [
    "uniform_fit = sns.distplot(a = simulation, kde = False, norm_hist=True, axlabel='Power Output [W]')\n",
    "plt.plot(simulation, scipy.stats.uniform.pdf(simulation, *params_uniform))\n",
    "uniform_fit.set_title('Uniform Distribution Fit - MLE')\n",
    "uniform_fit.set_ylabel('Density')\n",
    "plt.savefig('Data/Plots/MLE_Uniform.png')"
   ]
  },
  {
   "cell_type": "markdown",
   "metadata": {},
   "source": [
    "**Lognormal plot**"
   ]
  },
  {
   "cell_type": "code",
   "execution_count": 14,
   "metadata": {},
   "outputs": [
    {
     "data": {
      "image/png": "[encoded data removed]",
      "text/plain": [
       "<Figure size 432x288 with 1 Axes>"
      ]
     },
     "metadata": {
      "needs_background": "light"
     },
     "output_type": "display_data"
    }
   ],
   "source": [
    "lognorm_fit = sns.distplot(a = simulation, kde = False, norm_hist=True, axlabel='Power Output [W]')\n",
    "plt.plot(simulation, scipy.stats.lognorm.pdf(simulation, *params_lognorm))\n",
    "lognorm_fit.set_title('Lognorm Distribution Fit - MLE')\n",
    "lognorm_fit.set_ylabel('Density')\n",
    "plt.savefig('Data/Plots/MLE_Lognorm.png')"
   ]
  },
  {
   "cell_type": "markdown",
   "metadata": {},
   "source": [
    "**Model A:** Normal Distribution\n",
    "\n",
    "**Model B:** Beta Distribution"
   ]
  },
  {
   "cell_type": "markdown",
   "metadata": {},
   "source": [
    "### Non-Nested Likelihood Ratio Test\n",
    "\n",
    "Compare **Model A** to **Model B** and choose the best fit. "
   ]
  },
  {
   "cell_type": "code",
   "execution_count": 35,
   "metadata": {},
   "outputs": [],
   "source": [
    "\n",
    "n_sim = 20000 "
   ]
  },
  {
   "cell_type": "code",
   "execution_count": 16,
   "metadata": {},
   "outputs": [],
   "source": [
    "#sampling_dist = getattr(scipy.stats, dist_A)\n",
    "#dataset = sampling_dist.rvs(*param, size = n_sim)\n",
    "#scipy.stats.lognorm.rvs(*params_lognorm, size = 1000)"
   ]
  },
  {
   "cell_type": "code",
   "execution_count": 36,
   "metadata": {},
   "outputs": [
    {
     "name": "stdout",
     "output_type": "stream",
     "text": [
      "Select model A\n"
     ]
    }
   ],
   "source": [
    "from helper_functions import LRT\n",
    "\n",
    "Q, Q_array, qQi = LRT(results.iloc[:2], 1000, n_simulation)\n",
    "if Q < qQi: print('Select model A')"
   ]
  },
  {
   "cell_type": "code",
   "execution_count": 54,
   "metadata": {},
   "outputs": [
    {
     "name": "stdout",
     "output_type": "stream",
     "text": [
      "p_value = 0.647\n",
      "we fail to reject the null hypothesis\n"
     ]
    }
   ],
   "source": [
    "a = Q_array > Q\n",
    "\n",
    "\n",
    "print(f\"p_value = {p_value}\")\n",
    "print('we fail to reject the null hypothesis')"
   ]
  },
  {
   "cell_type": "code",
   "execution_count": 56,
   "metadata": {},
   "outputs": [
    {
     "ename": "NameError",
     "evalue": "name 'Q_arrray' is not defined",
     "output_type": "error",
     "traceback": [
      "\u001b[1;31m---------------------------------------------------------------------------\u001b[0m",
      "\u001b[1;31mNameError\u001b[0m                                 Traceback (most recent call last)",
      "\u001b[1;32m<ipython-input-56-748b8652fd16>\u001b[0m in \u001b[0;36m<module>\u001b[1;34m\u001b[0m\n\u001b[1;32m----> 1\u001b[1;33m \u001b[0mQ\u001b[0m\u001b[1;33m,\u001b[0m \u001b[0mQ_array\u001b[0m\u001b[1;33m,\u001b[0m \u001b[0mqQi\u001b[0m \u001b[1;33m=\u001b[0m \u001b[0mLRT\u001b[0m\u001b[1;33m(\u001b[0m\u001b[0mresults\u001b[0m\u001b[1;33m.\u001b[0m\u001b[0miloc\u001b[0m\u001b[1;33m[\u001b[0m\u001b[1;33m:\u001b[0m\u001b[1;36m2\u001b[0m\u001b[1;33m]\u001b[0m\u001b[1;33m,\u001b[0m \u001b[1;36m100\u001b[0m\u001b[1;33m,\u001b[0m \u001b[1;36m10000\u001b[0m\u001b[1;33m)\u001b[0m\u001b[1;33m\u001b[0m\u001b[1;33m\u001b[0m\u001b[0m\n\u001b[0m",
      "\u001b[1;32m<ipython-input-55-9513164a7677>\u001b[0m in \u001b[0;36mLRT\u001b[1;34m(best_options, n_datasets, n_sim)\u001b[0m\n\u001b[0;32m     28\u001b[0m \u001b[1;33m\u001b[0m\u001b[0m\n\u001b[0;32m     29\u001b[0m     \u001b[0mQuantile_Q\u001b[0m \u001b[1;33m=\u001b[0m \u001b[0mnp\u001b[0m\u001b[1;33m.\u001b[0m\u001b[0mquantile\u001b[0m\u001b[1;33m(\u001b[0m\u001b[0mQ_array\u001b[0m\u001b[1;33m,\u001b[0m \u001b[1;36m0.95\u001b[0m\u001b[1;33m)\u001b[0m\u001b[1;33m\u001b[0m\u001b[1;33m\u001b[0m\u001b[0m\n\u001b[1;32m---> 30\u001b[1;33m     \u001b[0mp_value\u001b[0m \u001b[1;33m=\u001b[0m \u001b[0mnp\u001b[0m\u001b[1;33m.\u001b[0m\u001b[0msum\u001b[0m\u001b[1;33m(\u001b[0m\u001b[0mQ_arrray\u001b[0m\u001b[1;33m>\u001b[0m\u001b[0mQ\u001b[0m\u001b[1;33m)\u001b[0m\u001b[1;33m/\u001b[0m\u001b[0mn_datasets\u001b[0m\u001b[1;33m\u001b[0m\u001b[1;33m\u001b[0m\u001b[0m\n\u001b[0m\u001b[0;32m     31\u001b[0m \u001b[1;33m\u001b[0m\u001b[0m\n\u001b[0;32m     32\u001b[0m     \u001b[1;32mreturn\u001b[0m \u001b[0mQ\u001b[0m\u001b[1;33m,\u001b[0m \u001b[0mP_value\u001b[0m\u001b[1;33m,\u001b[0m \u001b[0mQuantile_Q\u001b[0m\u001b[1;33m\u001b[0m\u001b[1;33m\u001b[0m\u001b[0m\n",
      "\u001b[1;31mNameError\u001b[0m: name 'Q_arrray' is not defined"
     ]
    }
   ],
   "source": [
    "Q, Q_array, qQi = LRT(results.iloc[:2], 100, 10000)"
   ]
  },
  {
   "cell_type": "code",
   "execution_count": 75,
   "metadata": {
    "scrolled": true
   },
   "outputs": [
    {
     "data": {
      "text/html": [
       "<div>\n",
       "<style scoped>\n",
       "    .dataframe tbody tr th:only-of-type {\n",
       "        vertical-align: middle;\n",
       "    }\n",
       "\n",
       "    .dataframe tbody tr th {\n",
       "        vertical-align: top;\n",
       "    }\n",
       "\n",
       "    .dataframe thead th {\n",
       "        text-align: right;\n",
       "    }\n",
       "</style>\n",
       "<table border=\"1\" class=\"dataframe\">\n",
       "  <thead>\n",
       "    <tr style=\"text-align: right;\">\n",
       "      <th></th>\n",
       "      <th>Distribution</th>\n",
       "      <th>Log_likelihood</th>\n",
       "      <th>Chi_square</th>\n",
       "      <th>Parameters</th>\n",
       "    </tr>\n",
       "  </thead>\n",
       "  <tbody>\n",
       "    <tr>\n",
       "      <td>1</td>\n",
       "      <td>norm</td>\n",
       "      <td>-3752.198981</td>\n",
       "      <td>1.0</td>\n",
       "      <td>(10.856260930361984, 0.2919045002438211)</td>\n",
       "    </tr>\n",
       "    <tr>\n",
       "      <td>3</td>\n",
       "      <td>beta</td>\n",
       "      <td>-3751.940079</td>\n",
       "      <td>1.0</td>\n",
       "      <td>(364.87933577547363, 431.3367243552041, 3.2758...</td>\n",
       "    </tr>\n",
       "    <tr>\n",
       "      <td>6</td>\n",
       "      <td>gamma</td>\n",
       "      <td>-3751.963996</td>\n",
       "      <td>1.0</td>\n",
       "      <td>(28532.084433159544, -38.45065752075047, 0.001...</td>\n",
       "    </tr>\n",
       "    <tr>\n",
       "      <td>8</td>\n",
       "      <td>lognorm</td>\n",
       "      <td>-3752.687748</td>\n",
       "      <td>2.0</td>\n",
       "      <td>(0.010872404014110125, -16.003623600716686, 26...</td>\n",
       "    </tr>\n",
       "  </tbody>\n",
       "</table>\n",
       "</div>"
      ],
      "text/plain": [
       "  Distribution  Log_likelihood  Chi_square  \\\n",
       "1         norm    -3752.198981         1.0   \n",
       "3         beta    -3751.940079         1.0   \n",
       "6        gamma    -3751.963996         1.0   \n",
       "8      lognorm    -3752.687748         2.0   \n",
       "\n",
       "                                          Parameters  \n",
       "1           (10.856260930361984, 0.2919045002438211)  \n",
       "3  (364.87933577547363, 431.3367243552041, 3.2758...  \n",
       "6  (28532.084433159544, -38.45065752075047, 0.001...  \n",
       "8  (0.010872404014110125, -16.003623600716686, 26...  "
      ]
     },
     "execution_count": 75,
     "metadata": {},
     "output_type": "execute_result"
    }
   ],
   "source": [
    "best_fits = results_test[:4]\n",
    "best_fits"
   ]
  },
  {
   "cell_type": "code",
   "execution_count": 102,
   "metadata": {},
   "outputs": [
    {
     "data": {
      "text/plain": [
       "'norm'"
      ]
     },
     "execution_count": 102,
     "metadata": {},
     "output_type": "execute_result"
    }
   ],
   "source": [
    "best_fits.iloc[0]['Distribution']"
   ]
  },
  {
   "cell_type": "code",
   "execution_count": 103,
   "metadata": {},
   "outputs": [
    {
     "ename": "TypeError",
     "evalue": "LRT() missing 2 required positional arguments: 'n_datasets' and 'n_sim'",
     "output_type": "error",
     "traceback": [
      "\u001b[1;31m---------------------------------------------------------------------------\u001b[0m",
      "\u001b[1;31mTypeError\u001b[0m                                 Traceback (most recent call last)",
      "\u001b[1;32m<ipython-input-103-2838c312fd90>\u001b[0m in \u001b[0;36m<module>\u001b[1;34m\u001b[0m\n\u001b[0;32m      8\u001b[0m             \u001b[0mnull\u001b[0m\u001b[1;33m.\u001b[0m\u001b[0mappend\u001b[0m\u001b[1;33m(\u001b[0m\u001b[0mbest_fits\u001b[0m\u001b[1;33m.\u001b[0m\u001b[0miloc\u001b[0m\u001b[1;33m[\u001b[0m\u001b[0mi\u001b[0m\u001b[1;33m]\u001b[0m\u001b[1;33m[\u001b[0m\u001b[1;34m'Distribution'\u001b[0m\u001b[1;33m]\u001b[0m\u001b[1;33m)\u001b[0m\u001b[1;33m\u001b[0m\u001b[1;33m\u001b[0m\u001b[0m\n\u001b[0;32m      9\u001b[0m             \u001b[0malternative\u001b[0m\u001b[1;33m.\u001b[0m\u001b[0mappend\u001b[0m\u001b[1;33m(\u001b[0m\u001b[0mbest_fits\u001b[0m\u001b[1;33m.\u001b[0m\u001b[0miloc\u001b[0m\u001b[1;33m[\u001b[0m\u001b[0mj\u001b[0m\u001b[1;33m]\u001b[0m\u001b[1;33m[\u001b[0m\u001b[1;34m'Distribution'\u001b[0m\u001b[1;33m]\u001b[0m\u001b[1;33m)\u001b[0m\u001b[1;33m\u001b[0m\u001b[1;33m\u001b[0m\u001b[0m\n\u001b[1;32m---> 10\u001b[1;33m             \u001b[0mp_values\u001b[0m\u001b[1;33m.\u001b[0m\u001b[0mappend\u001b[0m\u001b[1;33m(\u001b[0m\u001b[0mLRT\u001b[0m\u001b[1;33m(\u001b[0m\u001b[0mbest_fits\u001b[0m\u001b[1;33m.\u001b[0m\u001b[0miloc\u001b[0m\u001b[1;33m[\u001b[0m\u001b[1;33m[\u001b[0m\u001b[0mi\u001b[0m\u001b[1;33m,\u001b[0m \u001b[0mj\u001b[0m\u001b[1;33m]\u001b[0m\u001b[1;33m,\u001b[0m\u001b[1;33m:\u001b[0m\u001b[1;33m]\u001b[0m\u001b[1;33m)\u001b[0m\u001b[1;33m)\u001b[0m\u001b[1;33m\u001b[0m\u001b[1;33m\u001b[0m\u001b[0m\n\u001b[0m\u001b[0;32m     11\u001b[0m \u001b[1;33m\u001b[0m\u001b[0m\n\u001b[0;32m     12\u001b[0m \u001b[0mLRT_dataframe\u001b[0m \u001b[1;33m=\u001b[0m \u001b[0mpd\u001b[0m\u001b[1;33m.\u001b[0m\u001b[0mDataFrame\u001b[0m\u001b[1;33m(\u001b[0m\u001b[1;33m)\u001b[0m\u001b[1;33m\u001b[0m\u001b[1;33m\u001b[0m\u001b[0m\n",
      "\u001b[1;31mTypeError\u001b[0m: LRT() missing 2 required positional arguments: 'n_datasets' and 'n_sim'"
     ]
    }
   ],
   "source": [
    "# best fitted distribution information\n",
    "null = []\n",
    "alternative = []\n",
    "p_values = []\n",
    "for i in range(best_fits.shape[1]):\n",
    "    for j in range(best_fits.shape[1]):\n",
    "        if i<j:\n",
    "            null.append(best_fits.iloc[i]['Distribution'])\n",
    "            alternative.append(best_fits.iloc[j]['Distribution'])\n",
    "            p_values.append(LRT(best_fits.iloc[[i, j],:]))\n",
    "\n",
    "LRT_dataframe = pd.DataFrame()\n",
    "LRT_dataframe['Null'] = null\n",
    "LRT_dataframe['Alternative'] = alternative\n",
    "LRT_dataframe['p_values'] = p_values"
   ]
  },
  {
   "cell_type": "code",
   "execution_count": null,
   "metadata": {},
   "outputs": [],
   "source": [
    "\"\"\"\n",
    "def p_value_LRT(dist_A, dist_B, ...):\n",
    "    pass\n",
    "    \n",
    "def given_df_doit_forany_pair(dataframe, ...):\n",
    "    pass\n",
    "\"\"\""
   ]
  },
  {
   "cell_type": "code",
   "execution_count": 80,
   "metadata": {
    "scrolled": true
   },
   "outputs": [
    {
     "name": "stdout",
     "output_type": "stream",
     "text": [
      "norm\n",
      "beta\n",
      "gamma\n",
      "lognorm\n"
     ]
    }
   ],
   "source": [
    "for dist in best_fits['Distribution']:\n",
    "    print(dist)"
   ]
  },
  {
   "cell_type": "code",
   "execution_count": 73,
   "metadata": {},
   "outputs": [
    {
     "name": "stdout",
     "output_type": "stream",
     "text": [
      "norm -3752.1989807498094 (10.856260930361984, 0.2919045002438211)\n",
      "beta -3751.9400786272727 (364.87933577547363, 431.3367243552041, 3.2758077228036275, 16.54157441896509)\n",
      "gamma -3751.963996110023 (28532.084433159544, -38.45065752075047, 0.0017281219025688426)\n",
      "lognorm -3752.6877477593744 (0.010872404014110125, -16.003623600716686, 26.85801472349138)\n"
     ]
    }
   ],
   "source": [
    "for row in best_fits.itertuples():\n",
    "    dist = row[1]\n",
    "    ll = row[2]\n",
    "    pars = row[4]\n",
    "    print(dist, ll, pars)"
   ]
  },
  {
   "cell_type": "code",
   "execution_count": 96,
   "metadata": {},
   "outputs": [
    {
     "data": {
      "text/html": [
       "<div>\n",
       "<style scoped>\n",
       "    .dataframe tbody tr th:only-of-type {\n",
       "        vertical-align: middle;\n",
       "    }\n",
       "\n",
       "    .dataframe tbody tr th {\n",
       "        vertical-align: top;\n",
       "    }\n",
       "\n",
       "    .dataframe thead th {\n",
       "        text-align: right;\n",
       "    }\n",
       "</style>\n",
       "<table border=\"1\" class=\"dataframe\">\n",
       "  <thead>\n",
       "    <tr style=\"text-align: right;\">\n",
       "      <th></th>\n",
       "      <th>Distribution</th>\n",
       "      <th>Log_likelihood</th>\n",
       "      <th>Chi_square</th>\n",
       "      <th>Parameters</th>\n",
       "    </tr>\n",
       "  </thead>\n",
       "  <tbody>\n",
       "    <tr>\n",
       "      <td>1</td>\n",
       "      <td>norm</td>\n",
       "      <td>-3752.198981</td>\n",
       "      <td>1.0</td>\n",
       "      <td>(10.856260930361984, 0.2919045002438211)</td>\n",
       "    </tr>\n",
       "    <tr>\n",
       "      <td>3</td>\n",
       "      <td>beta</td>\n",
       "      <td>-3751.940079</td>\n",
       "      <td>1.0</td>\n",
       "      <td>(364.87933577547363, 431.3367243552041, 3.2758...</td>\n",
       "    </tr>\n",
       "  </tbody>\n",
       "</table>\n",
       "</div>"
      ],
      "text/plain": [
       "  Distribution  Log_likelihood  Chi_square  \\\n",
       "1         norm    -3752.198981         1.0   \n",
       "3         beta    -3751.940079         1.0   \n",
       "\n",
       "                                          Parameters  \n",
       "1           (10.856260930361984, 0.2919045002438211)  \n",
       "3  (364.87933577547363, 431.3367243552041, 3.2758...  "
      ]
     },
     "execution_count": 96,
     "metadata": {},
     "output_type": "execute_result"
    }
   ],
   "source": [
    "test = best_fits.iloc[[0,1],:]\n"
   ]
  },
  {
   "cell_type": "code",
   "execution_count": 107,
   "metadata": {},
   "outputs": [],
   "source": [
    "p1, p2 = LRT(results.iloc[:2], 100, 10000)"
   ]
  },
  {
   "cell_type": "code",
   "execution_count": 109,
   "metadata": {},
   "outputs": [
    {
     "data": {
      "text/plain": [
       "0.61"
      ]
     },
     "execution_count": 109,
     "metadata": {},
     "output_type": "execute_result"
    }
   ],
   "source": [
    "p2"
   ]
  },
  {
   "cell_type": "code",
   "execution_count": 110,
   "metadata": {},
   "outputs": [],
   "source": [
    "def LRT(best_options, n_datasets, n_sim):\n",
    "    \"\"\"\n",
    "    Docs: \n",
    "    - best_options: so far is a dataframe\n",
    "    - n_datasets: number of datasets S to simulate from the best estimate\n",
    "    - n_sim: how many observations to simulate for each dataset\n",
    "    \"\"\"\n",
    "    # Null Model\n",
    "    dist_A = getattr(scipy.stats, best_options.iloc[0]['Distribution'])\n",
    "    ll_A = best_options.iloc[0]['Log_likelihood']\n",
    "    param = best_options.iloc[0]['Parameters']\n",
    "    \n",
    "    # Alternative Model\n",
    "    dist_B = getattr(scipy.stats, best_options.iloc[1]['Distribution'])\n",
    "    ll_B = best_options.iloc[1]['Log_likelihood']\n",
    "    \n",
    "    # LRT Statistic\n",
    "    Q = 2 * (ll_B - ll_A)\n",
    "    \n",
    "    #P value counter\n",
    "    p_value_counter = 0\n",
    "    \n",
    "    for i in range(n_datasets):\n",
    "        # Generate dataset\n",
    "        dataset = dist_A.rvs(*param, size = n_sim)\n",
    "        \n",
    "        # Fit models\n",
    "        param_A_i = dist_A.fit(dataset)\n",
    "        ll_A_i = np.sum(np.log(dist_A.pdf(dataset, *param_A_i)))\n",
    "\n",
    "        param_B_i = dist_B.fit(dataset)\n",
    "        ll_B_i = np.sum(np.log(dist_B.pdf(dataset, *param_B_i)))\n",
    "        \n",
    "        # Compute Qi\n",
    "        Q_i = 2 * (ll_B_i - ll_A_i)\n",
    "        #Q_array[i] = Q_i \n",
    "        \n",
    "        if Q_i > Q:\n",
    "            p_value_counter += 1\n",
    "    \n",
    "    #Quantile_Q = np.quantile(Q_array, 0.95)\n",
    "    #p_value_1 = np.sum(Q_array>Q)/n_datasets\n",
    "    p_value = p_value_counter / n_datasets\n",
    "\n",
    "    return p_value"
   ]
  },
  {
   "cell_type": "markdown",
   "metadata": {},
   "source": [
    "### Q-Q Plot\n",
    "\n",
    "Compare **Model A** to **Model B** on a quantile-quantile plot. "
   ]
  },
  {
   "cell_type": "code",
   "execution_count": null,
   "metadata": {
    "scrolled": true
   },
   "outputs": [],
   "source": [
    "from helper_functions import qqplot\n",
    "\n",
    "qqplot(simulation, results)"
   ]
  },
  {
   "cell_type": "markdown",
   "metadata": {},
   "source": [
    "### Chosen Model Description"
   ]
  },
  {
   "cell_type": "code",
   "execution_count": 17,
   "metadata": {},
   "outputs": [],
   "source": [
    "best_name = results.iloc[0]['Distribution']\n",
    "best_params = results.iloc[0]['Parameters']\n",
    "\n",
    "best_dist = getattr(scipy.stats, best_name)"
   ]
  },
  {
   "cell_type": "markdown",
   "metadata": {},
   "source": [
    "## Plot Choosen Model Againts Data"
   ]
  },
  {
   "cell_type": "code",
   "execution_count": null,
   "metadata": {},
   "outputs": [],
   "source": [
    "import seaborn as sns"
   ]
  },
  {
   "cell_type": "markdown",
   "metadata": {},
   "source": [
    "**Simulated Data Histogram**"
   ]
  },
  {
   "cell_type": "code",
   "execution_count": null,
   "metadata": {
    "scrolled": false
   },
   "outputs": [],
   "source": [
    "sns.distplot(a = simulation, kde = False, norm_hist=True)\n",
    "sns.kdeplot(data = simulation, shade= False)"
   ]
  },
  {
   "cell_type": "markdown",
   "metadata": {},
   "source": [
    "**Chosen Distribution Density Function**"
   ]
  },
  {
   "cell_type": "code",
   "execution_count": null,
   "metadata": {},
   "outputs": [],
   "source": [
    "simulation.sort()"
   ]
  },
  {
   "cell_type": "markdown",
   "metadata": {},
   "source": [
    "**Chosen Distribution on top of Simulated Data Histogram**"
   ]
  },
  {
   "cell_type": "code",
   "execution_count": null,
   "metadata": {
    "scrolled": false
   },
   "outputs": [],
   "source": [
    "sns.distplot(a = simulation, kde = False, norm_hist=True)\n",
    "plt.plot(simulation, best_dist.pdf(simulation, *best_params))"
   ]
  },
  {
   "cell_type": "code",
   "execution_count": null,
   "metadata": {},
   "outputs": [],
   "source": [
    "beta_name = results.iloc[1]['Distribution']\n",
    "beta_params = results.iloc[1]['Parameters']\n",
    "\n",
    "beta_dist = getattr(scipy.stats, beta_name)\n",
    "\n",
    "sns.distplot(a = simulation, kde = False, norm_hist=True)\n",
    "plt.plot(simulation, beta_dist.pdf(simulation, *beta_params))"
   ]
  },
  {
   "cell_type": "markdown",
   "metadata": {},
   "source": [
    "## Validation Methods"
   ]
  },
  {
   "cell_type": "markdown",
   "metadata": {},
   "source": [
    "### Kolmogorov-Smirnoff 2 Sample Test"
   ]
  },
  {
   "cell_type": "code",
   "execution_count": null,
   "metadata": {},
   "outputs": [],
   "source": [
    "from scipy.stats import ks_2samp"
   ]
  },
  {
   "cell_type": "code",
   "execution_count": null,
   "metadata": {
    "scrolled": true
   },
   "outputs": [],
   "source": [
    "data2 = best_dist.rvs(*best_params, size = 2000)\n",
    "statistic, pvalue = ks_2samp(data,data2)\n",
    "print(f\"The Statistic value is: {statistic} \\nThe p_value is: {pvalue}\")"
   ]
  },
  {
   "cell_type": "code",
   "execution_count": null,
   "metadata": {},
   "outputs": [],
   "source": [
    "n1 = len(data1)\n",
    "n2 = len(data2)\n",
    "alpha = 0.05\n",
    "c_alpha = 1.36 # https://sparky.rice.edu//astr360/kstest.pdf\n",
    "critical_value = c_alpha * ((n1 + n2)/(n1*n2))**0.5 \n",
    "critical_value"
   ]
  },
  {
   "cell_type": "code",
   "execution_count": null,
   "metadata": {},
   "outputs": [],
   "source": [
    "if statistic > critical_value:\n",
    "    print('The two samples come from different distributions')\n",
    "else:\n",
    "    print('The two samples come from same distributions')"
   ]
  },
  {
   "cell_type": "markdown",
   "metadata": {},
   "source": [
    "## Work Within Limits"
   ]
  },
  {
   "cell_type": "markdown",
   "metadata": {},
   "source": [
    "### Quantiles"
   ]
  },
  {
   "cell_type": "code",
   "execution_count": 20,
   "metadata": {},
   "outputs": [
    {
     "data": {
      "text/plain": [
       "9.468714983048205"
      ]
     },
     "execution_count": 20,
     "metadata": {},
     "output_type": "execute_result"
    }
   ],
   "source": [
    "quantiles = best_dist.ppf([0.000001, 0.5, 0.999999], *best_params)\n",
    "quantiles[0] = quantiles[0] - "
   ]
  },
  {
   "cell_type": "markdown",
   "metadata": {},
   "source": [
    "**Improvement**"
   ]
  },
  {
   "cell_type": "code",
   "execution_count": 77,
   "metadata": {},
   "outputs": [
    {
     "name": "stdout",
     "output_type": "stream",
     "text": [
      "min: 9.285923059194744\n",
      "Max: 12.669757924403362\n",
      "\n",
      "10.951637399805493% narrower\n"
     ]
    }
   ],
   "source": [
    "limit_min = model.P_in()[0]\n",
    "limit_MAX = model.P_in()[2]\n",
    "limit_nom = model.P_in()[1]\n",
    "print(f'min: {limit_min}\\nMax: {limit_MAX}\\n')\n",
    "(limit_MAX-limit_min)/limit_MAX\n",
    "percent = ((quantiles[2]-quantiles[0])-(quantiles[2]-quantiles[1]))/limit_MAX*100\n",
    "\n",
    "print(f'{percent}% narrower')"
   ]
  },
  {
   "cell_type": "markdown",
   "metadata": {},
   "source": [
    "### Cp"
   ]
  },
  {
   "cell_type": "code",
   "execution_count": 22,
   "metadata": {},
   "outputs": [],
   "source": [
    "# Tolerances of electronic components\n",
    "# Used to initialize the class\n",
    "from PSU_class import PSU\n",
    "\n",
    "Vout = np.array([3.2, 3.3, 3.4])\n",
    "LS_Ron = np.array([6.3, 8.3, 11])*1e-3\n",
    "Iout = np.array([2.64, 3.03, 3.45])\n",
    "Vin = np.array([13.3, 13.35, 13.37])\n",
    "Fsw = np.array([430, 455, 489])*1e3\n",
    "Vbody_diode = np.array([0.65, 0.8, 1.2])\n",
    "L = np.array([5.4, 4.5, 3.6])*1e-6\n",
    "DCR = np.array([12.61, 19, 27.23])*1e-3\n",
    "P_IC = np.array([83.93, 88.81, 93.69])*1e-3\n",
    "\n",
    "model = PSU(Vout, LS_Ron, Iout, Vin, Fsw, Vbody_diode, L, DCR, P_IC)"
   ]
  },
  {
   "cell_type": "code",
   "execution_count": null,
   "metadata": {},
   "outputs": [],
   "source": [
    "# This value depends on the best distribution\n",
    "sigma = best_params[1]"
   ]
  },
  {
   "cell_type": "code",
   "execution_count": null,
   "metadata": {
    "scrolled": true
   },
   "outputs": [],
   "source": [
    "limit_min = model.P_in()[0]\n",
    "limit_MAX = model.P_in()[2] \n",
    "Cp = (limit_MAX - limit_min)/(6 * sigma)\n",
    "Cp"
   ]
  }
 ],
 "metadata": {
  "kernelspec": {
   "display_name": "Python 3",
   "language": "python",
   "name": "python3"
  },
  "language_info": {
   "codemirror_mode": {
    "name": "ipython",
    "version": 3
   },
   "file_extension": ".py",
   "mimetype": "text/x-python",
   "name": "python",
   "nbconvert_exporter": "python",
   "pygments_lexer": "ipython3",
   "version": "3.7.4"
  }
 },
 "nbformat": 4,
 "nbformat_minor": 4
}
