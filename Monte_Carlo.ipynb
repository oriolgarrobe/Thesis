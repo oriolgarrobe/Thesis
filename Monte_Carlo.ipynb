{
 "cells": [
  {
   "cell_type": "code",
   "execution_count": 1,
   "metadata": {},
   "outputs": [],
   "source": [
    "import numpy as np\n",
    "import math\n",
    "import random\n",
    "from matplotlib import pyplot as plt\n",
    "import time\n",
    "import scipy.stats\n",
    "import pandas as pd"
   ]
  },
  {
   "cell_type": "code",
   "execution_count": 2,
   "metadata": {},
   "outputs": [],
   "source": [
    "Vout = np.array([3.2, 3.3, 3.4])\n",
    "LS_Ron = np.array([6.3, 8.3, 11])*1e-3\n",
    "Iout = np.array([2.64, 3.03, 3.45])\n",
    "Vin = np.array([13.3, 13.35, 13.37])\n",
    "#HS_Tsw = 5.17*1e-9\n",
    "Fsw = np.array([430, 455, 489])*1e3\n",
    "Vbody_diode = np.array([0.65, 0.8, 1.2])\n",
    "#LS_QRR = 120*1e-9\n",
    "#DT = 20*1e-9\n",
    "L = np.array([5.4, 4.5, 3.6])*1e-6\n",
    "DCR = np.array([12.61, 19, 27.23])*1e-3\n",
    "#ESR_Cin = 4.23*1e-3\n",
    "P_IC = np.array([83.93, 88.81, 93.69])*1e-3"
   ]
  },
  {
   "cell_type": "code",
   "execution_count": 3,
   "metadata": {
    "scrolled": true
   },
   "outputs": [
    {
     "data": {
      "text/plain": [
       "array([ 9.28592306, 10.85749529, 12.66975792])"
      ]
     },
     "execution_count": 3,
     "metadata": {},
     "output_type": "execute_result"
    }
   ],
   "source": [
    "from PSU_class import PSU\n",
    "\n",
    "model = PSU(Vout, LS_Ron, Iout, Vin, Fsw, Vbody_diode, L, DCR, P_IC)\n",
    "model.P_in()"
   ]
  },
  {
   "cell_type": "code",
   "execution_count": 4,
   "metadata": {},
   "outputs": [
    {
     "data": {
      "text/plain": [
       "array([0.6981897 , 0.81329553, 0.94762587])"
      ]
     },
     "execution_count": 4,
     "metadata": {},
     "output_type": "execute_result"
    }
   ],
   "source": [
    "model.I_in()"
   ]
  },
  {
   "cell_type": "code",
   "execution_count": 5,
   "metadata": {},
   "outputs": [],
   "source": [
    "def randomize(array, dist=\"Nominal\"):\n",
    "    \"\"\"\n",
    "    This is pipes\n",
    "    \"\"\"\n",
    "    if dist == \"Uni\":\n",
    "        return random.uniform(array[0], array[2])\n",
    "    elif dist == \"Gauss\":\n",
    "        return random.gauss(array[1], (array[2]-array[1])/3)\n",
    "    else:\n",
    "        return array[1]\n",
    "    "
   ]
  },
  {
   "cell_type": "code",
   "execution_count": 6,
   "metadata": {},
   "outputs": [],
   "source": [
    "def simulation(n_points, base_model, base_class, dist):#, sens_var, sens_dist):\n",
    "    \"\"\"\n",
    "    Function that simulates observations for bla bla. \n",
    "    Input:\n",
    "    - n_points : number of points simulated\n",
    "    - dist_components: distributon assumed for the components\n",
    "    \"\"\"\n",
    "    y = np.zeros(n_points)\n",
    "    for i in range(n_points):\n",
    "        \n",
    "        # Randomize numbers\n",
    "        Vout_r = randomize(base_model.Vout, dist)\n",
    "        LS_Ron_r = randomize(base_model.LS_Ron, dist)\n",
    "        Iout_r = randomize(base_model.Iout, dist)\n",
    "        Vin_r = randomize(base_model.Vin, dist)\n",
    "        Fsw_r = randomize(base_model.Fsw, dist)\n",
    "        Vbody_diode_r = randomize(base_model.Vbody_diode, dist)\n",
    "        L_r = randomize(base_model.L, dist)\n",
    "        DCR_r = randomize(base_model.DCR, dist)\n",
    "        P_IC_r = randomize(base_model.P_IC, dist)\n",
    "        \n",
    "        #Sensible Analysis\n",
    "        # modify one value to plug into the class\n",
    "        # \"sens_var\" = randomize(base_model.\"sens_var\", sens_dist)\n",
    "\n",
    "        sim_PSU = base_class(Vout_r, LS_Ron_r, Iout_r, Vin_r, Fsw_r, Vbody_diode_r, L_r, DCR_r, P_IC_r)\n",
    "        \n",
    "        y[i] = sim_PSU.P_in()\n",
    "    return y"
   ]
  },
  {
   "cell_type": "code",
   "execution_count": 7,
   "metadata": {},
   "outputs": [
    {
     "data": {
      "text/plain": [
       "array([10.73604217, 11.50180347, 10.3121254 , ..., 10.56678992,\n",
       "       10.14908522, 10.82057338])"
      ]
     },
     "execution_count": 7,
     "metadata": {},
     "output_type": "execute_result"
    }
   ],
   "source": [
    "test_array = simulation(100000, model, PSU, \"Gauss\")\n",
    "test_array"
   ]
  },
  {
   "cell_type": "code",
   "execution_count": 8,
   "metadata": {
    "scrolled": true
   },
   "outputs": [
    {
     "data": {
      "image/png": "[encoded data removed]",
      "text/plain": [
       "<Figure size 432x288 with 1 Axes>"
      ]
     },
     "metadata": {
      "needs_background": "light"
     },
     "output_type": "display_data"
    }
   ],
   "source": [
    "plt.hist(test_array, bins = 'auto')\n",
    "plt.show()"
   ]
  },
  {
   "cell_type": "markdown",
   "metadata": {},
   "source": [
    "### Chi-Square"
   ]
  },
  {
   "cell_type": "code",
   "execution_count": 9,
   "metadata": {},
   "outputs": [],
   "source": [
    "from sklearn.preprocessing import StandardScaler\n",
    "\n",
    "def standarise(y,pct,pct_lower):\n",
    "    sc = StandardScaler() \n",
    "    y.sort()\n",
    "    len_y = len(y)\n",
    "    y = y[int(pct_lower * len_y):int(len_y * pct)]\n",
    "    len_y = len(y)\n",
    "    yy=([[x] for x in y])\n",
    "    sc.fit(yy)\n",
    "    y_std =sc.transform(yy)\n",
    "    y_std = y_std.flatten()\n",
    "    return y_std,len_y,y"
   ]
  },
  {
   "cell_type": "code",
   "execution_count": 10,
   "metadata": {},
   "outputs": [],
   "source": [
    "# github.com/samread81/Distribution-Fitting-Used_Car_Dataset/blob/master/Workbook.ipynb\n",
    "def fit_distribution(data_raw, distribution):\n",
    "    data = normalize_data(data_raw)\n",
    "    dist = getattr(scipy.stats, distribution)\n",
    "    param = dist.fit(data)\n",
    "    return dist, param\n",
    "\n",
    "def compute_chi_square(data):\n",
    "    #size = len(data)\n",
    "    #data = normalize_data(data_raw)\n",
    "    y,size,_ = standarise(data, 0.99, 0.01)\n",
    "    dist_names = ['weibull_min', 'norm', 'weibull_max', 'beta', 'invgauss',\n",
    "                  'uniform', 'gamma', 'expon', 'lognorm', 'pearson3', 'triang']\n",
    "    \n",
    "    chi_square_statistics = []\n",
    "    \n",
    "    # Bins\n",
    "    percentile_bins = np.linspace(0,100, 11)\n",
    "    percentile_cutoffs = np.percentile(data, percentile_bins)\n",
    "    obs_frequency, _ = np.histogram(test_array, bins=percentile_cutoffs)\n",
    "    cum_obs_frequency = np.cumsum(obs_frequency)\n",
    "    \n",
    "    # Check candidate distributions\n",
    "    for distribution in dist_names:\n",
    "        # Set up candidate distribution\n",
    "        \n",
    "        dist = getattr(scipy.stats, distribution)\n",
    "        param = dist.fit(data)\n",
    "        print('Distribution: ' + distribution + ' || Parameters: ' + str(param) + '\\n')\n",
    "        \n",
    "        # CDF\n",
    "        cdf_fit = dist.cdf(percentile_cutoffs, *param)\n",
    "        expected_frequency = []\n",
    "        for bin in range(len(percentile_bins)-1):\n",
    "            expected_cdf_area = cdf_fit[bin+1] - cdf_fit[bin]\n",
    "            expected_frequency.append(expected_cdf_area)\n",
    "        \n",
    "        # Chi-Square\n",
    "        expected_frequency = np.array(expected_frequency) * size\n",
    "        cum_expected_frequency = np.cumsum(expected_frequency)\n",
    "        ss = round(sum (((cum_expected_frequency - cum_obs_frequency) ** 2) / cum_obs_frequency), 0)\n",
    "        chi_square_statistics.append(ss)\n",
    "    \n",
    "    # Sort\n",
    "    results = pd.DataFrame()\n",
    "    results['Distribution'] = dist_names\n",
    "    results['Chi_square'] = chi_square_statistics\n",
    "    results.sort_values(['Chi_square'], inplace=True)\n",
    "    \n",
    "    print('\\nDistributions listed by Goodness of Fit:')\n",
    "    print('..........................................')\n",
    "    print(results)   \n",
    "    "
   ]
  },
  {
   "cell_type": "code",
   "execution_count": 11,
   "metadata": {
    "scrolled": false
   },
   "outputs": [
    {
     "name": "stdout",
     "output_type": "stream",
     "text": [
      "Distribution: weibull_min || Parameters: (2.474215874819818, 9.015989769827993, 2.1661172023384747)\n",
      "\n",
      "Distribution: norm || Parameters: (10.934266562901234, 0.8438076813450315)\n",
      "\n",
      "Distribution: weibull_max || Parameters: (2.502034345244944, 12.87241785773687, 2.187197338134933)\n",
      "\n",
      "Distribution: beta || Parameters: (1.844175317906159, 1.9726716839353917, 9.182959270021083, 3.621782815337772)\n",
      "\n",
      "Distribution: invgauss || Parameters: (0.028434820500947908, 5.813546021473904, 179.91820064895353)\n",
      "\n",
      "Distribution: uniform || Parameters: (9.183124842257595, 3.621336244344654)\n",
      "\n",
      "Distribution: gamma || Parameters: (4335.553842709127, -44.613585504379756, 0.012812102487506333)\n",
      "\n",
      "Distribution: expon || Parameters: (9.183124842257595, 1.7511417206436395)\n",
      "\n",
      "Distribution: lognorm || Parameters: (0.029438901278688666, -17.728313940618662, 28.650252393027728)\n",
      "\n",
      "Distribution: pearson3 || Parameters: (0.15567826741211221, 10.934269151367369, 0.8452050564465743)\n",
      "\n",
      "Distribution: triang || Parameters: (0.4128089740668035, 9.125343010745379, 3.7675026286141584)\n",
      "\n",
      "\n",
      "Distributions listed by Goodness of Fit:\n",
      "..........................................\n",
      "   Distribution  Chi_square\n",
      "3          beta       860.0\n",
      "0   weibull_min      3232.0\n",
      "10       triang      3756.0\n",
      "4      invgauss      3993.0\n",
      "9      pearson3      5613.0\n",
      "8       lognorm      6077.0\n",
      "6         gamma      6462.0\n",
      "1          norm      6703.0\n",
      "2   weibull_max      8628.0\n",
      "5       uniform      9205.0\n",
      "7         expon     77589.0\n"
     ]
    }
   ],
   "source": [
    "compute_chi_square(test_array)"
   ]
  },
  {
   "cell_type": "code",
   "execution_count": 14,
   "metadata": {},
   "outputs": [],
   "source": [
    "import seaborn as sns"
   ]
  },
  {
   "cell_type": "code",
   "execution_count": 15,
   "metadata": {},
   "outputs": [],
   "source": [
    "a = scipy.stats.beta.pdf(test_array,1.845363833710495, 1.9930181654900756, 9.193002210521788, 3.6222049153761584)"
   ]
  },
  {
   "cell_type": "code",
   "execution_count": 16,
   "metadata": {
    "scrolled": false
   },
   "outputs": [
    {
     "data": {
      "text/plain": [
       "<matplotlib.axes._subplots.AxesSubplot at 0x22343ab9688>"
      ]
     },
     "execution_count": 16,
     "metadata": {},
     "output_type": "execute_result"
    },
    {
     "data": {
      "image/png": "[encoded data removed]",
      "text/plain": [
       "<Figure size 432x288 with 1 Axes>"
      ]
     },
     "metadata": {
      "needs_background": "light"
     },
     "output_type": "display_data"
    }
   ],
   "source": [
    "sns.distplot(a = test_array, kde = False, norm_hist=True)\n",
    "sns.kdeplot(data = test_array, shade= False)"
   ]
  },
  {
   "cell_type": "code",
   "execution_count": 17,
   "metadata": {},
   "outputs": [
    {
     "data": {
      "text/plain": [
       "[<matplotlib.lines.Line2D at 0x2234779ad48>]"
      ]
     },
     "execution_count": 17,
     "metadata": {},
     "output_type": "execute_result"
    },
    {
     "data": {
      "image/png": "[encoded data removed]",
      "text/plain": [
       "<Figure size 432x288 with 1 Axes>"
      ]
     },
     "metadata": {
      "needs_background": "light"
     },
     "output_type": "display_data"
    }
   ],
   "source": [
    "sns.distplot(a = test_array, kde = False, norm_hist=True)\n",
    "plt.plot(test_array, scipy.stats.beta.pdf(test_array,1.845363833710495, 1.9930181654900756, 9.193002210521788, 3.6222049153761584))"
   ]
  },
  {
   "cell_type": "markdown",
   "metadata": {},
   "source": [
    "### Q-Q Plot"
   ]
  },
  {
   "cell_type": "code",
   "execution_count": 22,
   "metadata": {
    "scrolled": true
   },
   "outputs": [
    {
     "data": {
      "image/png": "[encoded data removed]",
      "text/plain": [
       "<Figure size 576x576 with 1 Axes>"
      ]
     },
     "metadata": {
      "needs_background": "light"
     },
     "output_type": "display_data"
    }
   ],
   "source": [
    "y_std,_,_ = standarise(test_array, 0.99, 0.01)\n",
    "\n",
    "data_points = scipy.stats.beta.rvs(1.845363833710495, 1.9930181654900756, 9.193002210521788, 3.6222049153761584, size=2000)   \n",
    "data_points2 = scipy.stats.weibull_min.rvs(2.502664460995821, 9.006142851433948, 2.180353831209773,size = 2000) \n",
    "\n",
    "f, ax = plt.subplots(figsize=(8,8))\n",
    "ax.plot([-2, 2], [9, 13], ls=\"--\", c=\".3\")\n",
    "\n",
    "percentile_bins = np.linspace(0,100,51)\n",
    "percentile_cutoffs1 = np.percentile(y_std, percentile_bins)\n",
    "percentile_cutoffs_expon= np.percentile(data_points, percentile_bins)\n",
    "\n",
    "\n",
    "percentile_cutoffs_invgauss = np.percentile(data_points2, percentile_bins)\n",
    "\n",
    "\n",
    "ax.scatter(percentile_cutoffs1,percentile_cutoffs_invgauss,c='orange',label = 'Weibull Min distribution',s = 40)\n",
    "ax.scatter(percentile_cutoffs1,percentile_cutoffs_expon,c='blue',label = 'Exponential Distribution',s = 40)\n",
    "\n",
    "\n",
    "ax.set_xlabel('Theoretical cumulative distribution')\n",
    "ax.set_ylabel('Observed cumulative distribution')\n",
    "ax.legend()\n",
    "plt.show()"
   ]
  },
  {
   "cell_type": "markdown",
   "metadata": {},
   "source": [
    "### Kolmogorov-Smirnoff 2 Sample Test"
   ]
  },
  {
   "cell_type": "code",
   "execution_count": 35,
   "metadata": {},
   "outputs": [],
   "source": [
    "from scipy.stats import ks_2samp"
   ]
  },
  {
   "cell_type": "code",
   "execution_count": 37,
   "metadata": {
    "scrolled": true
   },
   "outputs": [
    {
     "name": "stdout",
     "output_type": "stream",
     "text": [
      "Ks_2sampResult(statistic=0.034, pvalue=0.1979604458696868)\n"
     ]
    }
   ],
   "source": [
    "data1 = np.random.choice(a = test_array, size = 2000)\n",
    "data2 = data_points\n",
    "test = ks_2samp(data1,data2)\n",
    "print(test)"
   ]
  },
  {
   "cell_type": "code",
   "execution_count": 47,
   "metadata": {},
   "outputs": [],
   "source": [
    "test_statistic = 0.034"
   ]
  },
  {
   "cell_type": "code",
   "execution_count": 49,
   "metadata": {},
   "outputs": [
    {
     "data": {
      "text/plain": [
       "0.35115049005613913"
      ]
     },
     "execution_count": 49,
     "metadata": {},
     "output_type": "execute_result"
    }
   ],
   "source": [
    "n1 = 30\n",
    "n2 = 30\n",
    "alpha = 0.05\n",
    "c_alpha = 1.36 # Make a dict mapping c values to alpha\n",
    "critical_value = c_alpha * ((n1 + n2)/(n1*n2))**0.5 \n",
    "critical_value"
   ]
  },
  {
   "cell_type": "code",
   "execution_count": 52,
   "metadata": {},
   "outputs": [
    {
     "name": "stdout",
     "output_type": "stream",
     "text": [
      "The two samples come from same distributions\n"
     ]
    }
   ],
   "source": [
    "if test_statistic > critical_value:\n",
    "    print('The two samples come from different distributions')\n",
    "else:\n",
    "    print('The two samples come from same distributions')"
   ]
  }
 ],
 "metadata": {
  "kernelspec": {
   "display_name": "Python 3",
   "language": "python",
   "name": "python3"
  },
  "language_info": {
   "codemirror_mode": {
    "name": "ipython",
    "version": 3
   },
   "file_extension": ".py",
   "mimetype": "text/x-python",
   "name": "python",
   "nbconvert_exporter": "python",
   "pygments_lexer": "ipython3",
   "version": "3.7.4"
  }
 },
 "nbformat": 4,
 "nbformat_minor": 4
}
