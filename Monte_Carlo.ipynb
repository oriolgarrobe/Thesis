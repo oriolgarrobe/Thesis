{
 "cells": [
  {
   "cell_type": "code",
   "execution_count": 1,
   "metadata": {},
   "outputs": [],
   "source": [
    "import numpy as np\n",
    "import math\n",
    "import random\n",
    "from matplotlib import pyplot as plt\n",
    "import time\n",
    "import scipy.stats\n",
    "import pandas as pd"
   ]
  },
  {
   "cell_type": "code",
   "execution_count": 2,
   "metadata": {},
   "outputs": [],
   "source": [
    "Vout = np.array([3.2, 3.3, 3.4])\n",
    "LS_Ron = np.array([6.3, 8.3, 11])*1e-3\n",
    "Iout = np.array([2.64, 3.03, 3.45])\n",
    "Vin = np.array([13.3, 13.35, 13.37])\n",
    "#HS_Tsw = 5.17*1e-9\n",
    "Fsw = np.array([430, 455, 489])*1e3\n",
    "Vbody_diode = np.array([0.65, 0.8, 1.2])\n",
    "#LS_QRR = 120*1e-9\n",
    "#DT = 20*1e-9\n",
    "L = np.array([5.4, 4.5, 3.6])*1e-6\n",
    "DCR = np.array([12.61, 19, 27.23])*1e-3\n",
    "#ESR_Cin = 4.23*1e-3\n",
    "P_IC = np.array([83.93, 88.81, 93.69])*1e-3"
   ]
  },
  {
   "cell_type": "code",
   "execution_count": 3,
   "metadata": {
    "scrolled": true
   },
   "outputs": [
    {
     "data": {
      "text/plain": [
       "array([ 9.28592306, 10.85749529, 12.66975792])"
      ]
     },
     "execution_count": 3,
     "metadata": {},
     "output_type": "execute_result"
    }
   ],
   "source": [
    "from PSU_class import PSU\n",
    "\n",
    "model = PSU(Vout, LS_Ron, Iout, Vin, Fsw, Vbody_diode, L, DCR, P_IC)\n",
    "model.P_in()"
   ]
  },
  {
   "cell_type": "code",
   "execution_count": 4,
   "metadata": {
    "scrolled": true
   },
   "outputs": [
    {
     "data": {
      "text/plain": [
       "array([0.6981897 , 0.81329553, 0.94762587])"
      ]
     },
     "execution_count": 4,
     "metadata": {},
     "output_type": "execute_result"
    }
   ],
   "source": [
    "model.I_in()"
   ]
  },
  {
   "cell_type": "code",
   "execution_count": 5,
   "metadata": {},
   "outputs": [
    {
     "data": {
      "text/plain": [
       "(3,)"
      ]
     },
     "execution_count": 5,
     "metadata": {},
     "output_type": "execute_result"
    }
   ],
   "source": [
    "a = model.I_in()\n",
    "a.shape"
   ]
  },
  {
   "cell_type": "code",
   "execution_count": 6,
   "metadata": {},
   "outputs": [],
   "source": [
    "def randomize(tolerance, dist=\"Nominal\", cpk = 1.67):\n",
    "    \"\"\"\n",
    "    Function that returns a value within specified margins given component properties.\n",
    "    Input:\n",
    "       - Tolerance: Numpy Array. Properties of the electronic component. Array with shape = (3,).\n",
    "       - dist: String. Statistical distribution from which to sample.\n",
    "         * Uni: samples a value from a uniform distribution.\n",
    "         * Gauss: samples a value from a Gaussian distribution.\n",
    "         * Nominal: returns the nominal value.\n",
    "       - cpk: Float. Process capability required for the component.\n",
    "    Output:\n",
    "       - Float. Sampled from distribution.\n",
    "    \"\"\"\n",
    "    if dist == \"Uni\":\n",
    "        return random.uniform(tolerance[0], tolerance[2])\n",
    "    elif dist == \"Gauss\":\n",
    "        mu = tolerance[1]\n",
    "        sigma = (tolerance[2]-tolerance[0])/(6 * cpk)\n",
    "        return random.gauss(mu, sigma)\n",
    "    else:\n",
    "        return tolerance[1]\n",
    "    "
   ]
  },
  {
   "cell_type": "code",
   "execution_count": 7,
   "metadata": {},
   "outputs": [],
   "source": [
    "def simulation(n_points, base_model, base_class, dist):#, sens_var, sens_dist):\n",
    "    \"\"\"\n",
    "    Function that simulates observations for bla bla. \n",
    "    Input:\n",
    "    - n_points : number of points simulated\n",
    "    - dist_components: distributon assumed for the components\n",
    "    \"\"\"\n",
    "    y = np.zeros(n_points)\n",
    "    for i in range(n_points):\n",
    "        \n",
    "        # Randomize numbers\n",
    "        Vout_r = randomize(base_model.Vout, dist)\n",
    "        LS_Ron_r = randomize(base_model.LS_Ron, dist)\n",
    "        Iout_r = randomize(base_model.Iout, dist)\n",
    "        Vin_r = randomize(base_model.Vin, dist)\n",
    "        Fsw_r = randomize(base_model.Fsw, dist)\n",
    "        Vbody_diode_r = randomize(base_model.Vbody_diode, dist)\n",
    "        L_r = randomize(base_model.L, dist)\n",
    "        DCR_r = randomize(base_model.DCR, dist)\n",
    "        P_IC_r = randomize(base_model.P_IC, dist)\n",
    "        \n",
    "        #Sensible Analysis\n",
    "        # modify one value to plug into the class\n",
    "        # \"sens_var\" = randomize(base_model.\"sens_var\", sens_dist)\n",
    "\n",
    "        sim_PSU = base_class(Vout_r, LS_Ron_r, Iout_r, Vin_r, Fsw_r, Vbody_diode_r, L_r, DCR_r, P_IC_r)\n",
    "        \n",
    "        y[i] = sim_PSU.P_in()\n",
    "    return y"
   ]
  },
  {
   "cell_type": "code",
   "execution_count": 8,
   "metadata": {},
   "outputs": [
    {
     "data": {
      "text/plain": [
       "array([12.19105396, 10.3334673 ,  9.52194249, ..., 10.66324132,\n",
       "       10.63641579, 11.30976098])"
      ]
     },
     "execution_count": 8,
     "metadata": {},
     "output_type": "execute_result"
    }
   ],
   "source": [
    "test_array = simulation(100000, model, PSU, \"Uni\")\n",
    "test_array"
   ]
  },
  {
   "cell_type": "code",
   "execution_count": 9,
   "metadata": {
    "scrolled": true
   },
   "outputs": [
    {
     "data": {
      "image/png": "[encoded data removed]",
      "text/plain": [
       "<Figure size 432x288 with 1 Axes>"
      ]
     },
     "metadata": {
      "needs_background": "light"
     },
     "output_type": "display_data"
    }
   ],
   "source": [
    "plt.hist(test_array, bins = 'auto')\n",
    "plt.show()"
   ]
  },
  {
   "cell_type": "markdown",
   "metadata": {},
   "source": [
    "### Chi-Square"
   ]
  },
  {
   "cell_type": "code",
   "execution_count": 10,
   "metadata": {},
   "outputs": [],
   "source": [
    "from sklearn.preprocessing import StandardScaler\n",
    "\n",
    "def standarise(y,pct,pct_lower):\n",
    "    sc = StandardScaler() \n",
    "    y.sort()\n",
    "    len_y = len(y)\n",
    "    y = y[int(pct_lower * len_y):int(len_y * pct)]\n",
    "    len_y = len(y)\n",
    "    yy=([[x] for x in y])\n",
    "    sc.fit(yy)\n",
    "    y_std =sc.transform(yy)\n",
    "    y_std = y_std.flatten()\n",
    "    return y_std,len_y,y"
   ]
  },
  {
   "cell_type": "code",
   "execution_count": 25,
   "metadata": {},
   "outputs": [
    {
     "ename": "SyntaxError",
     "evalue": "invalid syntax (<ipython-input-25-5c876550dba3>, line 29)",
     "output_type": "error",
     "traceback": [
      "\u001b[1;36m  File \u001b[1;32m\"<ipython-input-25-5c876550dba3>\"\u001b[1;36m, line \u001b[1;32m29\u001b[0m\n\u001b[1;33m    log_likelihood = np.log(np.product(dist.pdf(data, *param))) MAKE THIS WORK!\u001b[0m\n\u001b[1;37m                                                                ^\u001b[0m\n\u001b[1;31mSyntaxError\u001b[0m\u001b[1;31m:\u001b[0m invalid syntax\n"
     ]
    }
   ],
   "source": [
    "# github.com/samread81/Distribution-Fitting-Used_Car_Dataset/blob/master/Workbook.ipynb\n",
    "def fit_distribution(data_raw, distribution):\n",
    "    data = normalize_data(data_raw)\n",
    "    dist = getattr(scipy.stats, distribution)\n",
    "    param = dist.fit(data)\n",
    "    return dist, param\n",
    "\n",
    "def compute_chi_square(data):\n",
    "    #size = len(data)\n",
    "    #data = normalize_data(data_raw)\n",
    "    y,size,_ = standarise(data, 0.99, 0.01)\n",
    "    dist_names = ['weibull_min', 'norm', 'weibull_max', 'beta', 'invgauss',\n",
    "                  'uniform', 'gamma', 'expon', 'lognorm', 'pearson3', 'triang']\n",
    "    \n",
    "    chi_square_statistics = []\n",
    "    \n",
    "    # Bins\n",
    "    percentile_bins = np.linspace(0,100, 11)\n",
    "    percentile_cutoffs = np.percentile(data, percentile_bins)\n",
    "    obs_frequency, _ = np.histogram(test_array, bins=percentile_cutoffs)\n",
    "    cum_obs_frequency = np.cumsum(obs_frequency)\n",
    "    \n",
    "    # Check candidate distributions\n",
    "    for distribution in dist_names:\n",
    "        # Set up candidate distribution\n",
    "        \n",
    "        dist = getattr(scipy.stats, distribution)\n",
    "        param = dist.fit(data)\n",
    "        ##log_likelihood = np.log(np.product(dist.pdf(data, *param))) MAKE THIS WORK! \n",
    "        print('Distribution: ' + distribution + ' || Parameters: ' + str(param) + '|| Log-likelihood: ' + \n",
    "              log_likelihood + '\\n')\n",
    "        \n",
    "        # CDF\n",
    "        cdf_fit = dist.cdf(percentile_cutoffs, *param)\n",
    "        expected_frequency = []\n",
    "        for bin in range(len(percentile_bins)-1):\n",
    "            expected_cdf_area = cdf_fit[bin+1] - cdf_fit[bin]\n",
    "            expected_frequency.append(expected_cdf_area)\n",
    "        \n",
    "        # Chi-Square\n",
    "        expected_frequency = np.array(expected_frequency) * size\n",
    "        cum_expected_frequency = np.cumsum(expected_frequency)\n",
    "        ss = round(sum (((cum_expected_frequency - cum_obs_frequency) ** 2) / cum_obs_frequency), 0)\n",
    "        chi_square_statistics.append(ss)\n",
    "    \n",
    "    # Sort\n",
    "    results = pd.DataFrame()\n",
    "    results['Distribution'] = dist_names\n",
    "    results['Chi_square'] = chi_square_statistics\n",
    "    results.sort_values(['Chi_square'], inplace=True)\n",
    "    \n",
    "    print('\\nDistributions listed by Goodness of Fit:')\n",
    "    print('..........................................')\n",
    "    print(results)   \n",
    "    "
   ]
  },
  {
   "cell_type": "code",
   "execution_count": 26,
   "metadata": {
    "scrolled": false
   },
   "outputs": [
    {
     "ename": "ValueError",
     "evalue": "operands could not be broadcast together with shapes (3,) (100000,) ",
     "output_type": "error",
     "traceback": [
      "\u001b[1;31m---------------------------------------------------------------------------\u001b[0m",
      "\u001b[1;31mValueError\u001b[0m                                Traceback (most recent call last)",
      "\u001b[1;32m<ipython-input-26-245a1e1c6b0d>\u001b[0m in \u001b[0;36m<module>\u001b[1;34m\u001b[0m\n\u001b[1;32m----> 1\u001b[1;33m \u001b[0mcompute_chi_square\u001b[0m\u001b[1;33m(\u001b[0m\u001b[0mtest_array\u001b[0m\u001b[1;33m)\u001b[0m\u001b[1;33m\u001b[0m\u001b[1;33m\u001b[0m\u001b[0m\n\u001b[0m",
      "\u001b[1;32m<ipython-input-23-87b57e2a1d74>\u001b[0m in \u001b[0;36mcompute_chi_square\u001b[1;34m(data)\u001b[0m\n\u001b[0;32m     27\u001b[0m         \u001b[0mdist\u001b[0m \u001b[1;33m=\u001b[0m \u001b[0mgetattr\u001b[0m\u001b[1;33m(\u001b[0m\u001b[0mscipy\u001b[0m\u001b[1;33m.\u001b[0m\u001b[0mstats\u001b[0m\u001b[1;33m,\u001b[0m \u001b[0mdistribution\u001b[0m\u001b[1;33m)\u001b[0m\u001b[1;33m\u001b[0m\u001b[1;33m\u001b[0m\u001b[0m\n\u001b[0;32m     28\u001b[0m         \u001b[0mparam\u001b[0m \u001b[1;33m=\u001b[0m \u001b[0mdist\u001b[0m\u001b[1;33m.\u001b[0m\u001b[0mfit\u001b[0m\u001b[1;33m(\u001b[0m\u001b[0mdata\u001b[0m\u001b[1;33m)\u001b[0m\u001b[1;33m\u001b[0m\u001b[1;33m\u001b[0m\u001b[0m\n\u001b[1;32m---> 29\u001b[1;33m         \u001b[0mlog_likelihood\u001b[0m \u001b[1;33m=\u001b[0m \u001b[0mnp\u001b[0m\u001b[1;33m.\u001b[0m\u001b[0mlog\u001b[0m\u001b[1;33m(\u001b[0m\u001b[0mnp\u001b[0m\u001b[1;33m.\u001b[0m\u001b[0mproduct\u001b[0m\u001b[1;33m(\u001b[0m\u001b[0mdist\u001b[0m\u001b[1;33m.\u001b[0m\u001b[0mpdf\u001b[0m\u001b[1;33m(\u001b[0m\u001b[0mdata\u001b[0m\u001b[1;33m,\u001b[0m \u001b[0mparam\u001b[0m\u001b[1;33m)\u001b[0m\u001b[1;33m)\u001b[0m\u001b[1;33m)\u001b[0m\u001b[1;33m\u001b[0m\u001b[1;33m\u001b[0m\u001b[0m\n\u001b[0m\u001b[0;32m     30\u001b[0m         print('Distribution: ' + distribution + ' || Parameters: ' + str(param) + '|| Log-likelihood: ' + \n\u001b[0;32m     31\u001b[0m               log_likelihood + '\\n')\n",
      "\u001b[1;32m~\\Anaconda3\\lib\\site-packages\\scipy\\stats\\_distn_infrastructure.py\u001b[0m in \u001b[0;36mpdf\u001b[1;34m(self, x, *args, **kwds)\u001b[0m\n\u001b[0;32m   1761\u001b[0m         \u001b[0mcond0\u001b[0m \u001b[1;33m=\u001b[0m \u001b[0mself\u001b[0m\u001b[1;33m.\u001b[0m\u001b[0m_argcheck\u001b[0m\u001b[1;33m(\u001b[0m\u001b[1;33m*\u001b[0m\u001b[0margs\u001b[0m\u001b[1;33m)\u001b[0m \u001b[1;33m&\u001b[0m \u001b[1;33m(\u001b[0m\u001b[0mscale\u001b[0m \u001b[1;33m>\u001b[0m \u001b[1;36m0\u001b[0m\u001b[1;33m)\u001b[0m\u001b[1;33m\u001b[0m\u001b[1;33m\u001b[0m\u001b[0m\n\u001b[0;32m   1762\u001b[0m         \u001b[0mcond1\u001b[0m \u001b[1;33m=\u001b[0m \u001b[0mself\u001b[0m\u001b[1;33m.\u001b[0m\u001b[0m_support_mask\u001b[0m\u001b[1;33m(\u001b[0m\u001b[0mx\u001b[0m\u001b[1;33m,\u001b[0m \u001b[1;33m*\u001b[0m\u001b[0margs\u001b[0m\u001b[1;33m)\u001b[0m \u001b[1;33m&\u001b[0m \u001b[1;33m(\u001b[0m\u001b[0mscale\u001b[0m \u001b[1;33m>\u001b[0m \u001b[1;36m0\u001b[0m\u001b[1;33m)\u001b[0m\u001b[1;33m\u001b[0m\u001b[1;33m\u001b[0m\u001b[0m\n\u001b[1;32m-> 1763\u001b[1;33m         \u001b[0mcond\u001b[0m \u001b[1;33m=\u001b[0m \u001b[0mcond0\u001b[0m \u001b[1;33m&\u001b[0m \u001b[0mcond1\u001b[0m\u001b[1;33m\u001b[0m\u001b[1;33m\u001b[0m\u001b[0m\n\u001b[0m\u001b[0;32m   1764\u001b[0m         \u001b[0moutput\u001b[0m \u001b[1;33m=\u001b[0m \u001b[0mzeros\u001b[0m\u001b[1;33m(\u001b[0m\u001b[0mshape\u001b[0m\u001b[1;33m(\u001b[0m\u001b[0mcond\u001b[0m\u001b[1;33m)\u001b[0m\u001b[1;33m,\u001b[0m \u001b[0mdtyp\u001b[0m\u001b[1;33m)\u001b[0m\u001b[1;33m\u001b[0m\u001b[1;33m\u001b[0m\u001b[0m\n\u001b[0;32m   1765\u001b[0m         \u001b[0mputmask\u001b[0m\u001b[1;33m(\u001b[0m\u001b[0moutput\u001b[0m\u001b[1;33m,\u001b[0m \u001b[1;33m(\u001b[0m\u001b[1;36m1\u001b[0m\u001b[1;33m-\u001b[0m\u001b[0mcond0\u001b[0m\u001b[1;33m)\u001b[0m\u001b[1;33m+\u001b[0m\u001b[0mnp\u001b[0m\u001b[1;33m.\u001b[0m\u001b[0misnan\u001b[0m\u001b[1;33m(\u001b[0m\u001b[0mx\u001b[0m\u001b[1;33m)\u001b[0m\u001b[1;33m,\u001b[0m \u001b[0mself\u001b[0m\u001b[1;33m.\u001b[0m\u001b[0mbadvalue\u001b[0m\u001b[1;33m)\u001b[0m\u001b[1;33m\u001b[0m\u001b[1;33m\u001b[0m\u001b[0m\n",
      "\u001b[1;31mValueError\u001b[0m: operands could not be broadcast together with shapes (3,) (100000,) "
     ]
    }
   ],
   "source": [
    "compute_chi_square(test_array)"
   ]
  },
  {
   "cell_type": "markdown",
   "metadata": {},
   "source": [
    "## Choose Model"
   ]
  },
  {
   "cell_type": "markdown",
   "metadata": {},
   "source": [
    "### Non-Nested Likelihood Ratio Test"
   ]
  },
  {
   "cell_type": "code",
   "execution_count": 27,
   "metadata": {},
   "outputs": [],
   "source": [
    "### Computations of the test"
   ]
  },
  {
   "cell_type": "markdown",
   "metadata": {},
   "source": [
    "### Q-Q Plot"
   ]
  },
  {
   "cell_type": "code",
   "execution_count": 17,
   "metadata": {
    "scrolled": true
   },
   "outputs": [
    {
     "data": {
      "image/png": "[encoded data removed]",
      "text/plain": [
       "<Figure size 576x576 with 1 Axes>"
      ]
     },
     "metadata": {
      "needs_background": "light"
     },
     "output_type": "display_data"
    }
   ],
   "source": [
    "y_std,_,_ = standarise(test_array, 0.99, 0.01)\n",
    "\n",
    "data_points = scipy.stats.beta.rvs(1.845363833710495, 1.9930181654900756, 9.193002210521788, 3.6222049153761584, size=2000)   \n",
    "data_points2 = scipy.stats.weibull_min.rvs(2.502664460995821, 9.006142851433948, 2.180353831209773,size = 2000) \n",
    "\n",
    "f, ax = plt.subplots(figsize=(8,8))\n",
    "ax.plot([-2, 2], [9, 13], ls=\"--\", c=\".3\")\n",
    "\n",
    "percentile_bins = np.linspace(0,100,51)\n",
    "percentile_cutoffs1 = np.percentile(y_std, percentile_bins)\n",
    "percentile_cutoffs_expon= np.percentile(data_points, percentile_bins)\n",
    "\n",
    "\n",
    "percentile_cutoffs_invgauss = np.percentile(data_points2, percentile_bins)\n",
    "\n",
    "\n",
    "ax.scatter(percentile_cutoffs1,percentile_cutoffs_invgauss,c='orange',label = 'Weibull Min distribution',s = 40)\n",
    "ax.scatter(percentile_cutoffs1,percentile_cutoffs_expon,c='blue',label = 'Exponential Distribution',s = 40)\n",
    "\n",
    "\n",
    "ax.set_xlabel('Theoretical cumulative distribution')\n",
    "ax.set_ylabel('Observed cumulative distribution')\n",
    "ax.legend()\n",
    "plt.show()"
   ]
  },
  {
   "cell_type": "code",
   "execution_count": 13,
   "metadata": {},
   "outputs": [],
   "source": [
    "import seaborn as sns"
   ]
  },
  {
   "cell_type": "code",
   "execution_count": 14,
   "metadata": {},
   "outputs": [],
   "source": [
    "a = scipy.stats.beta.pdf(test_array,1.845363833710495, 1.9930181654900756, 9.193002210521788, 3.6222049153761584)"
   ]
  },
  {
   "cell_type": "code",
   "execution_count": 15,
   "metadata": {
    "scrolled": false
   },
   "outputs": [
    {
     "name": "stderr",
     "output_type": "stream",
     "text": [
      "C:\\Users\\oriol.garrobe\\Anaconda3\\lib\\site-packages\\seaborn\\distributions.py:2551: FutureWarning: `distplot` is a deprecated function and will be removed in a future version. Please adapt your code to use either `displot` (a figure-level function with similar flexibility) or `histplot` (an axes-level function for histograms).\n",
      "  warnings.warn(msg, FutureWarning)\n"
     ]
    },
    {
     "data": {
      "text/plain": [
       "<AxesSubplot:ylabel='Density'>"
      ]
     },
     "execution_count": 15,
     "metadata": {},
     "output_type": "execute_result"
    },
    {
     "data": {
      "image/png": "[encoded data removed]",
      "text/plain": [
       "<Figure size 432x288 with 1 Axes>"
      ]
     },
     "metadata": {
      "needs_background": "light"
     },
     "output_type": "display_data"
    }
   ],
   "source": [
    "sns.distplot(a = test_array, kde = False, norm_hist=True)\n",
    "sns.kdeplot(data = test_array, shade= False)"
   ]
  },
  {
   "cell_type": "code",
   "execution_count": 16,
   "metadata": {},
   "outputs": [
    {
     "name": "stderr",
     "output_type": "stream",
     "text": [
      "C:\\Users\\oriol.garrobe\\Anaconda3\\lib\\site-packages\\seaborn\\distributions.py:2551: FutureWarning: `distplot` is a deprecated function and will be removed in a future version. Please adapt your code to use either `displot` (a figure-level function with similar flexibility) or `histplot` (an axes-level function for histograms).\n",
      "  warnings.warn(msg, FutureWarning)\n"
     ]
    },
    {
     "data": {
      "text/plain": [
       "[<matplotlib.lines.Line2D at 0x15997c21bb0>]"
      ]
     },
     "execution_count": 16,
     "metadata": {},
     "output_type": "execute_result"
    },
    {
     "data": {
      "image/png": "[encoded data removed]",
      "text/plain": [
       "<Figure size 432x288 with 1 Axes>"
      ]
     },
     "metadata": {
      "needs_background": "light"
     },
     "output_type": "display_data"
    }
   ],
   "source": [
    "sns.distplot(a = test_array, kde = False, norm_hist=True)\n",
    "plt.plot(test_array, scipy.stats.beta.pdf(test_array,1.845363833710495, 1.9930181654900756, 9.193002210521788, 3.6222049153761584))"
   ]
  },
  {
   "cell_type": "markdown",
   "metadata": {},
   "source": [
    "### Kolmogorov-Smirnoff 2 Sample Test"
   ]
  },
  {
   "cell_type": "code",
   "execution_count": 18,
   "metadata": {},
   "outputs": [],
   "source": [
    "from scipy.stats import ks_2samp"
   ]
  },
  {
   "cell_type": "code",
   "execution_count": 19,
   "metadata": {
    "scrolled": true
   },
   "outputs": [
    {
     "name": "stdout",
     "output_type": "stream",
     "text": [
      "KstestResult(statistic=0.019, pvalue=0.8633028038475316)\n"
     ]
    }
   ],
   "source": [
    "data1 = np.random.choice(a = test_array, size = 2000)\n",
    "data2 = data_points\n",
    "test = ks_2samp(data1,data2)\n",
    "print(test)"
   ]
  },
  {
   "cell_type": "code",
   "execution_count": 20,
   "metadata": {},
   "outputs": [],
   "source": [
    "test_statistic = 0.034"
   ]
  },
  {
   "cell_type": "code",
   "execution_count": 21,
   "metadata": {},
   "outputs": [
    {
     "data": {
      "text/plain": [
       "0.35115049005613913"
      ]
     },
     "execution_count": 21,
     "metadata": {},
     "output_type": "execute_result"
    }
   ],
   "source": [
    "n1 = 30\n",
    "n2 = 30\n",
    "alpha = 0.05\n",
    "c_alpha = 1.36 # Make a dict mapping c values to alpha\n",
    "critical_value = c_alpha * ((n1 + n2)/(n1*n2))**0.5 \n",
    "critical_value"
   ]
  },
  {
   "cell_type": "code",
   "execution_count": 22,
   "metadata": {},
   "outputs": [
    {
     "name": "stdout",
     "output_type": "stream",
     "text": [
      "The two samples come from same distributions\n"
     ]
    }
   ],
   "source": [
    ",if test_statistic > critical_value:\n",
    "    print('The two samples come from different distributions')\n",
    "else:\n",
    "    print('The two samples come from same distributions')"
   ]
  }
 ],
 "metadata": {
  "kernelspec": {
   "display_name": "Python 3",
   "language": "python",
   "name": "python3"
  },
  "language_info": {
   "codemirror_mode": {
    "name": "ipython",
    "version": 3
   },
   "file_extension": ".py",
   "mimetype": "text/x-python",
   "name": "python",
   "nbconvert_exporter": "python",
   "pygments_lexer": "ipython3",
   "version": "3.8.5"
  }
 },
 "nbformat": 4,
 "nbformat_minor": 4
}
