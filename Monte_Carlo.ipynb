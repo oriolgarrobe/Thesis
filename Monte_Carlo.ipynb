{
 "cells": [
  {
   "cell_type": "code",
   "execution_count": 11,
   "metadata": {},
   "outputs": [],
   "source": [
    "import numpy as np\n",
    "import math\n",
    "import random\n",
    "from matplotlib import pyplot as plt\n",
    "import time"
   ]
  },
  {
   "cell_type": "code",
   "execution_count": null,
   "metadata": {},
   "outputs": [],
   "source": [
    "# For Monte Carlo Approach\n",
    "\n",
    "for i in range(10):\n",
    "    print(random.uniform(1,10))"
   ]
  },
  {
   "cell_type": "code",
   "execution_count": null,
   "metadata": {},
   "outputs": [],
   "source": []
  },
  {
   "cell_type": "code",
   "execution_count": null,
   "metadata": {},
   "outputs": [],
   "source": [
    "def simulation(n_points, dist_components):\n",
    "    \"\"\"\n",
    "    Function that simulates observations for bla bla. \n",
    "    Input:\n",
    "    - n_points : number of points simulated\n",
    "    - dist_components: distributon assumed for the components\n",
    "    \"\"\"\n",
    "    \n",
    " \n",
    "\n",
    "\n",
    "\n",
    "\n",
    "\n",
    "\n",
    "\n",
    "\n",
    "\n",
    "\n",
    "\n",
    "\n",
    "\n",
    "\n",
    "\n",
    "\n",
    "\n",
    "\n",
    "\n"
   ]
  },
  {
   "cell_type": "code",
   "execution_count": null,
   "metadata": {},
   "outputs": [],
   "source": [
    "\" I am trying new stuff\""
   ]
  },
  {
   "cell_type": "code",
   "execution_count": null,
   "metadata": {},
   "outputs": [],
   "source": []
  },
  {
   "cell_type": "code",
   "execution_count": null,
   "metadata": {},
   "outputs": [],
   "source": [
    "\"whats going on\""
   ]
  },
  {
   "cell_type": "code",
   "execution_count": null,
   "metadata": {},
   "outputs": [],
   "source": []
  },
  {
   "cell_type": "code",
   "execution_count": null,
   "metadata": {},
   "outputs": [],
   "source": []
  },
  {
   "cell_type": "code",
   "execution_count": null,
   "metadata": {},
   "outputs": [],
   "source": []
  },
  {
   "cell_type": "code",
   "execution_count": null,
   "metadata": {},
   "outputs": [],
   "source": []
  },
  {
   "cell_type": "code",
   "execution_count": null,
   "metadata": {},
   "outputs": [],
   "source": []
  },
  {
   "cell_type": "code",
   "execution_count": null,
   "metadata": {},
   "outputs": [],
   "source": []
  },
  {
   "cell_type": "code",
   "execution_count": null,
   "metadata": {},
   "outputs": [],
   "source": [
    "# For Simulation Assuming Distributions\n",
    "\n",
    "for i in range(10):\n",
    "    print(random.gauss(0,1))"
   ]
  },
  {
   "cell_type": "code",
   "execution_count": 16,
   "metadata": {},
   "outputs": [
    {
     "name": "stdout",
     "output_type": "stream",
     "text": [
      "3994208\n"
     ]
    }
   ],
   "source": [
    "# Monte Carlo simulations\n",
    "\n",
    "def io_20(Vin):\n",
    "    V1 = Vin * random.uniform(1,2)\n",
    "    V2 = V1 * random.uniform(1,2)\n",
    "    V3 = V2 * random.uniform(1,2)\n",
    "    V4 = V3 * random.uniform(1,2)\n",
    "    V5 = V4 * random.uniform(1,2)\n",
    "    V6 = V5 * random.uniform(1,2)\n",
    "    V7 = V6 * random.uniform(1,2)\n",
    "    V8 = V7 * random.uniform(1,2)\n",
    "    V9 = V8 * random.uniform(1,2)\n",
    "    V10 = V9 * random.uniform(1,2)\n",
    "    V11 = V10 * random.uniform(1,2)\n",
    "    V12 = V11 * random.uniform(1,2)\n",
    "    V13 = V12 * random.uniform(1,2)\n",
    "    V14 = V13 * random.uniform(1,2)\n",
    "    V15 = V14 * random.uniform(1,2)\n",
    "    V16 = V15 * random.uniform(1,2)\n",
    "    V17 = V16 * random.uniform(1,2)\n",
    "    V18 = V17 * random.uniform(1,2)\n",
    "    V19 = V18 * random.uniform(1,2)\n",
    "    V20 = V19 * random.uniform(1,2)\n",
    "    return(0)\n",
    "\n",
    "start_time = time.time()\n",
    "i = 0\n",
    "while tot_time < 60:\n",
    "    io_20(13)\n",
    "    end_time = time.time()\n",
    "    tot_time = end_time - start_time\n",
    "    i += 1\n",
    "print(i)"
   ]
  },
  {
   "cell_type": "code",
   "execution_count": 18,
   "metadata": {},
   "outputs": [
    {
     "name": "stdout",
     "output_type": "stream",
     "text": [
      "1777294\n"
     ]
    }
   ],
   "source": [
    "# Monte Carlo simulations\n",
    "\n",
    "def gio_20(Vin):\n",
    "    V1 = Vin * random.gauss(1,2)\n",
    "    V2 = V1 * random.gauss(1,2)\n",
    "    V3 = V2 * random.gauss(1,2)\n",
    "    V4 = V3 * random.gauss(1,2)\n",
    "    V5 = V4 * random.gauss(1,2)\n",
    "    V6 = V5 * random.gauss(1,2)\n",
    "    V7 = V6 * random.gauss(1,2)\n",
    "    V8 = V7 * random.gauss(1,2)\n",
    "    V9 = V8 * random.gauss(1,2)\n",
    "    V10 = V9 * random.gauss(1,2)\n",
    "    V11 = V10 * random.gauss(1,2)\n",
    "    V12 = V11 * random.gauss(1,2)\n",
    "    V13 = V12 * random.gauss(1,2)\n",
    "    V14 = V13 * random.gauss(1,2)\n",
    "    V15 = V14 * random.gauss(1,2)\n",
    "    V16 = V15 * random.gauss(1,2)\n",
    "    V17 = V16 * random.gauss(1,2)\n",
    "    V18 = V17 * random.gauss(1,2)\n",
    "    V19 = V18 * random.gauss(1,2)\n",
    "    V20 = V19 * random.gauss(1,2)\n",
    "    return(0)\n",
    "\n",
    "start_time = time.time()\n",
    "tot_time = 0\n",
    "i = 0\n",
    "while tot_time < 60:\n",
    "    gio_20(13)\n",
    "    end_time = time.time()\n",
    "    tot_time = end_time - start_time\n",
    "    i += 1\n",
    "print(i)"
   ]
  }
 ],
 "metadata": {
  "kernelspec": {
   "display_name": "Python 3",
   "language": "python",
   "name": "python3"
  },
  "language_info": {
   "codemirror_mode": {
    "name": "ipython",
    "version": 3
   },
   "file_extension": ".py",
   "mimetype": "text/x-python",
   "name": "python",
   "nbconvert_exporter": "python",
   "pygments_lexer": "ipython3",
   "version": "3.7.4"
  }
 },
 "nbformat": 4,
 "nbformat_minor": 4
}
