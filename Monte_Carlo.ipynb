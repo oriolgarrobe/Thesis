{
 "cells": [
  {
   "cell_type": "code",
   "execution_count": 9,
   "metadata": {},
   "outputs": [],
   "source": [
    "import numpy as np\n",
    "import math\n",
    "import random\n",
    "from matplotlib import pyplot as plt"
   ]
  },
  {
   "cell_type": "code",
   "execution_count": 8,
   "metadata": {
    "scrolled": false
   },
   "outputs": [
    {
     "name": "stdout",
     "output_type": "stream",
     "text": [
      "9.549721931483209\n",
      "1.4701909239845508\n",
      "9.579804944240557\n",
      "1.0658251623608335\n",
      "3.600117098677355\n",
      "9.435883971864476\n",
      "3.6851372024371707\n",
      "5.670227818627141\n",
      "5.072191996125119\n",
      "7.251281930766034\n"
     ]
    }
   ],
   "source": [
    "# For Monte Carlo Approach\n",
    "\n",
    "for i in range(10):\n",
    "    print(random.uniform(1,10))"
   ]
  },
  {
   "cell_type": "code",
   "execution_count": 13,
   "metadata": {},
   "outputs": [
    {
     "name": "stdout",
     "output_type": "stream",
     "text": [
      "1.090032024403626\n",
      "0.8371630823865888\n",
      "2.157955695099237\n",
      "-2.7063966493803546\n",
      "-1.8206652091076283\n",
      "1.5212949624732819\n",
      "-0.5270236939415323\n",
      "-1.1154462205692968\n",
      "0.3971036225086773\n",
      "-0.404906679268235\n"
     ]
    }
   ],
   "source": [
    "# For Simulation Assuming Distributions\n",
    "\n",
    "for i in range(10):\n",
    "    print(random.gauss(0,1))"
   ]
  },
  {
   "cell_type": "code",
   "execution_count": 8,
   "metadata": {},
   "outputs": [
    {
     "data": {
      "text/plain": [
       "0.2568810770381451"
      ]
     },
     "execution_count": 8,
     "metadata": {},
     "output_type": "execute_result"
    }
   ],
   "source": [
    "# Duty Cycle\n",
    "\n",
    "# Variables Definition\n",
    "Vout =  np.array([3.2, 3.3, 3.4])# Vpre_static [3.2, 3.3, 3.4]V\n",
    "LS_Ron = 0.01 # Rds_on1 [6.3, 8.3, 11] mOhms\n",
    "Iout = 3.45 # Iload_3V3M [2.64, 3.03, 3.45]\n",
    "Vin = 13.37 # Vpre_in [13.3, 13.35, 13.37]V -> INPUT!!!!\n",
    "HS_Ron = LS_Ron #Rds_on1 \n",
    "\n",
    "# Formula\n",
    "D = (Vout + (LS_Ron * Iout))/(Vin - (HS_Ron * Iout) + (LS_Ron * Iout))\n",
    "D\n",
    "\n",
    "# Expected Result for: VBat_range = 13.5V -> D3v3 = [0.242, 0.249, 0.257]"
   ]
  },
  {
   "cell_type": "code",
   "execution_count": 11,
   "metadata": {},
   "outputs": [
    {
     "data": {
      "text/plain": [
       "array([3.2, 3.3, 3.4])"
      ]
     },
     "execution_count": 11,
     "metadata": {},
     "output_type": "execute_result"
    }
   ],
   "source": [
    "Vout =  np.array([3.2, 3.3, 3.4])# Vpre_static [3.2, 3.3, 3.4]V"
   ]
  }
 ],
 "metadata": {
  "kernelspec": {
   "display_name": "Python 3",
   "language": "python",
   "name": "python3"
  },
  "language_info": {
   "codemirror_mode": {
    "name": "ipython",
    "version": 3
   },
   "file_extension": ".py",
   "mimetype": "text/x-python",
   "name": "python",
   "nbconvert_exporter": "python",
   "pygments_lexer": "ipython3",
   "version": "3.7.4"
  }
 },
 "nbformat": 4,
 "nbformat_minor": 4
}
